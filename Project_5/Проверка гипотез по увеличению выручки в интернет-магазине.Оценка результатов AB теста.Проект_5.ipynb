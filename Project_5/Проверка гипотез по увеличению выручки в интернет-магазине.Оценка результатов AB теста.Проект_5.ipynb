{
 "cells": [
  {
   "cell_type": "markdown",
   "metadata": {},
   "source": [
    "# Проверка гипотез по увеличению выручки в интернет-магазине — оценка результатов A/B теста. "
   ]
  },
  {
   "cell_type": "markdown",
   "metadata": {},
   "source": [
    "**ОПИСАНИЕ ПРОЕКТА**\n",
    "\n",
    "*Вы — аналитик крупного интернет-магазина. Вместе с отделом маркетинга вы подготовили список гипотез для увеличения выручки.\n",
    "Приоритизируйте гипотезы, запустите A/B-тест и проанализируйте результаты.*\n",
    "\n",
    " \n"
   ]
  },
  {
   "cell_type": "markdown",
   "metadata": {},
   "source": [
    "**ЦЕЛЬ ПРОЕКТА**\n",
    "\n",
    "*1. Приоритезировать гипотезы по улучшению работы интернет-магазина.*\n",
    "\n",
    "*2. Запустить А/В-тест.*\n",
    "\n",
    "*3. Проанализировать результаты А/В-теста, сделать выводы и дать рекомендации по дальнейшим действиям отделу маркетинга.*\n"
   ]
  },
  {
   "cell_type": "markdown",
   "metadata": {},
   "source": [
    "**ОПИСАНИЕ ДАННЫХ**\n",
    "\n",
    "**Данные для I части.**\n",
    "\n",
    "**Файл**\n",
    "- `hypothesis.csv` — список гипотез, \n",
    "\n",
    "**Путь к файлу**\n",
    "- гипотезы: `/datasets/hypothesis.csv`\n",
    "\n",
    "**Структура hypothesis.csv:**\n",
    "- `Hypothesis` — краткое описание гипотезы;\n",
    "- `Reach` — охват пользователей по 10-балльной шкале;\n",
    "- `Impact` — влияние на пользователей по 10-балльной шкале;\n",
    "- `Confidence` — уверенность в гипотезе по 10-балльной шкале;\n",
    "- `Efforts` — затраты ресурсов на проверку гипотезы по 10-балльной шкале.\n",
    "\n",
    "**Данные для II части.**\n",
    "\n",
    "**Файлы**\n",
    "- `orders.csv` — хранит информацию о заказах;\n",
    "- `visitiors.csv` — хранит информацию о посещениях сайта.\n",
    "\n",
    "**Пути к файлам**\n",
    "- заказы: `/datasets/orders.csv`;\n",
    "- посетители: `/datasets/visitiors.csv`.\n",
    "\n",
    "**Структура orders.csv:**\n",
    "- `transactionId` — идентификатор заказа;\n",
    "- `visitorId` — идентификатор пользователя, совершившего заказ;\n",
    "- `date` — дата, когда был совершён заказ;\n",
    "- `revenue` — выручка заказа;\n",
    "- `group` — группа A/B-теста, в которую попал заказ.\n",
    "\n",
    "**Структура visitiors.csv:**\n",
    "- `date` — дата;\n",
    "- `group` —  группа A/B-теста;\n",
    "- `visitors` — количество пользователей в указанную дату в указанной группе A/B-теста.\n"
   ]
  },
  {
   "cell_type": "markdown",
   "metadata": {},
   "source": [
    "## Изучим общую информацию о данных"
   ]
  },
  {
   "cell_type": "markdown",
   "metadata": {},
   "source": [
    "**Импортируем необходимые для работы над проектом библиотеки.**"
   ]
  },
  {
   "cell_type": "code",
   "execution_count": 1,
   "metadata": {},
   "outputs": [],
   "source": [
    "import pandas as pd\n",
    "import datetime as dt\n",
    "import numpy as np\n",
    "from matplotlib import pyplot as plt\n",
    "%matplotlib inline\n",
    "import scipy.stats as stats\n",
    "pd.set_option('display.max_colwidth', None)\n",
    "pd.set_option(\"display.max_rows\", None)"
   ]
  },
  {
   "cell_type": "markdown",
   "metadata": {},
   "source": [
    "**Считаем данные из csv-файлов в датафреймы, сохраним в переменные `hypotheses`,`visits`, `orders`.**"
   ]
  },
  {
   "cell_type": "code",
   "execution_count": 2,
   "metadata": {},
   "outputs": [],
   "source": [
    "hypotheses,orders,visits = (pd.read_csv(r\"D:\\WinUsers\\Lenovo\\Desktop\\ПРОЕКТНЫЕ ФАЙЛЫ.CSV\\Проект_5\\hypothesis.csv\"),\n",
    "                     pd.read_csv(r\"D:\\WinUsers\\Lenovo\\Desktop\\ПРОЕКТНЫЕ ФАЙЛЫ.CSV\\Проект_5\\orders.csv\"),\n",
    "                     pd.read_csv(r\"D:\\WinUsers\\Lenovo\\Desktop\\ПРОЕКТНЫЕ ФАЙЛЫ.CSV\\Проект_5\\visitors.csv\"))\n"
   ]
  },
  {
   "cell_type": "markdown",
   "metadata": {},
   "source": [
    "**Напишем функцию `data_analysis()` для обзора и анализа данных.**"
   ]
  },
  {
   "cell_type": "code",
   "execution_count": 3,
   "metadata": {},
   "outputs": [],
   "source": [
    "def data_analysis(df):\n",
    "    display (df.head())\n",
    "    print('*'*80),\n",
    "    df.info()\n",
    "    print('*'*80)\n",
    "    display (df.describe())\n",
    "    print('*'*80),\n",
    "    display (df.describe (include='object'))\n",
    "    print('*'*80)\n",
    "    print(f'Количество уникальных значений по столбцам датафрейма:\\n{df.nunique()}') #display (df.nunique())\n",
    "    print('*'*80)\n",
    "    print(f'Пропущенные значения во всех столбцах датафрейма:\\n{df.isna().sum()}')\n",
    "    print('*'*80)\n",
    "    print(f'Количество явных дубликатов: {df.duplicated().sum()}')\n",
    "    print(f'Доля явных дубликатов от общего количества данных:'\n",
    "          f'{(round(df.duplicated().sum() / len(df), 4)):.2%}')"
   ]
  },
  {
   "cell_type": "markdown",
   "metadata": {},
   "source": [
    "**Проанализируем данные о заказах в датафрейме `hypotheses`.**"
   ]
  },
  {
   "cell_type": "code",
   "execution_count": 4,
   "metadata": {
    "scrolled": true
   },
   "outputs": [
    {
     "data": {
      "text/html": [
       "<div>\n",
       "<style scoped>\n",
       "    .dataframe tbody tr th:only-of-type {\n",
       "        vertical-align: middle;\n",
       "    }\n",
       "\n",
       "    .dataframe tbody tr th {\n",
       "        vertical-align: top;\n",
       "    }\n",
       "\n",
       "    .dataframe thead th {\n",
       "        text-align: right;\n",
       "    }\n",
       "</style>\n",
       "<table border=\"1\" class=\"dataframe\">\n",
       "  <thead>\n",
       "    <tr style=\"text-align: right;\">\n",
       "      <th></th>\n",
       "      <th>Hypothesis</th>\n",
       "      <th>Reach</th>\n",
       "      <th>Impact</th>\n",
       "      <th>Confidence</th>\n",
       "      <th>Efforts</th>\n",
       "    </tr>\n",
       "  </thead>\n",
       "  <tbody>\n",
       "    <tr>\n",
       "      <th>0</th>\n",
       "      <td>Добавить два новых канала привлечения трафика, что позволит привлекать на 30% больше пользователей</td>\n",
       "      <td>3</td>\n",
       "      <td>10</td>\n",
       "      <td>8</td>\n",
       "      <td>6</td>\n",
       "    </tr>\n",
       "    <tr>\n",
       "      <th>1</th>\n",
       "      <td>Запустить собственную службу доставки, что сократит срок доставки заказов</td>\n",
       "      <td>2</td>\n",
       "      <td>5</td>\n",
       "      <td>4</td>\n",
       "      <td>10</td>\n",
       "    </tr>\n",
       "    <tr>\n",
       "      <th>2</th>\n",
       "      <td>Добавить блоки рекомендаций товаров на сайт интернет магазина, чтобы повысить конверсию и средний чек заказа</td>\n",
       "      <td>8</td>\n",
       "      <td>3</td>\n",
       "      <td>7</td>\n",
       "      <td>3</td>\n",
       "    </tr>\n",
       "    <tr>\n",
       "      <th>3</th>\n",
       "      <td>Изменить структура категорий, что увеличит конверсию, т.к. пользователи быстрее найдут нужный товар</td>\n",
       "      <td>8</td>\n",
       "      <td>3</td>\n",
       "      <td>3</td>\n",
       "      <td>8</td>\n",
       "    </tr>\n",
       "    <tr>\n",
       "      <th>4</th>\n",
       "      <td>Изменить цвет фона главной страницы, чтобы увеличить вовлеченность пользователей</td>\n",
       "      <td>3</td>\n",
       "      <td>1</td>\n",
       "      <td>1</td>\n",
       "      <td>1</td>\n",
       "    </tr>\n",
       "  </tbody>\n",
       "</table>\n",
       "</div>"
      ],
      "text/plain": [
       "                                                                                                     Hypothesis  \\\n",
       "0            Добавить два новых канала привлечения трафика, что позволит привлекать на 30% больше пользователей   \n",
       "1                                     Запустить собственную службу доставки, что сократит срок доставки заказов   \n",
       "2  Добавить блоки рекомендаций товаров на сайт интернет магазина, чтобы повысить конверсию и средний чек заказа   \n",
       "3           Изменить структура категорий, что увеличит конверсию, т.к. пользователи быстрее найдут нужный товар   \n",
       "4                              Изменить цвет фона главной страницы, чтобы увеличить вовлеченность пользователей   \n",
       "\n",
       "   Reach  Impact  Confidence  Efforts  \n",
       "0      3      10           8        6  \n",
       "1      2       5           4       10  \n",
       "2      8       3           7        3  \n",
       "3      8       3           3        8  \n",
       "4      3       1           1        1  "
      ]
     },
     "metadata": {},
     "output_type": "display_data"
    },
    {
     "name": "stdout",
     "output_type": "stream",
     "text": [
      "********************************************************************************\n",
      "<class 'pandas.core.frame.DataFrame'>\n",
      "RangeIndex: 9 entries, 0 to 8\n",
      "Data columns (total 5 columns):\n",
      " #   Column      Non-Null Count  Dtype \n",
      "---  ------      --------------  ----- \n",
      " 0   Hypothesis  9 non-null      object\n",
      " 1   Reach       9 non-null      int64 \n",
      " 2   Impact      9 non-null      int64 \n",
      " 3   Confidence  9 non-null      int64 \n",
      " 4   Efforts     9 non-null      int64 \n",
      "dtypes: int64(4), object(1)\n",
      "memory usage: 492.0+ bytes\n",
      "********************************************************************************\n"
     ]
    },
    {
     "data": {
      "text/html": [
       "<div>\n",
       "<style scoped>\n",
       "    .dataframe tbody tr th:only-of-type {\n",
       "        vertical-align: middle;\n",
       "    }\n",
       "\n",
       "    .dataframe tbody tr th {\n",
       "        vertical-align: top;\n",
       "    }\n",
       "\n",
       "    .dataframe thead th {\n",
       "        text-align: right;\n",
       "    }\n",
       "</style>\n",
       "<table border=\"1\" class=\"dataframe\">\n",
       "  <thead>\n",
       "    <tr style=\"text-align: right;\">\n",
       "      <th></th>\n",
       "      <th>Reach</th>\n",
       "      <th>Impact</th>\n",
       "      <th>Confidence</th>\n",
       "      <th>Efforts</th>\n",
       "    </tr>\n",
       "  </thead>\n",
       "  <tbody>\n",
       "    <tr>\n",
       "      <th>count</th>\n",
       "      <td>9.000000</td>\n",
       "      <td>9.000000</td>\n",
       "      <td>9.000000</td>\n",
       "      <td>9.000000</td>\n",
       "    </tr>\n",
       "    <tr>\n",
       "      <th>mean</th>\n",
       "      <td>4.777778</td>\n",
       "      <td>4.777778</td>\n",
       "      <td>5.555556</td>\n",
       "      <td>4.888889</td>\n",
       "    </tr>\n",
       "    <tr>\n",
       "      <th>std</th>\n",
       "      <td>3.153481</td>\n",
       "      <td>3.192874</td>\n",
       "      <td>3.045944</td>\n",
       "      <td>2.803767</td>\n",
       "    </tr>\n",
       "    <tr>\n",
       "      <th>min</th>\n",
       "      <td>1.000000</td>\n",
       "      <td>1.000000</td>\n",
       "      <td>1.000000</td>\n",
       "      <td>1.000000</td>\n",
       "    </tr>\n",
       "    <tr>\n",
       "      <th>25%</th>\n",
       "      <td>3.000000</td>\n",
       "      <td>3.000000</td>\n",
       "      <td>3.000000</td>\n",
       "      <td>3.000000</td>\n",
       "    </tr>\n",
       "    <tr>\n",
       "      <th>50%</th>\n",
       "      <td>3.000000</td>\n",
       "      <td>3.000000</td>\n",
       "      <td>7.000000</td>\n",
       "      <td>5.000000</td>\n",
       "    </tr>\n",
       "    <tr>\n",
       "      <th>75%</th>\n",
       "      <td>8.000000</td>\n",
       "      <td>7.000000</td>\n",
       "      <td>8.000000</td>\n",
       "      <td>6.000000</td>\n",
       "    </tr>\n",
       "    <tr>\n",
       "      <th>max</th>\n",
       "      <td>10.000000</td>\n",
       "      <td>10.000000</td>\n",
       "      <td>9.000000</td>\n",
       "      <td>10.000000</td>\n",
       "    </tr>\n",
       "  </tbody>\n",
       "</table>\n",
       "</div>"
      ],
      "text/plain": [
       "           Reach     Impact  Confidence    Efforts\n",
       "count   9.000000   9.000000    9.000000   9.000000\n",
       "mean    4.777778   4.777778    5.555556   4.888889\n",
       "std     3.153481   3.192874    3.045944   2.803767\n",
       "min     1.000000   1.000000    1.000000   1.000000\n",
       "25%     3.000000   3.000000    3.000000   3.000000\n",
       "50%     3.000000   3.000000    7.000000   5.000000\n",
       "75%     8.000000   7.000000    8.000000   6.000000\n",
       "max    10.000000  10.000000    9.000000  10.000000"
      ]
     },
     "metadata": {},
     "output_type": "display_data"
    },
    {
     "name": "stdout",
     "output_type": "stream",
     "text": [
      "********************************************************************************\n"
     ]
    },
    {
     "data": {
      "text/html": [
       "<div>\n",
       "<style scoped>\n",
       "    .dataframe tbody tr th:only-of-type {\n",
       "        vertical-align: middle;\n",
       "    }\n",
       "\n",
       "    .dataframe tbody tr th {\n",
       "        vertical-align: top;\n",
       "    }\n",
       "\n",
       "    .dataframe thead th {\n",
       "        text-align: right;\n",
       "    }\n",
       "</style>\n",
       "<table border=\"1\" class=\"dataframe\">\n",
       "  <thead>\n",
       "    <tr style=\"text-align: right;\">\n",
       "      <th></th>\n",
       "      <th>Hypothesis</th>\n",
       "    </tr>\n",
       "  </thead>\n",
       "  <tbody>\n",
       "    <tr>\n",
       "      <th>count</th>\n",
       "      <td>9</td>\n",
       "    </tr>\n",
       "    <tr>\n",
       "      <th>unique</th>\n",
       "      <td>9</td>\n",
       "    </tr>\n",
       "    <tr>\n",
       "      <th>top</th>\n",
       "      <td>Добавить два новых канала привлечения трафика, что позволит привлекать на 30% больше пользователей</td>\n",
       "    </tr>\n",
       "    <tr>\n",
       "      <th>freq</th>\n",
       "      <td>1</td>\n",
       "    </tr>\n",
       "  </tbody>\n",
       "</table>\n",
       "</div>"
      ],
      "text/plain": [
       "                                                                                                Hypothesis\n",
       "count                                                                                                    9\n",
       "unique                                                                                                   9\n",
       "top     Добавить два новых канала привлечения трафика, что позволит привлекать на 30% больше пользователей\n",
       "freq                                                                                                     1"
      ]
     },
     "metadata": {},
     "output_type": "display_data"
    },
    {
     "name": "stdout",
     "output_type": "stream",
     "text": [
      "********************************************************************************\n",
      "Количество уникальных значений по столбцам датафрейма:\n",
      "Hypothesis    9\n",
      "Reach         6\n",
      "Impact        7\n",
      "Confidence    7\n",
      "Efforts       6\n",
      "dtype: int64\n",
      "********************************************************************************\n",
      "Пропущенные значения во всех столбцах датафрейма:\n",
      "Hypothesis    0\n",
      "Reach         0\n",
      "Impact        0\n",
      "Confidence    0\n",
      "Efforts       0\n",
      "dtype: int64\n",
      "********************************************************************************\n",
      "Количество явных дубликатов: 0\n",
      "Доля явных дубликатов от общего количества данных:0.00%\n"
     ]
    }
   ],
   "source": [
    "data_analysis(hypotheses)"
   ]
  },
  {
   "cell_type": "markdown",
   "metadata": {},
   "source": [
    "**Проанализируем данные о заказах в датафрейме `orders`.**"
   ]
  },
  {
   "cell_type": "code",
   "execution_count": 5,
   "metadata": {},
   "outputs": [
    {
     "data": {
      "text/html": [
       "<div>\n",
       "<style scoped>\n",
       "    .dataframe tbody tr th:only-of-type {\n",
       "        vertical-align: middle;\n",
       "    }\n",
       "\n",
       "    .dataframe tbody tr th {\n",
       "        vertical-align: top;\n",
       "    }\n",
       "\n",
       "    .dataframe thead th {\n",
       "        text-align: right;\n",
       "    }\n",
       "</style>\n",
       "<table border=\"1\" class=\"dataframe\">\n",
       "  <thead>\n",
       "    <tr style=\"text-align: right;\">\n",
       "      <th></th>\n",
       "      <th>transactionId</th>\n",
       "      <th>visitorId</th>\n",
       "      <th>date</th>\n",
       "      <th>revenue</th>\n",
       "      <th>group</th>\n",
       "    </tr>\n",
       "  </thead>\n",
       "  <tbody>\n",
       "    <tr>\n",
       "      <th>0</th>\n",
       "      <td>3667963787</td>\n",
       "      <td>3312258926</td>\n",
       "      <td>2019-08-15</td>\n",
       "      <td>1650</td>\n",
       "      <td>B</td>\n",
       "    </tr>\n",
       "    <tr>\n",
       "      <th>1</th>\n",
       "      <td>2804400009</td>\n",
       "      <td>3642806036</td>\n",
       "      <td>2019-08-15</td>\n",
       "      <td>730</td>\n",
       "      <td>B</td>\n",
       "    </tr>\n",
       "    <tr>\n",
       "      <th>2</th>\n",
       "      <td>2961555356</td>\n",
       "      <td>4069496402</td>\n",
       "      <td>2019-08-15</td>\n",
       "      <td>400</td>\n",
       "      <td>A</td>\n",
       "    </tr>\n",
       "    <tr>\n",
       "      <th>3</th>\n",
       "      <td>3797467345</td>\n",
       "      <td>1196621759</td>\n",
       "      <td>2019-08-15</td>\n",
       "      <td>9759</td>\n",
       "      <td>B</td>\n",
       "    </tr>\n",
       "    <tr>\n",
       "      <th>4</th>\n",
       "      <td>2282983706</td>\n",
       "      <td>2322279887</td>\n",
       "      <td>2019-08-15</td>\n",
       "      <td>2308</td>\n",
       "      <td>B</td>\n",
       "    </tr>\n",
       "  </tbody>\n",
       "</table>\n",
       "</div>"
      ],
      "text/plain": [
       "   transactionId   visitorId        date  revenue group\n",
       "0     3667963787  3312258926  2019-08-15     1650     B\n",
       "1     2804400009  3642806036  2019-08-15      730     B\n",
       "2     2961555356  4069496402  2019-08-15      400     A\n",
       "3     3797467345  1196621759  2019-08-15     9759     B\n",
       "4     2282983706  2322279887  2019-08-15     2308     B"
      ]
     },
     "metadata": {},
     "output_type": "display_data"
    },
    {
     "name": "stdout",
     "output_type": "stream",
     "text": [
      "********************************************************************************\n",
      "<class 'pandas.core.frame.DataFrame'>\n",
      "RangeIndex: 1197 entries, 0 to 1196\n",
      "Data columns (total 5 columns):\n",
      " #   Column         Non-Null Count  Dtype \n",
      "---  ------         --------------  ----- \n",
      " 0   transactionId  1197 non-null   int64 \n",
      " 1   visitorId      1197 non-null   int64 \n",
      " 2   date           1197 non-null   object\n",
      " 3   revenue        1197 non-null   int64 \n",
      " 4   group          1197 non-null   object\n",
      "dtypes: int64(3), object(2)\n",
      "memory usage: 46.9+ KB\n",
      "********************************************************************************\n"
     ]
    },
    {
     "data": {
      "text/html": [
       "<div>\n",
       "<style scoped>\n",
       "    .dataframe tbody tr th:only-of-type {\n",
       "        vertical-align: middle;\n",
       "    }\n",
       "\n",
       "    .dataframe tbody tr th {\n",
       "        vertical-align: top;\n",
       "    }\n",
       "\n",
       "    .dataframe thead th {\n",
       "        text-align: right;\n",
       "    }\n",
       "</style>\n",
       "<table border=\"1\" class=\"dataframe\">\n",
       "  <thead>\n",
       "    <tr style=\"text-align: right;\">\n",
       "      <th></th>\n",
       "      <th>transactionId</th>\n",
       "      <th>visitorId</th>\n",
       "      <th>revenue</th>\n",
       "    </tr>\n",
       "  </thead>\n",
       "  <tbody>\n",
       "    <tr>\n",
       "      <th>count</th>\n",
       "      <td>1.197000e+03</td>\n",
       "      <td>1.197000e+03</td>\n",
       "      <td>1.197000e+03</td>\n",
       "    </tr>\n",
       "    <tr>\n",
       "      <th>mean</th>\n",
       "      <td>2.155621e+09</td>\n",
       "      <td>2.165960e+09</td>\n",
       "      <td>8.348006e+03</td>\n",
       "    </tr>\n",
       "    <tr>\n",
       "      <th>std</th>\n",
       "      <td>1.229085e+09</td>\n",
       "      <td>1.236014e+09</td>\n",
       "      <td>3.919113e+04</td>\n",
       "    </tr>\n",
       "    <tr>\n",
       "      <th>min</th>\n",
       "      <td>1.062393e+06</td>\n",
       "      <td>5.114589e+06</td>\n",
       "      <td>5.000000e+01</td>\n",
       "    </tr>\n",
       "    <tr>\n",
       "      <th>25%</th>\n",
       "      <td>1.166776e+09</td>\n",
       "      <td>1.111826e+09</td>\n",
       "      <td>1.220000e+03</td>\n",
       "    </tr>\n",
       "    <tr>\n",
       "      <th>50%</th>\n",
       "      <td>2.145194e+09</td>\n",
       "      <td>2.217985e+09</td>\n",
       "      <td>2.978000e+03</td>\n",
       "    </tr>\n",
       "    <tr>\n",
       "      <th>75%</th>\n",
       "      <td>3.237740e+09</td>\n",
       "      <td>3.177606e+09</td>\n",
       "      <td>8.290000e+03</td>\n",
       "    </tr>\n",
       "    <tr>\n",
       "      <th>max</th>\n",
       "      <td>4.293856e+09</td>\n",
       "      <td>4.283872e+09</td>\n",
       "      <td>1.294500e+06</td>\n",
       "    </tr>\n",
       "  </tbody>\n",
       "</table>\n",
       "</div>"
      ],
      "text/plain": [
       "       transactionId     visitorId       revenue\n",
       "count   1.197000e+03  1.197000e+03  1.197000e+03\n",
       "mean    2.155621e+09  2.165960e+09  8.348006e+03\n",
       "std     1.229085e+09  1.236014e+09  3.919113e+04\n",
       "min     1.062393e+06  5.114589e+06  5.000000e+01\n",
       "25%     1.166776e+09  1.111826e+09  1.220000e+03\n",
       "50%     2.145194e+09  2.217985e+09  2.978000e+03\n",
       "75%     3.237740e+09  3.177606e+09  8.290000e+03\n",
       "max     4.293856e+09  4.283872e+09  1.294500e+06"
      ]
     },
     "metadata": {},
     "output_type": "display_data"
    },
    {
     "name": "stdout",
     "output_type": "stream",
     "text": [
      "********************************************************************************\n"
     ]
    },
    {
     "data": {
      "text/html": [
       "<div>\n",
       "<style scoped>\n",
       "    .dataframe tbody tr th:only-of-type {\n",
       "        vertical-align: middle;\n",
       "    }\n",
       "\n",
       "    .dataframe tbody tr th {\n",
       "        vertical-align: top;\n",
       "    }\n",
       "\n",
       "    .dataframe thead th {\n",
       "        text-align: right;\n",
       "    }\n",
       "</style>\n",
       "<table border=\"1\" class=\"dataframe\">\n",
       "  <thead>\n",
       "    <tr style=\"text-align: right;\">\n",
       "      <th></th>\n",
       "      <th>date</th>\n",
       "      <th>group</th>\n",
       "    </tr>\n",
       "  </thead>\n",
       "  <tbody>\n",
       "    <tr>\n",
       "      <th>count</th>\n",
       "      <td>1197</td>\n",
       "      <td>1197</td>\n",
       "    </tr>\n",
       "    <tr>\n",
       "      <th>unique</th>\n",
       "      <td>31</td>\n",
       "      <td>2</td>\n",
       "    </tr>\n",
       "    <tr>\n",
       "      <th>top</th>\n",
       "      <td>2019-08-05</td>\n",
       "      <td>B</td>\n",
       "    </tr>\n",
       "    <tr>\n",
       "      <th>freq</th>\n",
       "      <td>48</td>\n",
       "      <td>640</td>\n",
       "    </tr>\n",
       "  </tbody>\n",
       "</table>\n",
       "</div>"
      ],
      "text/plain": [
       "              date group\n",
       "count         1197  1197\n",
       "unique          31     2\n",
       "top     2019-08-05     B\n",
       "freq            48   640"
      ]
     },
     "metadata": {},
     "output_type": "display_data"
    },
    {
     "name": "stdout",
     "output_type": "stream",
     "text": [
      "********************************************************************************\n",
      "Количество уникальных значений по столбцам датафрейма:\n",
      "transactionId    1197\n",
      "visitorId        1031\n",
      "date               31\n",
      "revenue           713\n",
      "group               2\n",
      "dtype: int64\n",
      "********************************************************************************\n",
      "Пропущенные значения во всех столбцах датафрейма:\n",
      "transactionId    0\n",
      "visitorId        0\n",
      "date             0\n",
      "revenue          0\n",
      "group            0\n",
      "dtype: int64\n",
      "********************************************************************************\n",
      "Количество явных дубликатов: 0\n",
      "Доля явных дубликатов от общего количества данных:0.00%\n"
     ]
    }
   ],
   "source": [
    "data_analysis(orders)"
   ]
  },
  {
   "cell_type": "markdown",
   "metadata": {},
   "source": [
    "**Дополнительно проверим есть ли пользователи, которые присутствуют одновременно в группах А и B датафрейма `orders`.**"
   ]
  },
  {
   "cell_type": "code",
   "execution_count": 6,
   "metadata": {},
   "outputs": [
    {
     "name": "stdout",
     "output_type": "stream",
     "text": [
      "Количество пользователей, которые есть в обеих группах A и B: 58\n"
     ]
    }
   ],
   "source": [
    "double_users = orders.pivot_table(index='visitorId', values='group', aggfunc='nunique')\\\n",
    "               .reset_index().query('group > 1')['visitorId']\n",
    "print(\"Количество пользователей, которые есть в обеих группах A и B:\", len(double_users))\n"
   ]
  },
  {
   "cell_type": "markdown",
   "metadata": {},
   "source": [
    "**Проанализируем данные о посетителях в датафрейме `visits`.**"
   ]
  },
  {
   "cell_type": "code",
   "execution_count": 7,
   "metadata": {},
   "outputs": [
    {
     "data": {
      "text/html": [
       "<div>\n",
       "<style scoped>\n",
       "    .dataframe tbody tr th:only-of-type {\n",
       "        vertical-align: middle;\n",
       "    }\n",
       "\n",
       "    .dataframe tbody tr th {\n",
       "        vertical-align: top;\n",
       "    }\n",
       "\n",
       "    .dataframe thead th {\n",
       "        text-align: right;\n",
       "    }\n",
       "</style>\n",
       "<table border=\"1\" class=\"dataframe\">\n",
       "  <thead>\n",
       "    <tr style=\"text-align: right;\">\n",
       "      <th></th>\n",
       "      <th>date</th>\n",
       "      <th>group</th>\n",
       "      <th>visitors</th>\n",
       "    </tr>\n",
       "  </thead>\n",
       "  <tbody>\n",
       "    <tr>\n",
       "      <th>0</th>\n",
       "      <td>2019-08-01</td>\n",
       "      <td>A</td>\n",
       "      <td>719</td>\n",
       "    </tr>\n",
       "    <tr>\n",
       "      <th>1</th>\n",
       "      <td>2019-08-02</td>\n",
       "      <td>A</td>\n",
       "      <td>619</td>\n",
       "    </tr>\n",
       "    <tr>\n",
       "      <th>2</th>\n",
       "      <td>2019-08-03</td>\n",
       "      <td>A</td>\n",
       "      <td>507</td>\n",
       "    </tr>\n",
       "    <tr>\n",
       "      <th>3</th>\n",
       "      <td>2019-08-04</td>\n",
       "      <td>A</td>\n",
       "      <td>717</td>\n",
       "    </tr>\n",
       "    <tr>\n",
       "      <th>4</th>\n",
       "      <td>2019-08-05</td>\n",
       "      <td>A</td>\n",
       "      <td>756</td>\n",
       "    </tr>\n",
       "  </tbody>\n",
       "</table>\n",
       "</div>"
      ],
      "text/plain": [
       "         date group  visitors\n",
       "0  2019-08-01     A       719\n",
       "1  2019-08-02     A       619\n",
       "2  2019-08-03     A       507\n",
       "3  2019-08-04     A       717\n",
       "4  2019-08-05     A       756"
      ]
     },
     "metadata": {},
     "output_type": "display_data"
    },
    {
     "name": "stdout",
     "output_type": "stream",
     "text": [
      "********************************************************************************\n",
      "<class 'pandas.core.frame.DataFrame'>\n",
      "RangeIndex: 62 entries, 0 to 61\n",
      "Data columns (total 3 columns):\n",
      " #   Column    Non-Null Count  Dtype \n",
      "---  ------    --------------  ----- \n",
      " 0   date      62 non-null     object\n",
      " 1   group     62 non-null     object\n",
      " 2   visitors  62 non-null     int64 \n",
      "dtypes: int64(1), object(2)\n",
      "memory usage: 1.6+ KB\n",
      "********************************************************************************\n"
     ]
    },
    {
     "data": {
      "text/html": [
       "<div>\n",
       "<style scoped>\n",
       "    .dataframe tbody tr th:only-of-type {\n",
       "        vertical-align: middle;\n",
       "    }\n",
       "\n",
       "    .dataframe tbody tr th {\n",
       "        vertical-align: top;\n",
       "    }\n",
       "\n",
       "    .dataframe thead th {\n",
       "        text-align: right;\n",
       "    }\n",
       "</style>\n",
       "<table border=\"1\" class=\"dataframe\">\n",
       "  <thead>\n",
       "    <tr style=\"text-align: right;\">\n",
       "      <th></th>\n",
       "      <th>visitors</th>\n",
       "    </tr>\n",
       "  </thead>\n",
       "  <tbody>\n",
       "    <tr>\n",
       "      <th>count</th>\n",
       "      <td>62.000000</td>\n",
       "    </tr>\n",
       "    <tr>\n",
       "      <th>mean</th>\n",
       "      <td>607.290323</td>\n",
       "    </tr>\n",
       "    <tr>\n",
       "      <th>std</th>\n",
       "      <td>114.400560</td>\n",
       "    </tr>\n",
       "    <tr>\n",
       "      <th>min</th>\n",
       "      <td>361.000000</td>\n",
       "    </tr>\n",
       "    <tr>\n",
       "      <th>25%</th>\n",
       "      <td>534.000000</td>\n",
       "    </tr>\n",
       "    <tr>\n",
       "      <th>50%</th>\n",
       "      <td>624.500000</td>\n",
       "    </tr>\n",
       "    <tr>\n",
       "      <th>75%</th>\n",
       "      <td>710.500000</td>\n",
       "    </tr>\n",
       "    <tr>\n",
       "      <th>max</th>\n",
       "      <td>770.000000</td>\n",
       "    </tr>\n",
       "  </tbody>\n",
       "</table>\n",
       "</div>"
      ],
      "text/plain": [
       "         visitors\n",
       "count   62.000000\n",
       "mean   607.290323\n",
       "std    114.400560\n",
       "min    361.000000\n",
       "25%    534.000000\n",
       "50%    624.500000\n",
       "75%    710.500000\n",
       "max    770.000000"
      ]
     },
     "metadata": {},
     "output_type": "display_data"
    },
    {
     "name": "stdout",
     "output_type": "stream",
     "text": [
      "********************************************************************************\n"
     ]
    },
    {
     "data": {
      "text/html": [
       "<div>\n",
       "<style scoped>\n",
       "    .dataframe tbody tr th:only-of-type {\n",
       "        vertical-align: middle;\n",
       "    }\n",
       "\n",
       "    .dataframe tbody tr th {\n",
       "        vertical-align: top;\n",
       "    }\n",
       "\n",
       "    .dataframe thead th {\n",
       "        text-align: right;\n",
       "    }\n",
       "</style>\n",
       "<table border=\"1\" class=\"dataframe\">\n",
       "  <thead>\n",
       "    <tr style=\"text-align: right;\">\n",
       "      <th></th>\n",
       "      <th>date</th>\n",
       "      <th>group</th>\n",
       "    </tr>\n",
       "  </thead>\n",
       "  <tbody>\n",
       "    <tr>\n",
       "      <th>count</th>\n",
       "      <td>62</td>\n",
       "      <td>62</td>\n",
       "    </tr>\n",
       "    <tr>\n",
       "      <th>unique</th>\n",
       "      <td>31</td>\n",
       "      <td>2</td>\n",
       "    </tr>\n",
       "    <tr>\n",
       "      <th>top</th>\n",
       "      <td>2019-08-01</td>\n",
       "      <td>A</td>\n",
       "    </tr>\n",
       "    <tr>\n",
       "      <th>freq</th>\n",
       "      <td>2</td>\n",
       "      <td>31</td>\n",
       "    </tr>\n",
       "  </tbody>\n",
       "</table>\n",
       "</div>"
      ],
      "text/plain": [
       "              date group\n",
       "count           62    62\n",
       "unique          31     2\n",
       "top     2019-08-01     A\n",
       "freq             2    31"
      ]
     },
     "metadata": {},
     "output_type": "display_data"
    },
    {
     "name": "stdout",
     "output_type": "stream",
     "text": [
      "********************************************************************************\n",
      "Количество уникальных значений по столбцам датафрейма:\n",
      "date        31\n",
      "group        2\n",
      "visitors    58\n",
      "dtype: int64\n",
      "********************************************************************************\n",
      "Пропущенные значения во всех столбцах датафрейма:\n",
      "date        0\n",
      "group       0\n",
      "visitors    0\n",
      "dtype: int64\n",
      "********************************************************************************\n",
      "Количество явных дубликатов: 0\n",
      "Доля явных дубликатов от общего количества данных:0.00%\n"
     ]
    }
   ],
   "source": [
    "data_analysis(visits)"
   ]
  },
  {
   "cell_type": "markdown",
   "metadata": {},
   "source": [
    "**Переименуем столбцы, согласно правил \"правильного стиля\" датафреймов `hypotheses` и `orders`.**"
   ]
  },
  {
   "cell_type": "code",
   "execution_count": 8,
   "metadata": {},
   "outputs": [
    {
     "data": {
      "text/plain": [
       "Index(['hypothesis', 'reach', 'impact', 'confidence', 'efforts'], dtype='object')"
      ]
     },
     "execution_count": 8,
     "metadata": {},
     "output_type": "execute_result"
    }
   ],
   "source": [
    "hypotheses = hypotheses.rename(columns = lambda x: x.lower())\n",
    "hypotheses.columns"
   ]
  },
  {
   "cell_type": "code",
   "execution_count": 9,
   "metadata": {},
   "outputs": [
    {
     "data": {
      "text/plain": [
       "Index(['order_id', 'user_id', 'date', 'revenue', 'group'], dtype='object')"
      ]
     },
     "execution_count": 9,
     "metadata": {},
     "output_type": "execute_result"
    }
   ],
   "source": [
    "orders = orders.rename(columns={'transactionId' : 'order_id', 'visitorId' : 'user_id'})\n",
    "orders.columns"
   ]
  },
  {
   "cell_type": "markdown",
   "metadata": {},
   "source": [
    "**Поменяем некорректный тип данных столбцов датафреймов `visits` и `orders`.**"
   ]
  },
  {
   "cell_type": "code",
   "execution_count": 10,
   "metadata": {},
   "outputs": [],
   "source": [
    "orders['date'] = orders['date'].map(lambda x: dt.datetime.strptime(x, '%Y-%m-%d'))\n",
    "visits['date'] = visits['date'].map(lambda x: dt.datetime.strptime(x, '%Y-%m-%d'))"
   ]
  },
  {
   "cell_type": "markdown",
   "metadata": {},
   "source": [
    "**Удалим пользователей, которые присутствуют в обоих группах теста из исходной таблицы `orders`.**"
   ]
  },
  {
   "cell_type": "code",
   "execution_count": 11,
   "metadata": {},
   "outputs": [
    {
     "name": "stdout",
     "output_type": "stream",
     "text": [
      "<class 'pandas.core.frame.DataFrame'>\n",
      "Index: 1016 entries, 0 to 1196\n",
      "Data columns (total 5 columns):\n",
      " #   Column    Non-Null Count  Dtype         \n",
      "---  ------    --------------  -----         \n",
      " 0   order_id  1016 non-null   int64         \n",
      " 1   user_id   1016 non-null   int64         \n",
      " 2   date      1016 non-null   datetime64[ns]\n",
      " 3   revenue   1016 non-null   int64         \n",
      " 4   group     1016 non-null   object        \n",
      "dtypes: datetime64[ns](1), int64(3), object(1)\n",
      "memory usage: 47.6+ KB\n"
     ]
    }
   ],
   "source": [
    "orders = orders[~orders['user_id'].isin(double_users)]\n",
    "orders.info()"
   ]
  },
  {
   "cell_type": "markdown",
   "metadata": {},
   "source": [
    "<div style=\"background:#00FA9A; color:#000080; padding:10px\">\n",
    "  <b>Вывод по разделу:</b>\n",
    "    \n",
    "***Проанализировали общую информацию о датафреймах `hypotheses`, `orders`, `visits`:***\n",
    "    \n",
    "- Пропущенных значений нет;\n",
    "- Неоходимо привести названия столбцов датафреймов `hypotheses` и `orders` правильному стилю;\n",
    "- Обнаружен некорректный тип данных `orders`, `visits`;\n",
    "- Явные дубликаты отсутствуют;\n",
    "- Обнаружены `user_id`, которые встречаются в обоих группах А и В в `orders`;\n",
    "- Данные признаны полными и достаточными для исследования.\n",
    "    \n",
    "***Провели предобработку данных:***\n",
    "\n",
    "Датафрейм `hypotheses`:    \n",
    "- привели названия столбцов к нижнему регистру;\n",
    "\n",
    "Датафрейм `visits`:    \n",
    "- поменяли тип данных в столбце `date`;\n",
    "    \n",
    "Датафрейм `orders`:\n",
    "- привели названия столбцов к нижнему регистру и разделили обозначения нижним подчеркиванием;\n",
    "- поменяли тип данных в столбце `date`;\n",
    "- удалили строки с пользователями, которые присутствуют в обоих группах А и В;\n",
    "\n",
    "***Приступаем к приоритизации гипотез и анализу А/В-теста.***\n",
    "</div>  "
   ]
  },
  {
   "cell_type": "markdown",
   "metadata": {},
   "source": [
    "## Приоритизация гипотез"
   ]
  },
  {
   "cell_type": "markdown",
   "metadata": {},
   "source": [
    "### Применим фреймворк ICE для приоритизации гипотез. Отсортируем их по убыванию приоритета."
   ]
  },
  {
   "cell_type": "code",
   "execution_count": 12,
   "metadata": {},
   "outputs": [
    {
     "data": {
      "text/html": [
       "<div>\n",
       "<style scoped>\n",
       "    .dataframe tbody tr th:only-of-type {\n",
       "        vertical-align: middle;\n",
       "    }\n",
       "\n",
       "    .dataframe tbody tr th {\n",
       "        vertical-align: top;\n",
       "    }\n",
       "\n",
       "    .dataframe thead th {\n",
       "        text-align: right;\n",
       "    }\n",
       "</style>\n",
       "<table border=\"1\" class=\"dataframe\">\n",
       "  <thead>\n",
       "    <tr style=\"text-align: right;\">\n",
       "      <th></th>\n",
       "      <th>hypothesis</th>\n",
       "      <th>ice</th>\n",
       "    </tr>\n",
       "  </thead>\n",
       "  <tbody>\n",
       "    <tr>\n",
       "      <th>8</th>\n",
       "      <td>Запустить акцию, дающую скидку на товар в день рождения</td>\n",
       "      <td>16.20</td>\n",
       "    </tr>\n",
       "    <tr>\n",
       "      <th>0</th>\n",
       "      <td>Добавить два новых канала привлечения трафика, что позволит привлекать на 30% больше пользователей</td>\n",
       "      <td>13.33</td>\n",
       "    </tr>\n",
       "    <tr>\n",
       "      <th>7</th>\n",
       "      <td>Добавить форму подписки на все основные страницы, чтобы собрать базу клиентов для email-рассылок</td>\n",
       "      <td>11.20</td>\n",
       "    </tr>\n",
       "    <tr>\n",
       "      <th>6</th>\n",
       "      <td>Показать на главной странице баннеры с актуальными акциями и распродажами, чтобы увеличить конверсию</td>\n",
       "      <td>8.00</td>\n",
       "    </tr>\n",
       "    <tr>\n",
       "      <th>2</th>\n",
       "      <td>Добавить блоки рекомендаций товаров на сайт интернет магазина, чтобы повысить конверсию и средний чек заказа</td>\n",
       "      <td>7.00</td>\n",
       "    </tr>\n",
       "    <tr>\n",
       "      <th>1</th>\n",
       "      <td>Запустить собственную службу доставки, что сократит срок доставки заказов</td>\n",
       "      <td>2.00</td>\n",
       "    </tr>\n",
       "    <tr>\n",
       "      <th>5</th>\n",
       "      <td>Добавить страницу отзывов клиентов о магазине, что позволит увеличить количество заказов</td>\n",
       "      <td>1.33</td>\n",
       "    </tr>\n",
       "    <tr>\n",
       "      <th>3</th>\n",
       "      <td>Изменить структура категорий, что увеличит конверсию, т.к. пользователи быстрее найдут нужный товар</td>\n",
       "      <td>1.12</td>\n",
       "    </tr>\n",
       "    <tr>\n",
       "      <th>4</th>\n",
       "      <td>Изменить цвет фона главной страницы, чтобы увеличить вовлеченность пользователей</td>\n",
       "      <td>1.00</td>\n",
       "    </tr>\n",
       "  </tbody>\n",
       "</table>\n",
       "</div>"
      ],
      "text/plain": [
       "                                                                                                     hypothesis  \\\n",
       "8                                                       Запустить акцию, дающую скидку на товар в день рождения   \n",
       "0            Добавить два новых канала привлечения трафика, что позволит привлекать на 30% больше пользователей   \n",
       "7              Добавить форму подписки на все основные страницы, чтобы собрать базу клиентов для email-рассылок   \n",
       "6          Показать на главной странице баннеры с актуальными акциями и распродажами, чтобы увеличить конверсию   \n",
       "2  Добавить блоки рекомендаций товаров на сайт интернет магазина, чтобы повысить конверсию и средний чек заказа   \n",
       "1                                     Запустить собственную службу доставки, что сократит срок доставки заказов   \n",
       "5                      Добавить страницу отзывов клиентов о магазине, что позволит увеличить количество заказов   \n",
       "3           Изменить структура категорий, что увеличит конверсию, т.к. пользователи быстрее найдут нужный товар   \n",
       "4                              Изменить цвет фона главной страницы, чтобы увеличить вовлеченность пользователей   \n",
       "\n",
       "     ice  \n",
       "8  16.20  \n",
       "0  13.33  \n",
       "7  11.20  \n",
       "6   8.00  \n",
       "2   7.00  \n",
       "1   2.00  \n",
       "5   1.33  \n",
       "3   1.12  \n",
       "4   1.00  "
      ]
     },
     "metadata": {},
     "output_type": "display_data"
    }
   ],
   "source": [
    "hypotheses['ice'] = round(hypotheses['impact'] * hypotheses['confidence'] / hypotheses['efforts'], 2)\n",
    "\n",
    "display(hypotheses[['hypothesis', 'ice']].sort_values(by='ice', ascending=False))"
   ]
  },
  {
   "cell_type": "markdown",
   "metadata": {},
   "source": [
    "<div style=\"background:#AFEEEE; color:#000080; padding:10px\">\n",
    "  <b>Вывод:</b>\n",
    "\n",
    "***ТОП - 3 перспективных гипотез согласно фреймворку `ICE`:***\n",
    "    \n",
    "-  Запустить акцию, дающую скидку на товар в день рождения `ICE`=`16.20`; \n",
    "    \n",
    "-  Добавить два новых канала привлечения трафика, что позволит привлекать на 30% больше пользователей `ICE`=`13.33`;\n",
    "    \n",
    "-  Добавить форму подписки на все основные страницы, чтобы собрать базу клиентов для email-рассылок\t `ICE`=`11.20`    \n",
    "  \n",
    "</div>"
   ]
  },
  {
   "cell_type": "markdown",
   "metadata": {},
   "source": [
    "### Применим фреймворк RICE для приоритизации гипотез. Отсортируем их по убыванию приоритета."
   ]
  },
  {
   "cell_type": "code",
   "execution_count": 13,
   "metadata": {},
   "outputs": [
    {
     "data": {
      "text/html": [
       "<div>\n",
       "<style scoped>\n",
       "    .dataframe tbody tr th:only-of-type {\n",
       "        vertical-align: middle;\n",
       "    }\n",
       "\n",
       "    .dataframe tbody tr th {\n",
       "        vertical-align: top;\n",
       "    }\n",
       "\n",
       "    .dataframe thead th {\n",
       "        text-align: right;\n",
       "    }\n",
       "</style>\n",
       "<table border=\"1\" class=\"dataframe\">\n",
       "  <thead>\n",
       "    <tr style=\"text-align: right;\">\n",
       "      <th></th>\n",
       "      <th>hypothesis</th>\n",
       "      <th>rice</th>\n",
       "    </tr>\n",
       "  </thead>\n",
       "  <tbody>\n",
       "    <tr>\n",
       "      <th>7</th>\n",
       "      <td>Добавить форму подписки на все основные страницы, чтобы собрать базу клиентов для email-рассылок</td>\n",
       "      <td>112.0</td>\n",
       "    </tr>\n",
       "    <tr>\n",
       "      <th>2</th>\n",
       "      <td>Добавить блоки рекомендаций товаров на сайт интернет магазина, чтобы повысить конверсию и средний чек заказа</td>\n",
       "      <td>56.0</td>\n",
       "    </tr>\n",
       "    <tr>\n",
       "      <th>0</th>\n",
       "      <td>Добавить два новых канала привлечения трафика, что позволит привлекать на 30% больше пользователей</td>\n",
       "      <td>40.0</td>\n",
       "    </tr>\n",
       "    <tr>\n",
       "      <th>6</th>\n",
       "      <td>Показать на главной странице баннеры с актуальными акциями и распродажами, чтобы увеличить конверсию</td>\n",
       "      <td>40.0</td>\n",
       "    </tr>\n",
       "    <tr>\n",
       "      <th>8</th>\n",
       "      <td>Запустить акцию, дающую скидку на товар в день рождения</td>\n",
       "      <td>16.2</td>\n",
       "    </tr>\n",
       "    <tr>\n",
       "      <th>3</th>\n",
       "      <td>Изменить структура категорий, что увеличит конверсию, т.к. пользователи быстрее найдут нужный товар</td>\n",
       "      <td>9.0</td>\n",
       "    </tr>\n",
       "    <tr>\n",
       "      <th>1</th>\n",
       "      <td>Запустить собственную службу доставки, что сократит срок доставки заказов</td>\n",
       "      <td>4.0</td>\n",
       "    </tr>\n",
       "    <tr>\n",
       "      <th>5</th>\n",
       "      <td>Добавить страницу отзывов клиентов о магазине, что позволит увеличить количество заказов</td>\n",
       "      <td>4.0</td>\n",
       "    </tr>\n",
       "    <tr>\n",
       "      <th>4</th>\n",
       "      <td>Изменить цвет фона главной страницы, чтобы увеличить вовлеченность пользователей</td>\n",
       "      <td>3.0</td>\n",
       "    </tr>\n",
       "  </tbody>\n",
       "</table>\n",
       "</div>"
      ],
      "text/plain": [
       "                                                                                                     hypothesis  \\\n",
       "7              Добавить форму подписки на все основные страницы, чтобы собрать базу клиентов для email-рассылок   \n",
       "2  Добавить блоки рекомендаций товаров на сайт интернет магазина, чтобы повысить конверсию и средний чек заказа   \n",
       "0            Добавить два новых канала привлечения трафика, что позволит привлекать на 30% больше пользователей   \n",
       "6          Показать на главной странице баннеры с актуальными акциями и распродажами, чтобы увеличить конверсию   \n",
       "8                                                       Запустить акцию, дающую скидку на товар в день рождения   \n",
       "3           Изменить структура категорий, что увеличит конверсию, т.к. пользователи быстрее найдут нужный товар   \n",
       "1                                     Запустить собственную службу доставки, что сократит срок доставки заказов   \n",
       "5                      Добавить страницу отзывов клиентов о магазине, что позволит увеличить количество заказов   \n",
       "4                              Изменить цвет фона главной страницы, чтобы увеличить вовлеченность пользователей   \n",
       "\n",
       "    rice  \n",
       "7  112.0  \n",
       "2   56.0  \n",
       "0   40.0  \n",
       "6   40.0  \n",
       "8   16.2  \n",
       "3    9.0  \n",
       "1    4.0  \n",
       "5    4.0  \n",
       "4    3.0  "
      ]
     },
     "metadata": {},
     "output_type": "display_data"
    }
   ],
   "source": [
    "hypotheses['rice'] = round((hypotheses['reach'] * hypotheses['impact'] * hypotheses['confidence']) / hypotheses['efforts'], 2)\n",
    "\n",
    "display(hypotheses[['hypothesis', 'rice']].sort_values(by='rice', ascending=False))"
   ]
  },
  {
   "cell_type": "markdown",
   "metadata": {},
   "source": [
    "<div style=\"background:#AFEEEE; color:#000080; padding:10px\">\n",
    "  <b>Вывод:</b>\n",
    "    \n",
    "***ТОП - 3 перспективных гипотез согласно фреймворку `RICE`:***\n",
    "    \n",
    "-  Добавить форму подписки на все основные страницы, чтобы собрать базу клиентов для email-рассылок `RICE`=`112.0`; \n",
    "    \n",
    "-  Добавить блоки рекомендаций товаров на сайт интернет магазина, чтобы повысить конверсию и средний чек заказа `RICE`=`56.0`;\n",
    "    \n",
    "-  Добавить два новых канала привлечения трафика, что позволит привлекать на 30% больше пользователей\t `RICE`=`40.0`\n",
    "    \n",
    "-  Показать на главной странице баннеры с актуальными акциями и распродажами, чтобы увеличить конверсию\t `RICE`=`40.0`  \n",
    "</div>"
   ]
  },
  {
   "cell_type": "markdown",
   "metadata": {},
   "source": [
    "### Изменение приоритизации гипотез при применении RICE вместо ICE. "
   ]
  },
  {
   "cell_type": "code",
   "execution_count": 14,
   "metadata": {},
   "outputs": [
    {
     "data": {
      "text/html": [
       "<style type=\"text/css\">\n",
       "#T_d4345_row0_col1, #T_d4345_row2_col2 {\n",
       "  background-color: #b40426;\n",
       "  color: #f1f1f1;\n",
       "}\n",
       "#T_d4345_row0_col2 {\n",
       "  background-color: #6180e9;\n",
       "  color: #f1f1f1;\n",
       "}\n",
       "#T_d4345_row1_col1 {\n",
       "  background-color: #ec7f63;\n",
       "  color: #f1f1f1;\n",
       "}\n",
       "#T_d4345_row1_col2, #T_d4345_row3_col2 {\n",
       "  background-color: #abc8fd;\n",
       "  color: #000000;\n",
       "}\n",
       "#T_d4345_row2_col1 {\n",
       "  background-color: #f7b79b;\n",
       "  color: #000000;\n",
       "}\n",
       "#T_d4345_row3_col1 {\n",
       "  background-color: #d2dbe8;\n",
       "  color: #000000;\n",
       "}\n",
       "#T_d4345_row4_col1 {\n",
       "  background-color: #bfd3f6;\n",
       "  color: #000000;\n",
       "}\n",
       "#T_d4345_row4_col2 {\n",
       "  background-color: #d9dce1;\n",
       "  color: #000000;\n",
       "}\n",
       "#T_d4345_row5_col1 {\n",
       "  background-color: #4e68d8;\n",
       "  color: #f1f1f1;\n",
       "}\n",
       "#T_d4345_row5_col2, #T_d4345_row6_col2, #T_d4345_row7_col1 {\n",
       "  background-color: #3d50c3;\n",
       "  color: #f1f1f1;\n",
       "}\n",
       "#T_d4345_row6_col1 {\n",
       "  background-color: #4055c8;\n",
       "  color: #f1f1f1;\n",
       "}\n",
       "#T_d4345_row7_col2 {\n",
       "  background-color: #4b64d5;\n",
       "  color: #f1f1f1;\n",
       "}\n",
       "#T_d4345_row8_col1, #T_d4345_row8_col2 {\n",
       "  background-color: #3b4cc0;\n",
       "  color: #f1f1f1;\n",
       "}\n",
       "</style>\n",
       "<table id=\"T_d4345\">\n",
       "  <thead>\n",
       "    <tr>\n",
       "      <th class=\"blank level0\" >&nbsp;</th>\n",
       "      <th id=\"T_d4345_level0_col0\" class=\"col_heading level0 col0\" >hypothesis</th>\n",
       "      <th id=\"T_d4345_level0_col1\" class=\"col_heading level0 col1\" >ice</th>\n",
       "      <th id=\"T_d4345_level0_col2\" class=\"col_heading level0 col2\" >rice</th>\n",
       "    </tr>\n",
       "  </thead>\n",
       "  <tbody>\n",
       "    <tr>\n",
       "      <th id=\"T_d4345_level0_row0\" class=\"row_heading level0 row0\" >8</th>\n",
       "      <td id=\"T_d4345_row0_col0\" class=\"data row0 col0\" >Запустить акцию, дающую скидку на товар в день рождения</td>\n",
       "      <td id=\"T_d4345_row0_col1\" class=\"data row0 col1\" >16.200000</td>\n",
       "      <td id=\"T_d4345_row0_col2\" class=\"data row0 col2\" >16.200000</td>\n",
       "    </tr>\n",
       "    <tr>\n",
       "      <th id=\"T_d4345_level0_row1\" class=\"row_heading level0 row1\" >0</th>\n",
       "      <td id=\"T_d4345_row1_col0\" class=\"data row1 col0\" >Добавить два новых канала привлечения трафика, что позволит привлекать на 30% больше пользователей</td>\n",
       "      <td id=\"T_d4345_row1_col1\" class=\"data row1 col1\" >13.330000</td>\n",
       "      <td id=\"T_d4345_row1_col2\" class=\"data row1 col2\" >40.000000</td>\n",
       "    </tr>\n",
       "    <tr>\n",
       "      <th id=\"T_d4345_level0_row2\" class=\"row_heading level0 row2\" >7</th>\n",
       "      <td id=\"T_d4345_row2_col0\" class=\"data row2 col0\" >Добавить форму подписки на все основные страницы, чтобы собрать базу клиентов для email-рассылок</td>\n",
       "      <td id=\"T_d4345_row2_col1\" class=\"data row2 col1\" >11.200000</td>\n",
       "      <td id=\"T_d4345_row2_col2\" class=\"data row2 col2\" >112.000000</td>\n",
       "    </tr>\n",
       "    <tr>\n",
       "      <th id=\"T_d4345_level0_row3\" class=\"row_heading level0 row3\" >6</th>\n",
       "      <td id=\"T_d4345_row3_col0\" class=\"data row3 col0\" >Показать на главной странице баннеры с актуальными акциями и распродажами, чтобы увеличить конверсию</td>\n",
       "      <td id=\"T_d4345_row3_col1\" class=\"data row3 col1\" >8.000000</td>\n",
       "      <td id=\"T_d4345_row3_col2\" class=\"data row3 col2\" >40.000000</td>\n",
       "    </tr>\n",
       "    <tr>\n",
       "      <th id=\"T_d4345_level0_row4\" class=\"row_heading level0 row4\" >2</th>\n",
       "      <td id=\"T_d4345_row4_col0\" class=\"data row4 col0\" >Добавить блоки рекомендаций товаров на сайт интернет магазина, чтобы повысить конверсию и средний чек заказа</td>\n",
       "      <td id=\"T_d4345_row4_col1\" class=\"data row4 col1\" >7.000000</td>\n",
       "      <td id=\"T_d4345_row4_col2\" class=\"data row4 col2\" >56.000000</td>\n",
       "    </tr>\n",
       "    <tr>\n",
       "      <th id=\"T_d4345_level0_row5\" class=\"row_heading level0 row5\" >1</th>\n",
       "      <td id=\"T_d4345_row5_col0\" class=\"data row5 col0\" >Запустить собственную службу доставки, что сократит срок доставки заказов</td>\n",
       "      <td id=\"T_d4345_row5_col1\" class=\"data row5 col1\" >2.000000</td>\n",
       "      <td id=\"T_d4345_row5_col2\" class=\"data row5 col2\" >4.000000</td>\n",
       "    </tr>\n",
       "    <tr>\n",
       "      <th id=\"T_d4345_level0_row6\" class=\"row_heading level0 row6\" >5</th>\n",
       "      <td id=\"T_d4345_row6_col0\" class=\"data row6 col0\" >Добавить страницу отзывов клиентов о магазине, что позволит увеличить количество заказов</td>\n",
       "      <td id=\"T_d4345_row6_col1\" class=\"data row6 col1\" >1.330000</td>\n",
       "      <td id=\"T_d4345_row6_col2\" class=\"data row6 col2\" >4.000000</td>\n",
       "    </tr>\n",
       "    <tr>\n",
       "      <th id=\"T_d4345_level0_row7\" class=\"row_heading level0 row7\" >3</th>\n",
       "      <td id=\"T_d4345_row7_col0\" class=\"data row7 col0\" >Изменить структура категорий, что увеличит конверсию, т.к. пользователи быстрее найдут нужный товар</td>\n",
       "      <td id=\"T_d4345_row7_col1\" class=\"data row7 col1\" >1.120000</td>\n",
       "      <td id=\"T_d4345_row7_col2\" class=\"data row7 col2\" >9.000000</td>\n",
       "    </tr>\n",
       "    <tr>\n",
       "      <th id=\"T_d4345_level0_row8\" class=\"row_heading level0 row8\" >4</th>\n",
       "      <td id=\"T_d4345_row8_col0\" class=\"data row8 col0\" >Изменить цвет фона главной страницы, чтобы увеличить вовлеченность пользователей</td>\n",
       "      <td id=\"T_d4345_row8_col1\" class=\"data row8 col1\" >1.000000</td>\n",
       "      <td id=\"T_d4345_row8_col2\" class=\"data row8 col2\" >3.000000</td>\n",
       "    </tr>\n",
       "  </tbody>\n",
       "</table>\n"
      ],
      "text/plain": [
       "<pandas.io.formats.style.Styler at 0x23b79798530>"
      ]
     },
     "metadata": {},
     "output_type": "display_data"
    }
   ],
   "source": [
    "display(hypotheses[['hypothesis', 'ice', 'rice']].sort_values(by='ice', ascending=False)\n",
    "        .style.background_gradient(cmap='coolwarm'))"
   ]
  },
  {
   "cell_type": "markdown",
   "metadata": {},
   "source": [
    "<div style=\"background:#00FA9A; color:#000080; padding:10px\">\n",
    "  <b>Вывод по разделу:</b>\n",
    "    \n",
    "***ТОП - 3 перспективных гипотез согласно фреймворку `ICE`:***\n",
    "    \n",
    "-  Запустить акцию, дающую скидку на товар в день рождения `ICE`=`16.20`- `Гипотеза № 8`; \n",
    "-  Добавить два новых канала привлечения трафика, что позволит привлекать на 30% больше пользователей `ICE`=`13.33` `Гипотеза № 0`;\n",
    "-  Добавить форму подписки на все основные страницы, чтобы собрать базу клиентов для email-рассылок\t `ICE`=`11.20` `Гипотеза № 7`\n",
    "\n",
    "***ТОП - 3 перспективных гипотез согласно фреймворку `RICE`:***\n",
    "    \n",
    "-  Добавить форму подписки на все основные страницы, чтобы собрать базу клиентов для email-рассылок `RICE`=`112.0` `Гипотеза № 7`; \n",
    "-  Добавить блоки рекомендаций товаров на сайт интернет магазина, чтобы повысить конверсию и средний чек заказа `RICE`=`56.0` `Гипотеза № 2`;\n",
    "-  Добавить два новых канала привлечения трафика, что позволит привлекать на 30% больше пользователей\t `RICE`=`40.0` `Гипотеза № 0`\n",
    "-  Показать на главной странице баннеры с актуальными акциями и распродажами, чтобы увеличить конверсию\t `RICE`=`40.0` `Гипотеза № 6` \n",
    "    \n",
    "    \n",
    "***При использовании фреймворка `RICE` вместо `ICE` приоритизация гипотез изменилась:***\n",
    "    \n",
    "- Это произошло из-за того, что фреймворк `RICE` учитывает не только влияние гипотезы на бизнес (`Impact`), уверенность в ее успешности (`Confidence`) и трудозатраты на ее реализацию (`Effort`), но также ее охват (`Reach`) - сколько пользователей затронет данная гипотеза. Гипотезы с широким охватом `Reach` получили более высокий приоритет при использовании фреймворка `RICE`.\n",
    "      \n",
    "***ТОП - 3 перспективных гипотез согласно обоим фреймворкам `ICE` и `RICE` и тепловой карте:***\n",
    "    \n",
    "-  Добавить форму подписки на все основные страницы, чтобы собрать базу клиентов для email-рассылок `Гипотеза № 7`; \n",
    "\n",
    "-  Добавить два новых канала привлечения трафика, что позволит привлекать на 30% больше пользователей `Гипотеза № 0`\n",
    "\n",
    "-  Запустить акцию, дающую скидку на товар в день рождения `Гипотеза № 8`;\n",
    "\n",
    "</div>  "
   ]
  },
  {
   "cell_type": "markdown",
   "metadata": {},
   "source": [
    "## Анализ A/B-теста"
   ]
  },
  {
   "cell_type": "markdown",
   "metadata": {},
   "source": [
    "### Построим график кумулятивной выручки по группам A/B-теста."
   ]
  },
  {
   "cell_type": "markdown",
   "metadata": {},
   "source": [
    "**Создадим массив уникальных пар значений дат и групп теста методом `drop_duplicates()`:**"
   ]
  },
  {
   "cell_type": "code",
   "execution_count": 15,
   "metadata": {},
   "outputs": [
    {
     "data": {
      "text/html": [
       "<div>\n",
       "<style scoped>\n",
       "    .dataframe tbody tr th:only-of-type {\n",
       "        vertical-align: middle;\n",
       "    }\n",
       "\n",
       "    .dataframe tbody tr th {\n",
       "        vertical-align: top;\n",
       "    }\n",
       "\n",
       "    .dataframe thead th {\n",
       "        text-align: right;\n",
       "    }\n",
       "</style>\n",
       "<table border=\"1\" class=\"dataframe\">\n",
       "  <thead>\n",
       "    <tr style=\"text-align: right;\">\n",
       "      <th></th>\n",
       "      <th>date</th>\n",
       "      <th>group</th>\n",
       "    </tr>\n",
       "  </thead>\n",
       "  <tbody>\n",
       "    <tr>\n",
       "      <th>0</th>\n",
       "      <td>2019-08-15</td>\n",
       "      <td>B</td>\n",
       "    </tr>\n",
       "    <tr>\n",
       "      <th>7</th>\n",
       "      <td>2019-08-15</td>\n",
       "      <td>A</td>\n",
       "    </tr>\n",
       "    <tr>\n",
       "      <th>45</th>\n",
       "      <td>2019-08-16</td>\n",
       "      <td>A</td>\n",
       "    </tr>\n",
       "    <tr>\n",
       "      <th>47</th>\n",
       "      <td>2019-08-16</td>\n",
       "      <td>B</td>\n",
       "    </tr>\n",
       "    <tr>\n",
       "      <th>55</th>\n",
       "      <td>2019-08-01</td>\n",
       "      <td>A</td>\n",
       "    </tr>\n",
       "  </tbody>\n",
       "</table>\n",
       "</div>"
      ],
      "text/plain": [
       "         date group\n",
       "0  2019-08-15     B\n",
       "7  2019-08-15     A\n",
       "45 2019-08-16     A\n",
       "47 2019-08-16     B\n",
       "55 2019-08-01     A"
      ]
     },
     "execution_count": 15,
     "metadata": {},
     "output_type": "execute_result"
    }
   ],
   "source": [
    "datesGroups = orders[['date','group']].drop_duplicates() \n",
    "datesGroups.head()"
   ]
  },
  {
   "cell_type": "markdown",
   "metadata": {},
   "source": [
    "**Получим агрегированные кумулятивные по дням, данные о заказах.**"
   ]
  },
  {
   "cell_type": "code",
   "execution_count": 16,
   "metadata": {},
   "outputs": [
    {
     "data": {
      "text/html": [
       "<div>\n",
       "<style scoped>\n",
       "    .dataframe tbody tr th:only-of-type {\n",
       "        vertical-align: middle;\n",
       "    }\n",
       "\n",
       "    .dataframe tbody tr th {\n",
       "        vertical-align: top;\n",
       "    }\n",
       "\n",
       "    .dataframe thead th {\n",
       "        text-align: right;\n",
       "    }\n",
       "</style>\n",
       "<table border=\"1\" class=\"dataframe\">\n",
       "  <thead>\n",
       "    <tr style=\"text-align: right;\">\n",
       "      <th></th>\n",
       "      <th>date</th>\n",
       "      <th>group</th>\n",
       "      <th>order_id</th>\n",
       "      <th>user_id</th>\n",
       "      <th>revenue</th>\n",
       "    </tr>\n",
       "  </thead>\n",
       "  <tbody>\n",
       "    <tr>\n",
       "      <th>55</th>\n",
       "      <td>2019-08-01</td>\n",
       "      <td>A</td>\n",
       "      <td>23</td>\n",
       "      <td>19</td>\n",
       "      <td>142779</td>\n",
       "    </tr>\n",
       "    <tr>\n",
       "      <th>66</th>\n",
       "      <td>2019-08-01</td>\n",
       "      <td>B</td>\n",
       "      <td>17</td>\n",
       "      <td>17</td>\n",
       "      <td>59758</td>\n",
       "    </tr>\n",
       "    <tr>\n",
       "      <th>175</th>\n",
       "      <td>2019-08-02</td>\n",
       "      <td>A</td>\n",
       "      <td>42</td>\n",
       "      <td>36</td>\n",
       "      <td>234381</td>\n",
       "    </tr>\n",
       "    <tr>\n",
       "      <th>173</th>\n",
       "      <td>2019-08-02</td>\n",
       "      <td>B</td>\n",
       "      <td>40</td>\n",
       "      <td>39</td>\n",
       "      <td>221801</td>\n",
       "    </tr>\n",
       "    <tr>\n",
       "      <th>291</th>\n",
       "      <td>2019-08-03</td>\n",
       "      <td>A</td>\n",
       "      <td>66</td>\n",
       "      <td>60</td>\n",
       "      <td>346854</td>\n",
       "    </tr>\n",
       "  </tbody>\n",
       "</table>\n",
       "</div>"
      ],
      "text/plain": [
       "          date group  order_id  user_id  revenue\n",
       "55  2019-08-01     A        23       19   142779\n",
       "66  2019-08-01     B        17       17    59758\n",
       "175 2019-08-02     A        42       36   234381\n",
       "173 2019-08-02     B        40       39   221801\n",
       "291 2019-08-03     A        66       60   346854"
      ]
     },
     "execution_count": 16,
     "metadata": {},
     "output_type": "execute_result"
    }
   ],
   "source": [
    "orders_agg = datesGroups.apply(lambda x: orders[np.logical_and(orders['date'] <= x['date'],\n",
    "                                                               orders['group'] == x['group'])]\\\n",
    ".agg({'date' : 'max', 'group' : 'max', 'order_id' : pd.Series.nunique, \n",
    "      'user_id' : pd.Series.nunique, 'revenue' : 'sum'}), axis=1)\\\n",
    ".sort_values(by=['date','group']) \n",
    "orders_agg.head()"
   ]
  },
  {
   "cell_type": "markdown",
   "metadata": {},
   "source": [
    "**Получим агрегированные кумулятивные по дням, данные о посетителях интернет-магазина .**"
   ]
  },
  {
   "cell_type": "code",
   "execution_count": 17,
   "metadata": {},
   "outputs": [
    {
     "data": {
      "text/html": [
       "<div>\n",
       "<style scoped>\n",
       "    .dataframe tbody tr th:only-of-type {\n",
       "        vertical-align: middle;\n",
       "    }\n",
       "\n",
       "    .dataframe tbody tr th {\n",
       "        vertical-align: top;\n",
       "    }\n",
       "\n",
       "    .dataframe thead th {\n",
       "        text-align: right;\n",
       "    }\n",
       "</style>\n",
       "<table border=\"1\" class=\"dataframe\">\n",
       "  <thead>\n",
       "    <tr style=\"text-align: right;\">\n",
       "      <th></th>\n",
       "      <th>date</th>\n",
       "      <th>group</th>\n",
       "      <th>visitors</th>\n",
       "    </tr>\n",
       "  </thead>\n",
       "  <tbody>\n",
       "    <tr>\n",
       "      <th>55</th>\n",
       "      <td>2019-08-01</td>\n",
       "      <td>A</td>\n",
       "      <td>719</td>\n",
       "    </tr>\n",
       "    <tr>\n",
       "      <th>66</th>\n",
       "      <td>2019-08-01</td>\n",
       "      <td>B</td>\n",
       "      <td>713</td>\n",
       "    </tr>\n",
       "    <tr>\n",
       "      <th>175</th>\n",
       "      <td>2019-08-02</td>\n",
       "      <td>A</td>\n",
       "      <td>1338</td>\n",
       "    </tr>\n",
       "    <tr>\n",
       "      <th>173</th>\n",
       "      <td>2019-08-02</td>\n",
       "      <td>B</td>\n",
       "      <td>1294</td>\n",
       "    </tr>\n",
       "    <tr>\n",
       "      <th>291</th>\n",
       "      <td>2019-08-03</td>\n",
       "      <td>A</td>\n",
       "      <td>1845</td>\n",
       "    </tr>\n",
       "  </tbody>\n",
       "</table>\n",
       "</div>"
      ],
      "text/plain": [
       "          date group  visitors\n",
       "55  2019-08-01     A       719\n",
       "66  2019-08-01     B       713\n",
       "175 2019-08-02     A      1338\n",
       "173 2019-08-02     B      1294\n",
       "291 2019-08-03     A      1845"
      ]
     },
     "execution_count": 17,
     "metadata": {},
     "output_type": "execute_result"
    }
   ],
   "source": [
    "visits_agg = datesGroups.apply(lambda x: visits[np.logical_and(visits['date'] <= x['date'],\n",
    "                                                               visits['group'] == x['group'])]\\\n",
    ".agg({'date' : 'max', 'group' : 'max', 'visitors' : 'sum'}), axis=1)\\\n",
    ".sort_values(by=['date','group']) \n",
    "visits_agg.head()"
   ]
  },
  {
   "cell_type": "markdown",
   "metadata": {},
   "source": [
    "**Объединим кумулятивные данные в одной таблице и присвоим ее столбцам понятные названия.**"
   ]
  },
  {
   "cell_type": "code",
   "execution_count": 18,
   "metadata": {},
   "outputs": [
    {
     "data": {
      "text/html": [
       "<div>\n",
       "<style scoped>\n",
       "    .dataframe tbody tr th:only-of-type {\n",
       "        vertical-align: middle;\n",
       "    }\n",
       "\n",
       "    .dataframe tbody tr th {\n",
       "        vertical-align: top;\n",
       "    }\n",
       "\n",
       "    .dataframe thead th {\n",
       "        text-align: right;\n",
       "    }\n",
       "</style>\n",
       "<table border=\"1\" class=\"dataframe\">\n",
       "  <thead>\n",
       "    <tr style=\"text-align: right;\">\n",
       "      <th></th>\n",
       "      <th>date</th>\n",
       "      <th>group</th>\n",
       "      <th>order</th>\n",
       "      <th>buyers</th>\n",
       "      <th>revenue</th>\n",
       "      <th>visitors</th>\n",
       "    </tr>\n",
       "  </thead>\n",
       "  <tbody>\n",
       "    <tr>\n",
       "      <th>0</th>\n",
       "      <td>2019-08-01</td>\n",
       "      <td>A</td>\n",
       "      <td>23</td>\n",
       "      <td>19</td>\n",
       "      <td>142779</td>\n",
       "      <td>719</td>\n",
       "    </tr>\n",
       "    <tr>\n",
       "      <th>1</th>\n",
       "      <td>2019-08-01</td>\n",
       "      <td>B</td>\n",
       "      <td>17</td>\n",
       "      <td>17</td>\n",
       "      <td>59758</td>\n",
       "      <td>713</td>\n",
       "    </tr>\n",
       "    <tr>\n",
       "      <th>2</th>\n",
       "      <td>2019-08-02</td>\n",
       "      <td>A</td>\n",
       "      <td>42</td>\n",
       "      <td>36</td>\n",
       "      <td>234381</td>\n",
       "      <td>1338</td>\n",
       "    </tr>\n",
       "    <tr>\n",
       "      <th>3</th>\n",
       "      <td>2019-08-02</td>\n",
       "      <td>B</td>\n",
       "      <td>40</td>\n",
       "      <td>39</td>\n",
       "      <td>221801</td>\n",
       "      <td>1294</td>\n",
       "    </tr>\n",
       "    <tr>\n",
       "      <th>4</th>\n",
       "      <td>2019-08-03</td>\n",
       "      <td>A</td>\n",
       "      <td>66</td>\n",
       "      <td>60</td>\n",
       "      <td>346854</td>\n",
       "      <td>1845</td>\n",
       "    </tr>\n",
       "  </tbody>\n",
       "</table>\n",
       "</div>"
      ],
      "text/plain": [
       "        date group  order  buyers  revenue  visitors\n",
       "0 2019-08-01     A     23      19   142779       719\n",
       "1 2019-08-01     B     17      17    59758       713\n",
       "2 2019-08-02     A     42      36   234381      1338\n",
       "3 2019-08-02     B     40      39   221801      1294\n",
       "4 2019-08-03     A     66      60   346854      1845"
      ]
     },
     "execution_count": 18,
     "metadata": {},
     "output_type": "execute_result"
    }
   ],
   "source": [
    "cumulativeData = orders_agg.merge(visits_agg, left_on = ['date', 'group'], right_on = ['date', 'group'])\n",
    "cumulativeData = cumulativeData.rename(columns = {'order_id' : 'order', 'user_id' : 'buyers'})\n",
    "cumulativeData.head()"
   ]
  },
  {
   "cell_type": "markdown",
   "metadata": {},
   "source": [
    "**Создадим датафреймы с кумулятивным количеством заказов и кумулятивной выручкой по дням в группах А и В.**"
   ]
  },
  {
   "cell_type": "code",
   "execution_count": 19,
   "metadata": {},
   "outputs": [],
   "source": [
    "cumulativeRevenueA = cumulativeData[cumulativeData['group'] == 'A'][['date', 'revenue', 'order']]\n",
    "cumulativeRevenueB = cumulativeData[cumulativeData['group'] == 'B'][['date', 'revenue', 'order']]"
   ]
  },
  {
   "cell_type": "markdown",
   "metadata": {},
   "source": [
    "**Построим графики кумулятивной выручки по группам А и В.**"
   ]
  },
  {
   "cell_type": "code",
   "execution_count": 20,
   "metadata": {},
   "outputs": [
    {
     "data": {
      "image/png": "[encoded data removed]",
      "text/plain": [
       "<Figure size 1000x500 with 1 Axes>"
      ]
     },
     "metadata": {},
     "output_type": "display_data"
    }
   ],
   "source": [
    "plt.figure(figsize=(10, 5))\n",
    "plt.title('Кумулятивная выручка по группам А/В-теста')\n",
    "plt.plot(cumulativeRevenueA['date'], cumulativeRevenueA['revenue'], label = 'A', color='g')\n",
    "plt.plot(cumulativeRevenueB['date'], cumulativeRevenueB['revenue'], label = 'B', color='r')\n",
    "plt.xlabel('Дата')\n",
    "plt.ylabel('Выручка, руб.')\n",
    "plt.xticks(rotation=45)\n",
    "plt.xlim(dt.datetime(2019, 8, 1), dt.datetime(2019, 8, 31))\n",
    "plt.legend()\n",
    "plt.show()"
   ]
  },
  {
   "cell_type": "markdown",
   "metadata": {},
   "source": [
    "<div style=\"background:#AFEEEE; color:#000080; padding:10px\">\n",
    "  <b>Вывод:</b>\n",
    "    \n",
    "- Кумулятивная выручка почти линейно увеличивается в обеих группах за период проведения А/В-теста. \n",
    "- Имеется резкий скачок выручки группы В, в следствии появления либо очень крупного заказа, либо резкого увеличения количества заказов \n",
    "\n",
    "</div>"
   ]
  },
  {
   "cell_type": "markdown",
   "metadata": {},
   "source": [
    "### Построим график кумулятивного среднего чека по группам A/B-теста."
   ]
  },
  {
   "cell_type": "code",
   "execution_count": 21,
   "metadata": {},
   "outputs": [
    {
     "data": {
      "image/png": "[encoded data removed]",
      "text/plain": [
       "<Figure size 1000x500 with 1 Axes>"
      ]
     },
     "metadata": {},
     "output_type": "display_data"
    }
   ],
   "source": [
    "plt.figure(figsize=(10, 5))\n",
    "plt.title('Кумулятивный средний чек по группам А/В-теста')\n",
    "plt.plot(cumulativeRevenueA['date'], cumulativeRevenueA['revenue']\n",
    "         / cumulativeRevenueA['order'], label = 'A', color='g')\n",
    "plt.plot(cumulativeRevenueB['date'], cumulativeRevenueB['revenue']\n",
    "         / cumulativeRevenueB['order'], label = 'B', color='r')\n",
    "plt.xlabel('Дата')\n",
    "plt.ylabel('Средний чек, руб.')\n",
    "plt.axhline(y=9200, color='black', linestyle='--')\n",
    "plt.axhline(y=7200, color='blue', linestyle='--')\n",
    "plt.xticks(rotation=45)\n",
    "plt.xlim(dt.datetime(2019, 8, 1), dt.datetime(2019, 8, 31))\n",
    "plt.legend()\n",
    "plt.show()"
   ]
  },
  {
   "cell_type": "markdown",
   "metadata": {},
   "source": [
    "<div style=\"background:#AFEEEE; color:#000080; padding:10px\">\n",
    "  <b>Вывод:</b>\n",
    "    \n",
    "- Кумулятивный средний чек в группе А в начальном периоде проведения теста падал, а затем пошел в рост, во второй части теста он стабилизировался;\n",
    "- А вот кумулятивный средний чек в группе В показал наличие скачка в тот же момент, что и кумулятивная выручка. После резкого скачка тендеция к снижению;\n",
    "- На конец периода средний чек группы В отличается от среднего чека группы А более чем на `20%`. \n",
    "  \n",
    "</div>"
   ]
  },
  {
   "cell_type": "markdown",
   "metadata": {},
   "source": [
    "### Построим график относительного изменения кумулятивного среднего чека группы B к группе A."
   ]
  },
  {
   "cell_type": "markdown",
   "metadata": {},
   "source": [
    "**Объединим кумулятивные данные в одной таблице и присвоим ее столбцам названия в соответствии с группой.**"
   ]
  },
  {
   "cell_type": "code",
   "execution_count": 22,
   "metadata": {},
   "outputs": [
    {
     "data": {
      "text/html": [
       "<div>\n",
       "<style scoped>\n",
       "    .dataframe tbody tr th:only-of-type {\n",
       "        vertical-align: middle;\n",
       "    }\n",
       "\n",
       "    .dataframe tbody tr th {\n",
       "        vertical-align: top;\n",
       "    }\n",
       "\n",
       "    .dataframe thead th {\n",
       "        text-align: right;\n",
       "    }\n",
       "</style>\n",
       "<table border=\"1\" class=\"dataframe\">\n",
       "  <thead>\n",
       "    <tr style=\"text-align: right;\">\n",
       "      <th></th>\n",
       "      <th>date</th>\n",
       "      <th>revenueA</th>\n",
       "      <th>orderA</th>\n",
       "      <th>revenueB</th>\n",
       "      <th>orderB</th>\n",
       "    </tr>\n",
       "  </thead>\n",
       "  <tbody>\n",
       "    <tr>\n",
       "      <th>0</th>\n",
       "      <td>2019-08-01</td>\n",
       "      <td>142779</td>\n",
       "      <td>23</td>\n",
       "      <td>59758</td>\n",
       "      <td>17</td>\n",
       "    </tr>\n",
       "    <tr>\n",
       "      <th>1</th>\n",
       "      <td>2019-08-02</td>\n",
       "      <td>234381</td>\n",
       "      <td>42</td>\n",
       "      <td>221801</td>\n",
       "      <td>40</td>\n",
       "    </tr>\n",
       "    <tr>\n",
       "      <th>2</th>\n",
       "      <td>2019-08-03</td>\n",
       "      <td>346854</td>\n",
       "      <td>66</td>\n",
       "      <td>288850</td>\n",
       "      <td>54</td>\n",
       "    </tr>\n",
       "    <tr>\n",
       "      <th>3</th>\n",
       "      <td>2019-08-04</td>\n",
       "      <td>388030</td>\n",
       "      <td>77</td>\n",
       "      <td>385740</td>\n",
       "      <td>68</td>\n",
       "    </tr>\n",
       "    <tr>\n",
       "      <th>4</th>\n",
       "      <td>2019-08-05</td>\n",
       "      <td>474413</td>\n",
       "      <td>99</td>\n",
       "      <td>475648</td>\n",
       "      <td>89</td>\n",
       "    </tr>\n",
       "  </tbody>\n",
       "</table>\n",
       "</div>"
      ],
      "text/plain": [
       "        date  revenueA  orderA  revenueB  orderB\n",
       "0 2019-08-01    142779      23     59758      17\n",
       "1 2019-08-02    234381      42    221801      40\n",
       "2 2019-08-03    346854      66    288850      54\n",
       "3 2019-08-04    388030      77    385740      68\n",
       "4 2019-08-05    474413      99    475648      89"
      ]
     },
     "execution_count": 22,
     "metadata": {},
     "output_type": "execute_result"
    }
   ],
   "source": [
    "cumulativeDataAB = cumulativeRevenueA.merge(cumulativeRevenueB,\n",
    "                                            left_on='date', right_on='date', how='left',\n",
    "                                            suffixes=['A', 'B'])\n",
    "cumulativeDataAB.head()"
   ]
  },
  {
   "cell_type": "code",
   "execution_count": 23,
   "metadata": {},
   "outputs": [
    {
     "data": {
      "image/png": "[encoded data removed]",
      "text/plain": [
       "<Figure size 1000x500 with 1 Axes>"
      ]
     },
     "metadata": {},
     "output_type": "display_data"
    }
   ],
   "source": [
    "plt.figure(figsize=(10, 5))\n",
    "plt.title('Относительное изменение кумулятивного среднего чека группы B к группе A')\n",
    "plt.plot(cumulativeDataAB['date'], (cumulativeDataAB['revenueB']\n",
    "         / cumulativeDataAB['orderB']) / (cumulativeDataAB['revenueA']\n",
    "         / cumulativeDataAB['orderA']) - 1, label = 'B/A', color='y')\n",
    "plt.xlabel('Дата')\n",
    "plt.ylabel('Относительное изменение средних чеков')\n",
    "plt.xticks(rotation=45)\n",
    "plt.xlim(dt.datetime(2019, 8, 1), dt.datetime(2019, 8, 31))\n",
    "plt.axhline(y=0, color='black', linestyle='--')\n",
    "plt.axhline(y=0.28, color='blue', linestyle='--')\n",
    "plt.legend()\n",
    "plt.show()"
   ]
  },
  {
   "cell_type": "markdown",
   "metadata": {},
   "source": [
    "<div style=\"background:#AFEEEE; color:#000080; padding:10px\">\n",
    "  <b>Вывод:</b>\n",
    "    \n",
    "- Относительное изменение кумулятивного среднего чека группы В к группе А в нескольких точках имеет скачки, что скорее всего говорит об аномальных стоимостях заказов\n",
    "- На конец периода средний чек группы В стабильно выше среднего чека группы А. \n",
    "  \n",
    "</div>"
   ]
  },
  {
   "cell_type": "markdown",
   "metadata": {},
   "source": [
    "### Построим  график кумулятивного среднего количества заказов на посетителя по группам A/B-теста."
   ]
  },
  {
   "cell_type": "markdown",
   "metadata": {},
   "source": [
    "**Посчитаем среднее количества заказов на посетителя в разрезе групп А/В-теста.**"
   ]
  },
  {
   "cell_type": "code",
   "execution_count": 24,
   "metadata": {},
   "outputs": [
    {
     "data": {
      "text/html": [
       "<div>\n",
       "<style scoped>\n",
       "    .dataframe tbody tr th:only-of-type {\n",
       "        vertical-align: middle;\n",
       "    }\n",
       "\n",
       "    .dataframe tbody tr th {\n",
       "        vertical-align: top;\n",
       "    }\n",
       "\n",
       "    .dataframe thead th {\n",
       "        text-align: right;\n",
       "    }\n",
       "</style>\n",
       "<table border=\"1\" class=\"dataframe\">\n",
       "  <thead>\n",
       "    <tr style=\"text-align: right;\">\n",
       "      <th></th>\n",
       "      <th>date</th>\n",
       "      <th>group</th>\n",
       "      <th>order</th>\n",
       "      <th>buyers</th>\n",
       "      <th>revenue</th>\n",
       "      <th>visitors</th>\n",
       "      <th>conversion</th>\n",
       "    </tr>\n",
       "  </thead>\n",
       "  <tbody>\n",
       "    <tr>\n",
       "      <th>0</th>\n",
       "      <td>2019-08-01</td>\n",
       "      <td>A</td>\n",
       "      <td>23</td>\n",
       "      <td>19</td>\n",
       "      <td>142779</td>\n",
       "      <td>719</td>\n",
       "      <td>0.031989</td>\n",
       "    </tr>\n",
       "    <tr>\n",
       "      <th>1</th>\n",
       "      <td>2019-08-01</td>\n",
       "      <td>B</td>\n",
       "      <td>17</td>\n",
       "      <td>17</td>\n",
       "      <td>59758</td>\n",
       "      <td>713</td>\n",
       "      <td>0.023843</td>\n",
       "    </tr>\n",
       "    <tr>\n",
       "      <th>2</th>\n",
       "      <td>2019-08-02</td>\n",
       "      <td>A</td>\n",
       "      <td>42</td>\n",
       "      <td>36</td>\n",
       "      <td>234381</td>\n",
       "      <td>1338</td>\n",
       "      <td>0.031390</td>\n",
       "    </tr>\n",
       "    <tr>\n",
       "      <th>3</th>\n",
       "      <td>2019-08-02</td>\n",
       "      <td>B</td>\n",
       "      <td>40</td>\n",
       "      <td>39</td>\n",
       "      <td>221801</td>\n",
       "      <td>1294</td>\n",
       "      <td>0.030912</td>\n",
       "    </tr>\n",
       "    <tr>\n",
       "      <th>4</th>\n",
       "      <td>2019-08-03</td>\n",
       "      <td>A</td>\n",
       "      <td>66</td>\n",
       "      <td>60</td>\n",
       "      <td>346854</td>\n",
       "      <td>1845</td>\n",
       "      <td>0.035772</td>\n",
       "    </tr>\n",
       "  </tbody>\n",
       "</table>\n",
       "</div>"
      ],
      "text/plain": [
       "        date group  order  buyers  revenue  visitors  conversion\n",
       "0 2019-08-01     A     23      19   142779       719    0.031989\n",
       "1 2019-08-01     B     17      17    59758       713    0.023843\n",
       "2 2019-08-02     A     42      36   234381      1338    0.031390\n",
       "3 2019-08-02     B     40      39   221801      1294    0.030912\n",
       "4 2019-08-03     A     66      60   346854      1845    0.035772"
      ]
     },
     "execution_count": 24,
     "metadata": {},
     "output_type": "execute_result"
    }
   ],
   "source": [
    "cumulativeData['conversion'] = cumulativeData['order'] / cumulativeData['visitors']\n",
    "cumulativeDataA = cumulativeData[cumulativeData['group'] == 'A']\n",
    "cumulativeDataB = cumulativeData[cumulativeData['group'] == 'B']\n",
    "cumulativeData.head()"
   ]
  },
  {
   "cell_type": "markdown",
   "metadata": {},
   "source": [
    "**Построим графики среднего количества заказов на посетителя.**"
   ]
  },
  {
   "cell_type": "code",
   "execution_count": 25,
   "metadata": {},
   "outputs": [
    {
     "data": {
      "image/png": "[encoded data removed]",
      "text/plain": [
       "<Figure size 1000x500 with 1 Axes>"
      ]
     },
     "metadata": {},
     "output_type": "display_data"
    }
   ],
   "source": [
    "plt.figure(figsize=(10, 5))\n",
    "plt.title('Кумулятивная среднее количество заказов на посетителя по группам А/В-теста')\n",
    "plt.plot(cumulativeDataA['date'], cumulativeDataA['conversion'], label = 'A', color='g')\n",
    "plt.plot(cumulativeDataB['date'], cumulativeDataB['conversion'], label = 'B', color='r')\n",
    "plt.xlabel('Дата')\n",
    "plt.ylabel('Конверсия')\n",
    "plt.xticks(rotation=45)\n",
    "plt.ylim(0.02, 0.038)\n",
    "plt.xlim(dt.datetime(2019, 8, 1), dt.datetime(2019, 8, 31))\n",
    "plt.legend()\n",
    "plt.show()"
   ]
  },
  {
   "cell_type": "markdown",
   "metadata": {},
   "source": [
    "<div style=\"background:#AFEEEE; color:#000080; padding:10px\">\n",
    "  <b>Вывод:</b>\n",
    "    \n",
    "- В начале теста были колебания среднего количества заказов на посетителя в обеих группах;\n",
    "- Затем среднее количество заказов на посетителя группы B начала расти и стабилизировалась к концу теста;\n",
    "- Среднее количество заказов на посетителя группы А просела относительно первоначальных значений и также стабилизировалась;\n",
    "   \n",
    "  \n",
    "</div>"
   ]
  },
  {
   "cell_type": "markdown",
   "metadata": {},
   "source": [
    "### Построим график относительного изменения кумулятивного среднего количества заказов на посетителя группы B к группе A."
   ]
  },
  {
   "cell_type": "code",
   "execution_count": 26,
   "metadata": {},
   "outputs": [
    {
     "data": {
      "text/html": [
       "<div>\n",
       "<style scoped>\n",
       "    .dataframe tbody tr th:only-of-type {\n",
       "        vertical-align: middle;\n",
       "    }\n",
       "\n",
       "    .dataframe tbody tr th {\n",
       "        vertical-align: top;\n",
       "    }\n",
       "\n",
       "    .dataframe thead th {\n",
       "        text-align: right;\n",
       "    }\n",
       "</style>\n",
       "<table border=\"1\" class=\"dataframe\">\n",
       "  <thead>\n",
       "    <tr style=\"text-align: right;\">\n",
       "      <th></th>\n",
       "      <th>date</th>\n",
       "      <th>conversionA</th>\n",
       "      <th>conversionB</th>\n",
       "    </tr>\n",
       "  </thead>\n",
       "  <tbody>\n",
       "    <tr>\n",
       "      <th>0</th>\n",
       "      <td>2019-08-01</td>\n",
       "      <td>0.031989</td>\n",
       "      <td>0.023843</td>\n",
       "    </tr>\n",
       "    <tr>\n",
       "      <th>1</th>\n",
       "      <td>2019-08-02</td>\n",
       "      <td>0.031390</td>\n",
       "      <td>0.030912</td>\n",
       "    </tr>\n",
       "    <tr>\n",
       "      <th>2</th>\n",
       "      <td>2019-08-03</td>\n",
       "      <td>0.035772</td>\n",
       "      <td>0.029950</td>\n",
       "    </tr>\n",
       "    <tr>\n",
       "      <th>3</th>\n",
       "      <td>2019-08-04</td>\n",
       "      <td>0.030055</td>\n",
       "      <td>0.026428</td>\n",
       "    </tr>\n",
       "    <tr>\n",
       "      <th>4</th>\n",
       "      <td>2019-08-05</td>\n",
       "      <td>0.029837</td>\n",
       "      <td>0.027134</td>\n",
       "    </tr>\n",
       "  </tbody>\n",
       "</table>\n",
       "</div>"
      ],
      "text/plain": [
       "        date  conversionA  conversionB\n",
       "0 2019-08-01     0.031989     0.023843\n",
       "1 2019-08-02     0.031390     0.030912\n",
       "2 2019-08-03     0.035772     0.029950\n",
       "3 2019-08-04     0.030055     0.026428\n",
       "4 2019-08-05     0.029837     0.027134"
      ]
     },
     "execution_count": 26,
     "metadata": {},
     "output_type": "execute_result"
    }
   ],
   "source": [
    "cumulativeConversionAB = cumulativeDataA[['date', 'conversion']]\\\n",
    ".merge(cumulativeDataB[['date', 'conversion']],\n",
    "       left_on='date', right_on='date', how='left',\n",
    "       suffixes=['A', 'B'])\n",
    "cumulativeConversionAB.head()"
   ]
  },
  {
   "cell_type": "code",
   "execution_count": 27,
   "metadata": {},
   "outputs": [
    {
     "data": {
      "image/png": "[encoded data removed]",
      "text/plain": [
       "<Figure size 1000x800 with 1 Axes>"
      ]
     },
     "metadata": {},
     "output_type": "display_data"
    }
   ],
   "source": [
    "plt.figure(figsize=(10, 8))\n",
    "plt.title('Относительное изменение кумулятивного среднего количества заказов на посетителя группы B к группе A')\n",
    "plt.plot(cumulativeConversionAB['date'], (cumulativeConversionAB['conversionB'] \n",
    "        / cumulativeConversionAB['conversionA']) - 1, label = 'B/A', color='g')\n",
    "plt.xlabel('Дата')\n",
    "plt.ylabel('Относительное изменение среднего количества заказов на посетителя')\n",
    "plt.xticks(rotation=45)\n",
    "plt.xlim(dt.datetime(2019, 8, 1), dt.datetime(2019, 8, 31))\n",
    "plt.axhline(y=0, color='black', linestyle='--')\n",
    "plt.axhline(y=0.16, color='red', linestyle='--', label='0.16')\n",
    "plt.legend()\n",
    "plt.show()\n"
   ]
  },
  {
   "cell_type": "markdown",
   "metadata": {},
   "source": [
    "<div style=\"background:#AFEEEE; color:#000080; padding:10px\">\n",
    "  <b>Вывод:</b>\n",
    "    \n",
    "- Относительное изменение кумулятивного среднего количества заказов на посетителя группы В к группе А в начальном периоде имеет скачкообразное поведение от подъема до резкого падения. После этого примерно с 3-го дня теста наблюдаем довольно резкий рост среднего количества заказов на посетителя группы В относительно группы А.  \n",
    "- С середины периода наблюдается постепенное снижение относительного среднего количества заказов на посетителя группы В к А и затем стабилизация в районе `плюс 12-16%`. \n",
    "  \n",
    "</div>"
   ]
  },
  {
   "cell_type": "markdown",
   "metadata": {},
   "source": [
    "### Построим  точечный график количества заказов по пользователям."
   ]
  },
  {
   "cell_type": "markdown",
   "metadata": {},
   "source": [
    "**Подсчитаем количество заказов по пользователям.**"
   ]
  },
  {
   "cell_type": "code",
   "execution_count": 28,
   "metadata": {},
   "outputs": [
    {
     "data": {
      "text/html": [
       "<div>\n",
       "<style scoped>\n",
       "    .dataframe tbody tr th:only-of-type {\n",
       "        vertical-align: middle;\n",
       "    }\n",
       "\n",
       "    .dataframe tbody tr th {\n",
       "        vertical-align: top;\n",
       "    }\n",
       "\n",
       "    .dataframe thead th {\n",
       "        text-align: right;\n",
       "    }\n",
       "</style>\n",
       "<table border=\"1\" class=\"dataframe\">\n",
       "  <thead>\n",
       "    <tr style=\"text-align: right;\">\n",
       "      <th></th>\n",
       "      <th>user_id</th>\n",
       "      <th>order_id</th>\n",
       "    </tr>\n",
       "  </thead>\n",
       "  <tbody>\n",
       "    <tr>\n",
       "      <th>908</th>\n",
       "      <td>3967698036</td>\n",
       "      <td>3</td>\n",
       "    </tr>\n",
       "    <tr>\n",
       "      <th>55</th>\n",
       "      <td>249864742</td>\n",
       "      <td>3</td>\n",
       "    </tr>\n",
       "    <tr>\n",
       "      <th>478</th>\n",
       "      <td>2108163459</td>\n",
       "      <td>3</td>\n",
       "    </tr>\n",
       "    <tr>\n",
       "      <th>687</th>\n",
       "      <td>2988190573</td>\n",
       "      <td>3</td>\n",
       "    </tr>\n",
       "    <tr>\n",
       "      <th>890</th>\n",
       "      <td>3908431265</td>\n",
       "      <td>3</td>\n",
       "    </tr>\n",
       "  </tbody>\n",
       "</table>\n",
       "</div>"
      ],
      "text/plain": [
       "        user_id  order_id\n",
       "908  3967698036         3\n",
       "55    249864742         3\n",
       "478  2108163459         3\n",
       "687  2988190573         3\n",
       "890  3908431265         3"
      ]
     },
     "execution_count": 28,
     "metadata": {},
     "output_type": "execute_result"
    }
   ],
   "source": [
    "ordersByUsers = orders.groupby('user_id', as_index=False)\\\n",
    ".agg({'order_id' : 'nunique'})\\\n",
    ".sort_values(by='order_id', ascending=False)\n",
    "ordersByUsers.head()"
   ]
  },
  {
   "cell_type": "markdown",
   "metadata": {},
   "source": [
    "**Построим гистрограмму распределения количества заказов на одного пользователя.**"
   ]
  },
  {
   "cell_type": "code",
   "execution_count": 29,
   "metadata": {},
   "outputs": [
    {
     "data": {
      "image/png": "[encoded data removed]",
      "text/plain": [
       "<Figure size 1000x600 with 1 Axes>"
      ]
     },
     "metadata": {},
     "output_type": "display_data"
    }
   ],
   "source": [
    "plt.figure(figsize=(10, 6))\n",
    "ordersByUsers['order_id'].hist()\n",
    "plt.title('Количество заказов по пользователям')\n",
    "plt.xlabel('Количество заказов, шт.')\n",
    "plt.ylabel('Число пользователей, чел.')\n",
    "plt.show()"
   ]
  },
  {
   "cell_type": "markdown",
   "metadata": {},
   "source": [
    "**Построим точечную диаграмму числа заказов на одного пользователя.**"
   ]
  },
  {
   "cell_type": "code",
   "execution_count": 30,
   "metadata": {},
   "outputs": [
    {
     "data": {
      "image/png": "[encoded data removed]",
      "text/plain": [
       "<Figure size 1000x600 with 1 Axes>"
      ]
     },
     "metadata": {},
     "output_type": "display_data"
    }
   ],
   "source": [
    "x_values = pd.Series(range(0,len(ordersByUsers)))\n",
    "plt.figure(figsize=(10, 6))\n",
    "plt.scatter(x_values, ordersByUsers['order_id'], alpha=0.1) \n",
    "plt.title('Количество заказов по пользователям')\n",
    "plt.ylabel('Количество заказов, шт.')\n",
    "plt.xlabel('Число пользователей, чел.')\n",
    "plt.show()\n"
   ]
  },
  {
   "cell_type": "markdown",
   "metadata": {},
   "source": [
    "<div style=\"background:#AFEEEE; color:#000080; padding:10px\">\n",
    "  <b>Вывод:</b>\n",
    "    \n",
    "- Основная масса пользователей совершала по `1 заказу`;\n",
    "- Также определенное количество пользователей совершало от `2 до 3 заказов`;\n",
    "- Для определения аномалий посчитаем перцентили.\n",
    " \n",
    "</div>"
   ]
  },
  {
   "cell_type": "markdown",
   "metadata": {},
   "source": [
    "### Посчитаем 95-й и 99-й перцентили количества заказов на пользователя. Выберем границу для определения аномальных пользователей."
   ]
  },
  {
   "cell_type": "code",
   "execution_count": 31,
   "metadata": {},
   "outputs": [
    {
     "name": "stdout",
     "output_type": "stream",
     "text": [
      "[1. 2. 2.]\n"
     ]
    }
   ],
   "source": [
    "print(np.percentile(ordersByUsers['order_id'], [95, 97, 99])) "
   ]
  },
  {
   "cell_type": "markdown",
   "metadata": {},
   "source": [
    "<div style=\"background:#AFEEEE; color:#000080; padding:10px\">\n",
    "  <b>Вывод:</b>\n",
    "   \n",
    "- После подсчета перцентилей получаем следующее: `2 заказа` делали менее `3%` пользователей;\n",
    "- Выберем нижнюю границу для определения аномальных пользователей - `2 заказа` на одного пользователя.\n",
    "    \n",
    "  \n",
    "</div>"
   ]
  },
  {
   "cell_type": "markdown",
   "metadata": {},
   "source": [
    "### Построим точечный график стоимостей заказов."
   ]
  },
  {
   "cell_type": "markdown",
   "metadata": {},
   "source": [
    "**Поcмотрим стоимость заказов по пользователям.**"
   ]
  },
  {
   "cell_type": "code",
   "execution_count": 32,
   "metadata": {},
   "outputs": [
    {
     "data": {
      "text/html": [
       "<div>\n",
       "<style scoped>\n",
       "    .dataframe tbody tr th:only-of-type {\n",
       "        vertical-align: middle;\n",
       "    }\n",
       "\n",
       "    .dataframe tbody tr th {\n",
       "        vertical-align: top;\n",
       "    }\n",
       "\n",
       "    .dataframe thead th {\n",
       "        text-align: right;\n",
       "    }\n",
       "</style>\n",
       "<table border=\"1\" class=\"dataframe\">\n",
       "  <thead>\n",
       "    <tr style=\"text-align: right;\">\n",
       "      <th></th>\n",
       "      <th>order_id</th>\n",
       "      <th>user_id</th>\n",
       "      <th>date</th>\n",
       "      <th>revenue</th>\n",
       "      <th>group</th>\n",
       "    </tr>\n",
       "  </thead>\n",
       "  <tbody>\n",
       "    <tr>\n",
       "      <th>425</th>\n",
       "      <td>590470918</td>\n",
       "      <td>1920142716</td>\n",
       "      <td>2019-08-19</td>\n",
       "      <td>1294500</td>\n",
       "      <td>B</td>\n",
       "    </tr>\n",
       "    <tr>\n",
       "      <th>1196</th>\n",
       "      <td>3936777065</td>\n",
       "      <td>2108080724</td>\n",
       "      <td>2019-08-15</td>\n",
       "      <td>202740</td>\n",
       "      <td>B</td>\n",
       "    </tr>\n",
       "    <tr>\n",
       "      <th>1136</th>\n",
       "      <td>666610489</td>\n",
       "      <td>1307669133</td>\n",
       "      <td>2019-08-13</td>\n",
       "      <td>92550</td>\n",
       "      <td>A</td>\n",
       "    </tr>\n",
       "    <tr>\n",
       "      <th>744</th>\n",
       "      <td>3668308183</td>\n",
       "      <td>888512513</td>\n",
       "      <td>2019-08-27</td>\n",
       "      <td>86620</td>\n",
       "      <td>B</td>\n",
       "    </tr>\n",
       "    <tr>\n",
       "      <th>743</th>\n",
       "      <td>3603576309</td>\n",
       "      <td>4133034833</td>\n",
       "      <td>2019-08-09</td>\n",
       "      <td>67990</td>\n",
       "      <td>A</td>\n",
       "    </tr>\n",
       "    <tr>\n",
       "      <th>1103</th>\n",
       "      <td>1348774318</td>\n",
       "      <td>1164614297</td>\n",
       "      <td>2019-08-12</td>\n",
       "      <td>66350</td>\n",
       "      <td>A</td>\n",
       "    </tr>\n",
       "    <tr>\n",
       "      <th>1099</th>\n",
       "      <td>316924019</td>\n",
       "      <td>148427295</td>\n",
       "      <td>2019-08-12</td>\n",
       "      <td>65710</td>\n",
       "      <td>A</td>\n",
       "    </tr>\n",
       "    <tr>\n",
       "      <th>949</th>\n",
       "      <td>1347999392</td>\n",
       "      <td>887908475</td>\n",
       "      <td>2019-08-21</td>\n",
       "      <td>60450</td>\n",
       "      <td>A</td>\n",
       "    </tr>\n",
       "    <tr>\n",
       "      <th>940</th>\n",
       "      <td>2420050534</td>\n",
       "      <td>4003628586</td>\n",
       "      <td>2019-08-08</td>\n",
       "      <td>58550</td>\n",
       "      <td>B</td>\n",
       "    </tr>\n",
       "    <tr>\n",
       "      <th>131</th>\n",
       "      <td>3163614039</td>\n",
       "      <td>2254586615</td>\n",
       "      <td>2019-08-22</td>\n",
       "      <td>53904</td>\n",
       "      <td>A</td>\n",
       "    </tr>\n",
       "  </tbody>\n",
       "</table>\n",
       "</div>"
      ],
      "text/plain": [
       "        order_id     user_id       date  revenue group\n",
       "425    590470918  1920142716 2019-08-19  1294500     B\n",
       "1196  3936777065  2108080724 2019-08-15   202740     B\n",
       "1136   666610489  1307669133 2019-08-13    92550     A\n",
       "744   3668308183   888512513 2019-08-27    86620     B\n",
       "743   3603576309  4133034833 2019-08-09    67990     A\n",
       "1103  1348774318  1164614297 2019-08-12    66350     A\n",
       "1099   316924019   148427295 2019-08-12    65710     A\n",
       "949   1347999392   887908475 2019-08-21    60450     A\n",
       "940   2420050534  4003628586 2019-08-08    58550     B\n",
       "131   3163614039  2254586615 2019-08-22    53904     A"
      ]
     },
     "metadata": {},
     "output_type": "display_data"
    }
   ],
   "source": [
    "display(orders.sort_values(by='revenue', ascending=False).head(10))"
   ]
  },
  {
   "cell_type": "markdown",
   "metadata": {},
   "source": [
    "**Построим точечную диаграмму стоимостей заказов.**"
   ]
  },
  {
   "cell_type": "code",
   "execution_count": 33,
   "metadata": {},
   "outputs": [
    {
     "data": {
      "image/png": "[encoded data removed]",
      "text/plain": [
       "<Figure size 1000x500 with 1 Axes>"
      ]
     },
     "metadata": {},
     "output_type": "display_data"
    }
   ],
   "source": [
    "x_values = pd.Series(range(0,len(orders['revenue'])))\n",
    "plt.figure(figsize=(10, 5))\n",
    "plt.scatter(x_values, orders['revenue'], alpha=0.4) \n",
    "plt.title('Стоимость заказов по пользователям')\n",
    "plt.ylabel('Стоимость заказа, руб.')\n",
    "plt.xlabel('Число пользователей, чел.')\n",
    "plt.ylim(0, 215000)\n",
    "plt.xlim(0, 1025)\n",
    "plt.show()"
   ]
  },
  {
   "cell_type": "markdown",
   "metadata": {},
   "source": [
    "<div style=\"background:#AFEEEE; color:#000080; padding:10px\">\n",
    "  <b>Вывод:</b>\n",
    "    \n",
    "- Основная масса пользователей совершала заказы на сумму до `10 000 руб.`;\n",
    "- Есть  пользователи совершавшие покупку на сумму от `25 000 до 75 000 руб.`;\n",
    "- Имеем также два очень аномальных выброса по стоимости `1 294 500 и 202 740 руб.`;\n",
    "- Для определения аномалий посчитаем перцентили.\n",
    " \n",
    "</div>"
   ]
  },
  {
   "cell_type": "markdown",
   "metadata": {},
   "source": [
    "### Посчитаем 95-й и 99-й перцентили стоимости заказов. Выберем границу для определения аномальных заказов."
   ]
  },
  {
   "cell_type": "code",
   "execution_count": 34,
   "metadata": {},
   "outputs": [
    {
     "name": "stdout",
     "output_type": "stream",
     "text": [
      "[26785. 34792. 53904.]\n"
     ]
    }
   ],
   "source": [
    "print(np.percentile(orders['revenue'], [95, 97, 99])) "
   ]
  },
  {
   "cell_type": "markdown",
   "metadata": {},
   "source": [
    "<div style=\"background:#AFEEEE; color:#000080; padding:10px\">\n",
    "  <b>Вывод:</b>\n",
    "    \n",
    "- После подсчета перцентилей получаем следующее: заказы на сумму свыше `26 785 руб.` составляют не более `5%`  и на сумму более `58 233.2 руб.` не более `1%` от общего числа заказов;\n",
    "- Выберем нижнюю границу для определения аномальных заказов - `34 792 руб.`. Все, что свыше этой стоимости будем считать аномальными заказами.\n",
    "    \n",
    "  \n",
    "</div>"
   ]
  },
  {
   "cell_type": "markdown",
   "metadata": {},
   "source": [
    "### Посчитаем статистическую значимость различий в среднем количестве заказов на посетителя между группами по «сырым» данным."
   ]
  },
  {
   "cell_type": "markdown",
   "metadata": {},
   "source": [
    "**Определим гипотезы:**\n",
    "\n",
    "**Нулевая гипотеза $H_{0}$ - различий в среднем количестве заказов на посетителя между группами А и В по «сырым» данным нет.**\n",
    "\n",
    "**Альтернативная гипотеза $H_{1}$ - различия в среднем количестве заказов на посетителя между группами А и В «сырым» данным есть.**\n",
    "\n",
    "**Соответственно, если нулевая гипотеза $H_{0}$ будет отвергнута, различия в среднем количестве заказов на посетителя между группами А и В «сырым» данным есть.**"
   ]
  },
  {
   "cell_type": "markdown",
   "metadata": {},
   "source": [
    "**Для расчета статистической значимости различий в среднем количестве заказов на посетителя и среднем чеке заказа между группами нам необходимо подготовить имеющиеся данные. Сформируем новый датафрейм `data` со следующими столбцами:**\n",
    "\n",
    "- `ordersPerDateA` — количество заказов в выбранную дату в группе A;\n",
    "\n",
    "- `revenuePerDateA` — суммарная выручка в выбранную дату в группе A;\n",
    "\n",
    "- `ordersPerDateB` — количество заказов в выбранную дату в группе B;\n",
    "\n",
    "- `revenuePerDateB` — суммарная выручка в выбранную дату в группе B;\n",
    "\n",
    "- `ordersCummulativeA` — суммарное число заказов до выбранной даты включительно в группе A;\n",
    "\n",
    "- `revenueCummulativeA` — суммарная выручка до выбранной даты включительно в группе A;\n",
    "\n",
    "- `ordersCummulativeB` — суммарное количество заказов до выбранной даты включительно в группе B;\n",
    "\n",
    "- `revenueCummulativeB` — суммарная выручка до выбранной даты включительно в группе B;\n",
    "\n",
    "- `visitorsPerDateA` — количество пользователей в выбранную дату в группе A;\n",
    "\n",
    "- `visitorsPerDateB` — количество пользователей в выбранную дату в группе B;\n",
    "\n",
    "- `visitorsCummulativeA`— количество пользователей до выбранной даты включительно в группе A;\n",
    "\n",
    "- `visitorsCummulativeB` — количество пользователей до выбранной даты включительно в группе B."
   ]
  },
  {
   "cell_type": "code",
   "execution_count": 35,
   "metadata": {},
   "outputs": [
    {
     "data": {
      "text/html": [
       "<div>\n",
       "<style scoped>\n",
       "    .dataframe tbody tr th:only-of-type {\n",
       "        vertical-align: middle;\n",
       "    }\n",
       "\n",
       "    .dataframe tbody tr th {\n",
       "        vertical-align: top;\n",
       "    }\n",
       "\n",
       "    .dataframe thead th {\n",
       "        text-align: right;\n",
       "    }\n",
       "</style>\n",
       "<table border=\"1\" class=\"dataframe\">\n",
       "  <thead>\n",
       "    <tr style=\"text-align: right;\">\n",
       "      <th></th>\n",
       "      <th>date</th>\n",
       "      <th>ordersPerDateA</th>\n",
       "      <th>revenuePerDateA</th>\n",
       "      <th>ordersPerDateB</th>\n",
       "      <th>revenuePerDateB</th>\n",
       "      <th>ordersCummulativeA</th>\n",
       "      <th>revenueCummulativeA</th>\n",
       "      <th>ordersCummulativeB</th>\n",
       "      <th>revenueCummulativeB</th>\n",
       "      <th>visitorsPerDateA</th>\n",
       "      <th>visitorsPerDateB</th>\n",
       "      <th>visitorsCummulativeA</th>\n",
       "      <th>visitorsCummulativeB</th>\n",
       "    </tr>\n",
       "  </thead>\n",
       "  <tbody>\n",
       "    <tr>\n",
       "      <th>0</th>\n",
       "      <td>2019-08-01</td>\n",
       "      <td>23</td>\n",
       "      <td>142779</td>\n",
       "      <td>17</td>\n",
       "      <td>59758</td>\n",
       "      <td>23</td>\n",
       "      <td>142779</td>\n",
       "      <td>17</td>\n",
       "      <td>59758</td>\n",
       "      <td>719</td>\n",
       "      <td>713</td>\n",
       "      <td>719</td>\n",
       "      <td>713</td>\n",
       "    </tr>\n",
       "    <tr>\n",
       "      <th>1</th>\n",
       "      <td>2019-08-02</td>\n",
       "      <td>19</td>\n",
       "      <td>91602</td>\n",
       "      <td>23</td>\n",
       "      <td>162043</td>\n",
       "      <td>42</td>\n",
       "      <td>234381</td>\n",
       "      <td>40</td>\n",
       "      <td>221801</td>\n",
       "      <td>619</td>\n",
       "      <td>581</td>\n",
       "      <td>1338</td>\n",
       "      <td>1294</td>\n",
       "    </tr>\n",
       "    <tr>\n",
       "      <th>2</th>\n",
       "      <td>2019-08-03</td>\n",
       "      <td>24</td>\n",
       "      <td>112473</td>\n",
       "      <td>14</td>\n",
       "      <td>67049</td>\n",
       "      <td>66</td>\n",
       "      <td>346854</td>\n",
       "      <td>54</td>\n",
       "      <td>288850</td>\n",
       "      <td>507</td>\n",
       "      <td>509</td>\n",
       "      <td>1845</td>\n",
       "      <td>1803</td>\n",
       "    </tr>\n",
       "    <tr>\n",
       "      <th>3</th>\n",
       "      <td>2019-08-04</td>\n",
       "      <td>11</td>\n",
       "      <td>41176</td>\n",
       "      <td>14</td>\n",
       "      <td>96890</td>\n",
       "      <td>77</td>\n",
       "      <td>388030</td>\n",
       "      <td>68</td>\n",
       "      <td>385740</td>\n",
       "      <td>717</td>\n",
       "      <td>770</td>\n",
       "      <td>2562</td>\n",
       "      <td>2573</td>\n",
       "    </tr>\n",
       "    <tr>\n",
       "      <th>4</th>\n",
       "      <td>2019-08-05</td>\n",
       "      <td>22</td>\n",
       "      <td>86383</td>\n",
       "      <td>21</td>\n",
       "      <td>89908</td>\n",
       "      <td>99</td>\n",
       "      <td>474413</td>\n",
       "      <td>89</td>\n",
       "      <td>475648</td>\n",
       "      <td>756</td>\n",
       "      <td>707</td>\n",
       "      <td>3318</td>\n",
       "      <td>3280</td>\n",
       "    </tr>\n",
       "  </tbody>\n",
       "</table>\n",
       "</div>"
      ],
      "text/plain": [
       "        date  ordersPerDateA  revenuePerDateA  ordersPerDateB  \\\n",
       "0 2019-08-01              23           142779              17   \n",
       "1 2019-08-02              19            91602              23   \n",
       "2 2019-08-03              24           112473              14   \n",
       "3 2019-08-04              11            41176              14   \n",
       "4 2019-08-05              22            86383              21   \n",
       "\n",
       "   revenuePerDateB  ordersCummulativeA  revenueCummulativeA  \\\n",
       "0            59758                  23               142779   \n",
       "1           162043                  42               234381   \n",
       "2            67049                  66               346854   \n",
       "3            96890                  77               388030   \n",
       "4            89908                  99               474413   \n",
       "\n",
       "   ordersCummulativeB  revenueCummulativeB  visitorsPerDateA  \\\n",
       "0                  17                59758               719   \n",
       "1                  40               221801               619   \n",
       "2                  54               288850               507   \n",
       "3                  68               385740               717   \n",
       "4                  89               475648               756   \n",
       "\n",
       "   visitorsPerDateB  visitorsCummulativeA  visitorsCummulativeB  \n",
       "0               713                   719                   713  \n",
       "1               581                  1338                  1294  \n",
       "2               509                  1845                  1803  \n",
       "3               770                  2562                  2573  \n",
       "4               707                  3318                  3280  "
      ]
     },
     "metadata": {},
     "output_type": "display_data"
    }
   ],
   "source": [
    "# Коэффициент статистической значимости примем в 5%\n",
    "alpha = 0.05\n",
    "\n",
    "# Посчитаем количество посетителей на выбранную дату в группах А и В\n",
    "\n",
    "visitorsADaily = visits[visits['group'] == 'A'][['date', 'visitors']]\n",
    "visitorsADaily.columns = ['date', 'visitorsPerDateA']\n",
    "\n",
    "visitorsBDaily = visits[visits['group'] == 'B'][['date', 'visitors']]\n",
    "visitorsBDaily.columns = ['date', 'visitorsPerDateB']\n",
    "\n",
    "# Посчитаем кумулятивное количество посетителей до выбранной даты включительно в группах А и В\n",
    "\n",
    "visitorsCummulativeA = visitorsADaily.apply(lambda x: visitorsADaily[visitorsADaily['date']\n",
    "                        <= x['date']].agg({'date': 'max', 'visitorsPerDateA': 'sum'}),axis=1)\n",
    "visitorsCummulativeA.columns = ['date', 'visitorsCummulativeA']\n",
    "\n",
    "\n",
    "visitorsCummulativeB = visitorsBDaily.apply(lambda x: visitorsBDaily[visitorsBDaily['date']\n",
    "                        <= x['date']].agg({'date': 'max', 'visitorsPerDateB': 'sum'}),axis=1)\n",
    "visitorsCummulativeB.columns = ['date', 'visitorsCummulativeB']\n",
    "\n",
    "# Посчитаем количество заказов и выручку на выбранную дату в группах А и В\n",
    "\n",
    "ordersADaily = (orders[orders['group'] == 'A']\n",
    "                [['date', 'order_id','user_id', 'revenue']]\n",
    "                .groupby('date', as_index=False)\n",
    "                .agg({'order_id': pd.Series.nunique, 'revenue': 'sum'}))\n",
    "ordersADaily.columns = ['date', 'ordersPerDateA', 'revenuePerDateA']\n",
    "\n",
    "ordersBDaily = (orders[orders['group'] == 'B']\n",
    "                [['date', 'order_id','user_id', 'revenue']]\n",
    "                .groupby('date', as_index=False)\n",
    "                .agg({'order_id': pd.Series.nunique, 'revenue': 'sum'}))\n",
    "ordersBDaily.columns = ['date', 'ordersPerDateB', 'revenuePerDateB']\n",
    "\n",
    "# Посчитаем кумулятивные количество заказов и выручку до выбранной даты включительно в группах А и В\n",
    "\n",
    "ordersCummulativeA = ordersADaily.apply(lambda x: ordersADaily[ordersADaily['date']\n",
    "                    <= x['date']].agg({'date': 'max', 'ordersPerDateA': 'sum', \n",
    "                    'revenuePerDateA': 'sum'}),axis=1).sort_values(by=['date'])\n",
    "ordersCummulativeA.columns = ['date', \n",
    "                              'ordersCummulativeA',\n",
    "                              'revenueCummulativeA']\n",
    "\n",
    "ordersCummulativeB = ordersBDaily.apply(lambda x: ordersBDaily[ordersBDaily['date']\n",
    "                    <= x['date']].agg({'date': 'max', 'ordersPerDateB': 'sum', \n",
    "                    'revenuePerDateB': 'sum'}),axis=1).sort_values(by=['date'])\n",
    "ordersCummulativeB.columns = ['date', \n",
    "                              'ordersCummulativeB',\n",
    "                              'revenueCummulativeB']\n",
    "# Сформируем новый датафрейм `data`, объединив все предыдущие датафреймы\n",
    "\n",
    "data = (ordersADaily.merge(ordersBDaily, left_on='date',\n",
    "                           right_on='date', how='left')\n",
    "    .merge(ordersCummulativeA, left_on='date', right_on='date', how='left')\n",
    "    .merge(ordersCummulativeB, left_on='date', right_on='date', how='left')\n",
    "    .merge(visitorsADaily, left_on='date', right_on='date', how='left')\n",
    "    .merge(visitorsBDaily, left_on='date', right_on='date', how='left')\n",
    "    .merge(visitorsCummulativeA, left_on='date', right_on='date', how='left')\n",
    "    .merge(visitorsCummulativeB, left_on='date', right_on='date', how='left'))\n",
    "\n",
    "display(data.head()) "
   ]
  },
  {
   "cell_type": "code",
   "execution_count": 36,
   "metadata": {},
   "outputs": [
    {
     "name": "stdout",
     "output_type": "stream",
     "text": [
      "p-value по среднему количеству заказов на посетителя по «сырым» данным: 0.011\n",
      "Отвергаем нулевую гипотезу\n",
      "Относительное различие среднего количества заказов на посетителя группы B к группе A: 0.160\n"
     ]
    }
   ],
   "source": [
    "# Сформируем датафреймы в которых указано число совершённых заказов\n",
    "# для пользователей, которые заказывали хотя бы 1 раз\n",
    "ordersByUsersA = (orders[orders['group'] == 'A']\n",
    "                  .groupby('user_id', as_index=False)\n",
    "                  .agg({'order_id': pd.Series.nunique}))\n",
    "ordersByUsersA.columns = ['user_id', 'orders']\n",
    "\n",
    "ordersByUsersB = (orders[orders['group'] == 'B']\n",
    "                  .groupby('user_id', as_index=False)\n",
    "                  .agg({'order_id': pd.Series.nunique}))\n",
    "ordersByUsersB.columns = ['user_id', 'orders']\n",
    "\n",
    "# Объявим переменные sampleA и sampleB, в которых пользователям\n",
    "# из разных групп будет соответствовать количество заказов. \n",
    "# Тем, кто ничего не заказал, будут соответствовать нули. \n",
    "# Это нужно для подготовки выборки к проверке критерием Манна-Уитни.\n",
    "\n",
    "sampleA = pd.concat([ordersByUsersA['orders'], pd.Series(0,\n",
    "                    index=np.arange(data['visitorsPerDateA'].sum()\n",
    "                    - len(ordersByUsersA['orders'])), name='orders')], axis=0)\n",
    "\n",
    "sampleB = pd.concat([ordersByUsersB['orders'], pd.Series(0,\n",
    "                    index=np.arange(data['visitorsPerDateB'].sum()\n",
    "                    - len(ordersByUsersB['orders'])), name='orders')], axis=0)\n",
    "\n",
    "pvalue = stats.mannwhitneyu(sampleA, sampleB,alternative = 'two-sided')[1]\n",
    "\n",
    "print(\"p-value по среднему количеству заказов на посетителя по «сырым» данным: {0:.3f}\".format(pvalue))\n",
    "if pvalue < alpha:\n",
    "    print('Отвергаем нулевую гипотезу')\n",
    "else:\n",
    "    print('Не получилось отвергнуть нулевую гипотезу')\n",
    "print(\"Относительное различие среднего количества заказов на посетителя группы B к группе A: {0:.3f}\".format(sampleB.mean() / sampleA.mean() - 1))  "
   ]
  },
  {
   "cell_type": "markdown",
   "metadata": {},
   "source": [
    "<div style=\"background:#AFEEEE; color:#000080; padding:10px\">\n",
    "  <b>Вывод:</b>\n",
    "   \n",
    "- `p-value = 0.011` это меньше принятого коэффициента статистической значимости в `5%`. \n",
    "- Отвергаем нулевую гипотезу об отсутствии различий по «сырым» данным в конверсии между группами. \n",
    "- Средняя конверсия «сырым» данным группы В больше средней конверсии «сырым» данным группы А на `16.0%`.\n",
    "    \n",
    "  \n",
    "</div>"
   ]
  },
  {
   "cell_type": "markdown",
   "metadata": {},
   "source": [
    "### Посчитаем статистическую значимость различий в среднем чеке заказа между группами по «сырым» данным."
   ]
  },
  {
   "cell_type": "markdown",
   "metadata": {},
   "source": [
    "**Определим гипотезы:**\n",
    "\n",
    "**Нулевая гипотеза $H_{0}$ - различий в среднем чеке заказа между группами А и В «сырым» данным нет.**\n",
    "\n",
    "**Альтернативная гипотеза $H_{1}$ - различия в среднем чеке заказа между группами А и В «сырым» данным есть.**\n",
    "\n",
    "**Соответственно, если нулевая гипотеза $H_{0}$ будет отвергнута, различия в среднем чеке заказа между группами А и В «сырым» данным есть.**"
   ]
  },
  {
   "cell_type": "code",
   "execution_count": 37,
   "metadata": {},
   "outputs": [
    {
     "name": "stdout",
     "output_type": "stream",
     "text": [
      "p-value по среднему чеку заказа по «сырым» данным: 0.829\n",
      "Не получилось отвергнуть нулевую гипотезу\n",
      "Относительное различие среднего чека группы B к группе A по «сырым» данным: 0.287\n"
     ]
    }
   ],
   "source": [
    "# Чтобы рассчитать статистическую значимость различий в среднем чеке, \n",
    "# передадим критерию mannwhitneyu() данные о выручке с заказов.\n",
    "\n",
    "pvalue = stats.mannwhitneyu(orders[orders['group']=='A']['revenue'],\n",
    "                            orders[orders['group']=='B']['revenue'],\n",
    "                            alternative = 'two-sided')[1]\n",
    "\n",
    "print(\"p-value по среднему чеку заказа по «сырым» данным: {0:.3f}\".format(pvalue))\n",
    "if pvalue < alpha:\n",
    "    print('Отвергаем нулевую гипотезу')\n",
    "else:\n",
    "    print('Не получилось отвергнуть нулевую гипотезу')\n",
    "print(\"Относительное различие среднего чека группы B к группе A по «сырым» данным: {0:.3f}\"\n",
    "      .format(orders[orders['group']=='B']['revenue'].mean()\n",
    "      /orders[orders['group']=='A']['revenue'].mean()-1))\n"
   ]
  },
  {
   "cell_type": "markdown",
   "metadata": {},
   "source": [
    "<div style=\"background:#AFEEEE; color:#000080; padding:10px\">\n",
    "  <b>Вывод:</b>\n",
    "    \n",
    "- Мы наблюдаем следующее - средний чек заказа по «сырым» данным группы В больше среднего чека заказа по «сырым» данным группы А на `28.7%`, но этот показатель не является статистически значимым исходя из того, что \n",
    " `p-value = 0.829` больше принятого коэффициента статистической значимости в `5%`и соответсвенно не получилось отвергнуть нулевую гипотезу об отсутствии различий по «сырым» данным в среднем чеке заказа между группами.\n",
    "  \n",
    "</div>"
   ]
  },
  {
   "cell_type": "markdown",
   "metadata": {},
   "source": [
    "### Посчитаем статистическую значимость различий в среднем количестве заказов на посетителя (конверсии) между группами  по «очищенным» данным."
   ]
  },
  {
   "cell_type": "markdown",
   "metadata": {},
   "source": [
    "**Определим гипотезы:**\n",
    "\n",
    "**Нулевая гипотеза $H_{0}$ - различий в среднем количестве заказов на посетителя между группами А и В по «очищенным» данным нет.**\n",
    "\n",
    "**Альтернативная гипотеза $H_{1}$ - различия в среднем количестве заказов на посетителя между группами А и В по «очищенным» данным есть.**\n",
    "\n",
    "**Соответственно, если нулевая гипотеза $H_{0}$ будет отвергнута, различия в среднем количестве заказов на посетителя между группами А и В по «очищенным» данным есть.**"
   ]
  },
  {
   "cell_type": "markdown",
   "metadata": {},
   "source": [
    "**Ранее, мы посчитали `95-й и 99-й перцентили`  количества заказов на пользователя и стоимости заказов, и приняли за аномальных пользователей тех, кто совершил от `2 заказов` или совершил заказ дороже `34 792 рублей`. Так мы уберём около 1% пользователей с наибольшим числом заказов и от 3% пользователей с дорогими заказами. Сделаем срезы пользователей с числом заказов больше `2` — `usersWithManyOrders` и пользователей, совершивших заказы дороже `34 792 рублей` — `usersWithExpensiveOrders`. Объединим их в таблице `abnormalUsers`.**"
   ]
  },
  {
   "cell_type": "code",
   "execution_count": 38,
   "metadata": {},
   "outputs": [
    {
     "name": "stdout",
     "output_type": "stream",
     "text": [
      "1099    148427295\n",
      "33      249864742\n",
      "684     358944393\n",
      "648     382846391\n",
      "58      611059232\n",
      "Name: user_id, dtype: int64\n",
      "Количество аномальных пользователей: 38\n"
     ]
    }
   ],
   "source": [
    "usersWithManyOrders = pd.concat([ordersByUsersA[ordersByUsersA['orders'] > 2]['user_id'],\n",
    "                                 ordersByUsersB[ordersByUsersB['orders'] > 2]['user_id']],axis=0)\n",
    "\n",
    "usersWithExpensiveOrders = orders[orders['revenue'] > 34792]['user_id']\n",
    "abnormalUsers = (pd.concat([usersWithManyOrders, usersWithExpensiveOrders], axis=0)\\\n",
    "                 .drop_duplicates().sort_values())\n",
    "\n",
    "print(abnormalUsers.head())\n",
    "print('Количество аномальных пользователей:', abnormalUsers.shape[0]) "
   ]
  },
  {
   "cell_type": "code",
   "execution_count": 39,
   "metadata": {},
   "outputs": [
    {
     "name": "stdout",
     "output_type": "stream",
     "text": [
      "p-value по конверсии по «очищенным» данным: 0.006\n",
      "Отвергаем нулевую гипотезу\n",
      "Относительное различие средней конверсии  по «очищенным» данным группы B к группе A: 0.197\n"
     ]
    }
   ],
   "source": [
    "# Подготовим выборки количества заказов по пользователям по группам теста:\n",
    "sampleFilteredA = pd.concat([ordersByUsersA[np.logical_not(ordersByUsersA['user_id']\\\n",
    "                            .isin(abnormalUsers))]['orders'],pd.Series(0,index=np.arange(\n",
    "                            data['visitorsPerDateA'].sum() - len(ordersByUsersA['orders'])),\n",
    "                            name='orders')], axis=0)\n",
    "\n",
    "sampleFilteredB = pd.concat([ordersByUsersB[np.logical_not(ordersByUsersB['user_id']\\\n",
    "                            .isin(abnormalUsers))]['orders'],pd.Series(0,index=np.arange(\n",
    "                            data['visitorsPerDateB'].sum() - len(ordersByUsersB['orders'])),\n",
    "                            name='orders')], axis=0)\n",
    "\n",
    "pvalue = stats.mannwhitneyu(sampleFilteredA, sampleFilteredB, alternative = 'two-sided')[1]\n",
    "\n",
    "print(\"p-value по конверсии по «очищенным» данным: {0:.3f}\".format(pvalue))\n",
    "if pvalue < alpha:\n",
    "    print('Отвергаем нулевую гипотезу')\n",
    "else:\n",
    "    print('Не получилось отвергнуть нулевую гипотезу')\n",
    "print(\"Относительное различие средней конверсии  по «очищенным» данным группы B к группе A: {0:.3f}\"\\\n",
    "      .format(sampleFilteredB.mean() / sampleFilteredA.mean() - 1)) "
   ]
  },
  {
   "cell_type": "markdown",
   "metadata": {},
   "source": [
    "<div style=\"background:#AFEEEE; color:#000080; padding:10px\">\n",
    "  <b>Вывод:</b>\n",
    "   \n",
    "- `p-value = 0.006` это меньше принятого коэффициента статистической значимости в `5%`. \n",
    "- Отвергаем нулевую гипотезу об отсутствии различий по «очищенным» данным в среднем количестве заказов на посетителя между группами.\n",
    "- Статистически значимые различия в среднем количестве заказов на посетителя по группам тестирования по «очищенным» данным есть;\n",
    "- Среднее количестве заказов на посетителя по «очищенным» данным группы В больше в среднего количества заказов на посетителя по «очищенным» данным группы А на `19.7%`.\n",
    "    \n",
    "  \n",
    "</div>"
   ]
  },
  {
   "cell_type": "markdown",
   "metadata": {},
   "source": [
    "### Посчитаем статистическую значимость различий в среднем чеке заказа между группами по «очищенным» данным."
   ]
  },
  {
   "cell_type": "markdown",
   "metadata": {},
   "source": [
    "**Определим гипотезы:**\n",
    "\n",
    "**Нулевая гипотеза $H_{0}$ - различий в среднем чеке заказа между группами А и В по «очищенным» данным нет.**\n",
    "\n",
    "**Альтернативная гипотеза $H_{1}$ - различия в среднем чеке заказа между группами А и В по «очищенным» данным есть.**\n",
    "\n",
    "**Соответственно, если нулевая гипотеза $H_{0}$ будет отвергнута, различия в среднем чеке заказа между группами А и В по «очищенным» данным есть.**"
   ]
  },
  {
   "cell_type": "code",
   "execution_count": 40,
   "metadata": {},
   "outputs": [
    {
     "name": "stdout",
     "output_type": "stream",
     "text": [
      "p-value по среднему чеку заказа по «очищенным» данным: 0.918\n",
      "Не получилось отвергнуть нулевую гипотезу\n",
      "Относительное различие среднего чека группы B к группе A по «очищенным» данным: 0.016\n"
     ]
    }
   ],
   "source": [
    "# Чтобы рассчитать статистическую значимость различий в среднем чеке, \n",
    "# передадим критерию mannwhitneyu() данные о выручке с заказов за исключением аномалий.\n",
    "\n",
    "pvalue = stats.mannwhitneyu(orders[np.logical_and(orders['group'] == 'A',\n",
    "                            np.logical_not(orders['user_id'].isin(abnormalUsers)))]['revenue'], \n",
    "                            orders[np.logical_and(orders['group'] == 'B',\n",
    "                            np.logical_not(orders['user_id'].isin(abnormalUsers)))]['revenue'])[1]\n",
    "\n",
    "\n",
    "print(\"p-value по среднему чеку заказа по «очищенным» данным: {0:.3f}\".format(pvalue))\n",
    "if pvalue < alpha:\n",
    "    print('Отвергаем нулевую гипотезу')\n",
    "else:\n",
    "    print('Не получилось отвергнуть нулевую гипотезу')\n",
    "    \n",
    "print(\"Относительное различие среднего чека группы B к группе A по «очищенным» данным: {0:.3f}\"\n",
    "             .format(orders[np.logical_and(orders['group'] == 'B',\n",
    "             np.logical_not(orders['user_id'].isin(abnormalUsers)))]['revenue'].mean()\n",
    "             / orders[np.logical_and(orders['group'] == 'A',\n",
    "             np.logical_not(orders['user_id'].isin(abnormalUsers)))]['revenue'].mean()- 1))\n",
    "\n"
   ]
  },
  {
   "cell_type": "markdown",
   "metadata": {},
   "source": [
    "<div style=\"background:#AFEEEE; color:#000080; padding:10px\">\n",
    "  <b>Вывод:</b>\n",
    "    \n",
    "- По «очищенным» данным, как и по «сырым» данным средний чек заказа группы В больше среднего чека заказа группы А правда всего лишь на `1.6%`, но и этот показатель не является статистически значимым исходя из того, что \n",
    " `p-value = 0.918` больше принятого коэффициента статистической значимости в `5%`и соответсвенно не получается отвергнуть нулевую гипотезу об отсутствии различий по «очищенным» данным в среднем чеке заказа между группами.\n",
    "  \n",
    "</div>"
   ]
  },
  {
   "cell_type": "markdown",
   "metadata": {},
   "source": [
    "### Примем решение по результатам теста."
   ]
  },
  {
   "cell_type": "markdown",
   "metadata": {},
   "source": [
    "**Имеем следующие факты:**\n",
    "\n",
    "***Статистически значимое различие в среднем количестве заказов на посетителя между группами А и В присутствует как по «сырым» данным, так и по «очищенным» данным*** \n",
    "- `p-value = 0.011` по «сырым» данным это меньше принятого коэффициента статистической значимости в `5%`. \n",
    "- `p-value = 0.006` по «очищенным» даннымэто меньше принятого коэффициента статистической значимости в `5%`. \n",
    "\n",
    "- Среднее количество заказов на посетителя на посетителя по «сырым» данным группы В больше чем у группы А на `16.0%`.\n",
    "- Среднее количество заказов на посетителя по «очищенным» данным группы В больше чем у группы А на `19.7%`.\n",
    "\n",
    "***Статистически значимое различие в среднем чеке между группами А и В отсутствует как по «сырым» данным, так и по «очищенным» данным***\n",
    "- `p-value = 0.829` по «сырым» данным это больше принятого коэффициента статистической значимости в `5%`; \n",
    "- `p-value = 0.918` по «очищенным» данным это больше принятого коэффициента статистической значимости в `5%`; \n",
    "\n",
    "- Средний чек заказа по «сырым» данным группы В больше среднего чека заказа по «сырым» данным группы А на `28.7%`.\n",
    "- Средний чек заказа по «очищенным» данным группы В больше среднего чека заказа по «очищенным» данным группы А на `1.6%`.\n",
    "\n",
    "***График относительного изменения кумулятивного среднего количества заказов на посетителя группы B к группе А показывает, что результаты группы B явно лучше группы A и есть тенденция к улучшению относительной разницы. Это показывает и среднее количество заказов на посетителя по «сырым» и «очищенным» данным.***\n",
    "\n",
    "***График относительного изменения кумулятивного среднего чека группы B к группе A по «сырым» данным колеблется: именно благодаря ему мы нашли аномалии. Сделать из этого графика определённые выводы нельзя. По «очищенным» данным средний чек группы B к группе A явно уменьшается и стремится к нулю.***\n",
    "\n",
    "\n",
    "**На основании вышеизложенного:**\n",
    "\n",
    "***Несмотря на отсутствие статистической значимости по среднему чеку между группами, группа В значимо лучше группы А по среднему количеству заказов на посетителя. Среднее количество заказов на посетителя сильно влияет на выручку. Рекомендую завершить тест и зафиксировать победу группы В.***"
   ]
  },
  {
   "cell_type": "markdown",
   "metadata": {},
   "source": [
    "## Итоговый вывод."
   ]
  },
  {
   "cell_type": "markdown",
   "metadata": {},
   "source": [
    "<div style=\"background:#00FA9A; color:#000080; padding:10px\">\n",
    "  <b>Итоговый вывод:</b>\n",
    "\n",
    "**Изучили общую информацию о данных**\n",
    "- Пропущенных значений нет;\n",
    "- Неоходимо привести названия столбцов датафреймов `hypotheses` и `orders` правильному стилю;\n",
    "- Обнаружен некорректный тип данных `orders`, `visits`;\n",
    "- Явные дубликаты отсутствуют;\n",
    "- Обнаружены `user_id`, которые встречаются в обоих группах А и В в `orders`;\n",
    "- Данные признаны полными и достаточными для исследования.\n",
    "    \n",
    "**В процессе предобработки данных было сделано следующее:**\n",
    "    \n",
    "- привели названия столбцов к нижнему регистру и разделили обозначения нижним подчеркиванием;\n",
    "- поменяли тип данных в столбце `date`;\n",
    "- удалили строки с пользователями, которые присутствуют в обоих группах А и В;\n",
    "    \n",
    "**Проведена приоритизация гипотез:**\n",
    "   \n",
    "    \n",
    "***ТОП - 3 перспективных гипотез согласно обоим фреймворкам `ICE` и `RICE` и тепловой карте:***\n",
    "    \n",
    "-  Добавить форму подписки на все основные страницы, чтобы собрать базу клиентов для email-рассылок `Гипотеза № 7`; \n",
    "\n",
    "-  Добавить два новых канала привлечения трафика, что позволит привлекать на 30% больше пользователей `Гипотеза № 0`\n",
    "\n",
    "-  Запустить акцию, дающую скидку на товар в день рождения `Гипотеза № 8`;\n",
    "\n",
    "**Проведен анализ результатов А/В-теста:**\n",
    "    \n",
    "- Кумулятивная выручка почти линейно увеличивается в обеих группах за период проведения А/В-теста; \n",
    "- На конец периода средний чек группы В отличается от среднего чека группы А более чем на `20%`;\n",
    "- С середины периода наблюдается постепенное снижение относительной конверсии группы В к А и затем стабилизация в районе `плюс 12-16%`;\n",
    "- Основная масса пользователей совершала по `1 заказу`;\n",
    "- После подсчета перцентилей получаем следующее: `2 заказа` делали менее `3%` пользователей;\n",
    "- Основная масса пользователей совершала заказы на сумму до `10 000 руб.`;\n",
    "- После подсчета перцентилей получаем следующее: заказы на сумму свыше `26 785 руб.` составляют не более `5%`  и на сумму более `58 233.2 руб.` не более `1%` от общего числа заказов;\n",
    "    \n",
    "**Проведен статистичекий анализ результатов А/В-теста:**\n",
    "    \n",
    "***Статистически значимое различие по конверсии между группами А и В присутствует как по «сырым» данным, так и по «очищенным» данным*** \n",
    "- `p-value = 0.011` по «сырым» данным это меньше принятого коэффициента статистической значимости в `5%`. \n",
    "- `p-value = 0.006` по «очищенным» даннымэто меньше принятого коэффициента статистической значимости в `5%`. \n",
    "\n",
    "- Средняя конверсия по «сырым» данным группы В больше чем у группы А на `16.0%`.\n",
    "- Средняя конверсия по «очищенным» данным группы В больше чем у группы А на `19.7%`.\n",
    "    \n",
    "    \n",
    "***Статистически значимое различие в среднем чеке между группами А и В отсутствует как по «сырым» данным, так и по «очищенным» данным***\n",
    "- `p-value = 0.829` по «сырым» данным это больше принятого коэффициента статистической значимости в `5%`; \n",
    "- `p-value = 0.918` по «очищенным» данным это больше принятого коэффициента статистической значимости в `5%`; \n",
    "\n",
    "- Средний чек заказа по «сырым» данным группы В больше среднего чека заказа по «сырым» данным группы А на `28.7%`.\n",
    "- Средний чек заказа по «очищенным» данным группы В больше среднего чека заказа по «очищенным» данным группы А на `1.6%`.\n",
    "\n",
    "*График относительного изменения кумулятивной конверсии группы B к группе А показывает, что результаты группы B явно лучше группы A и есть тенденция к улучшению относительной разницы. Это показывает и средняя конверсия по «сырым» и «очищенным» данным.*\n",
    "\n",
    "*График относительного изменения кумулятивного среднего чека группы B к группе A по «сырым» данным колеблется: именно благодаря ему мы нашли аномалии. Сделать из этого графика определённые выводы нельзя. По «очищенным» данным средний чек группы B к группе A явно уменьшается и стремится к нулю.*\n",
    "\n",
    "\n",
    "**На основании вышеизложенного:**\n",
    "\n",
    "***Несмотря на отсутствие статистической значимости по среднему чеку между группами, группа В значимо лучше группы А по конверсии. Конверсия сильно влияет на выручку. Рекомендую завершить тест и зафиксировать победу группы В.***"
   ]
  }
 ],
 "metadata": {
  "ExecuteTimeLog": [
   {
    "duration": 801,
    "start_time": "2023-04-13T13:35:34.570Z"
   },
   {
    "duration": 280,
    "start_time": "2023-04-13T13:44:27.053Z"
   },
   {
    "duration": 110,
    "start_time": "2023-04-13T13:44:40.261Z"
   },
   {
    "duration": 91,
    "start_time": "2023-04-13T13:44:57.152Z"
   },
   {
    "duration": 585,
    "start_time": "2023-04-13T13:46:29.038Z"
   },
   {
    "duration": 706,
    "start_time": "2023-04-13T13:47:50.922Z"
   },
   {
    "duration": 2432,
    "start_time": "2023-04-13T13:51:03.796Z"
   },
   {
    "duration": 2296,
    "start_time": "2023-04-13T13:51:29.182Z"
   },
   {
    "duration": 2032,
    "start_time": "2023-04-13T13:53:39.072Z"
   },
   {
    "duration": 1916,
    "start_time": "2023-04-13T13:54:03.253Z"
   },
   {
    "duration": 2197,
    "start_time": "2023-04-13T14:00:23.802Z"
   },
   {
    "duration": 2312,
    "start_time": "2023-04-13T14:01:11.903Z"
   },
   {
    "duration": 15,
    "start_time": "2023-04-13T14:02:08.367Z"
   },
   {
    "duration": 15,
    "start_time": "2023-04-13T14:05:36.660Z"
   },
   {
    "duration": 23,
    "start_time": "2023-04-13T14:06:14.869Z"
   },
   {
    "duration": 18,
    "start_time": "2023-04-13T14:06:33.707Z"
   },
   {
    "duration": 346,
    "start_time": "2023-04-13T14:07:24.901Z"
   },
   {
    "duration": 11,
    "start_time": "2023-04-13T14:07:30.868Z"
   },
   {
    "duration": 11,
    "start_time": "2023-04-13T14:07:51.137Z"
   },
   {
    "duration": 10,
    "start_time": "2023-04-13T14:08:16.301Z"
   },
   {
    "duration": 26,
    "start_time": "2023-04-13T14:08:37.405Z"
   },
   {
    "duration": 20,
    "start_time": "2023-04-13T14:09:23.294Z"
   },
   {
    "duration": 19,
    "start_time": "2023-04-13T14:09:59.414Z"
   },
   {
    "duration": 10,
    "start_time": "2023-04-13T14:11:12.864Z"
   },
   {
    "duration": 10,
    "start_time": "2023-04-13T14:13:17.260Z"
   },
   {
    "duration": 3046,
    "start_time": "2023-05-05T08:01:25.170Z"
   },
   {
    "duration": 14,
    "start_time": "2023-05-05T08:39:44.674Z"
   },
   {
    "duration": 29,
    "start_time": "2023-05-05T08:40:25.381Z"
   },
   {
    "duration": 37,
    "start_time": "2023-05-05T08:45:58.336Z"
   },
   {
    "duration": 19,
    "start_time": "2023-05-05T09:04:04.211Z"
   },
   {
    "duration": 19,
    "start_time": "2023-05-05T09:05:49.651Z"
   },
   {
    "duration": 29,
    "start_time": "2023-05-05T09:06:19.970Z"
   },
   {
    "duration": 20,
    "start_time": "2023-05-05T09:07:37.019Z"
   },
   {
    "duration": 26,
    "start_time": "2023-05-05T09:07:51.852Z"
   },
   {
    "duration": 28,
    "start_time": "2023-05-05T09:09:04.068Z"
   },
   {
    "duration": 146,
    "start_time": "2023-05-05T09:11:12.326Z"
   },
   {
    "duration": 28,
    "start_time": "2023-05-05T09:11:37.352Z"
   },
   {
    "duration": 33,
    "start_time": "2023-05-05T09:24:24.691Z"
   },
   {
    "duration": 40,
    "start_time": "2023-05-05T09:24:34.419Z"
   },
   {
    "duration": 24,
    "start_time": "2023-05-05T09:41:38.426Z"
   },
   {
    "duration": 39,
    "start_time": "2023-05-05T09:49:03.730Z"
   },
   {
    "duration": 25,
    "start_time": "2023-05-05T09:54:26.383Z"
   },
   {
    "duration": 25,
    "start_time": "2023-05-05T09:56:25.625Z"
   },
   {
    "duration": 35,
    "start_time": "2023-05-05T09:56:35.041Z"
   },
   {
    "duration": 60,
    "start_time": "2023-05-05T10:11:55.671Z"
   },
   {
    "duration": 102,
    "start_time": "2023-05-05T10:12:38.720Z"
   },
   {
    "duration": 63,
    "start_time": "2023-05-05T10:17:57.510Z"
   },
   {
    "duration": 56,
    "start_time": "2023-05-05T10:18:18.878Z"
   },
   {
    "duration": 71,
    "start_time": "2023-05-05T10:22:20.803Z"
   },
   {
    "duration": 54,
    "start_time": "2023-05-05T10:23:31.220Z"
   },
   {
    "duration": 2047,
    "start_time": "2023-05-05T10:30:20.569Z"
   },
   {
    "duration": 132,
    "start_time": "2023-05-05T10:34:21.476Z"
   },
   {
    "duration": 114,
    "start_time": "2023-05-05T10:34:33.189Z"
   },
   {
    "duration": 179,
    "start_time": "2023-05-05T10:35:06.254Z"
   },
   {
    "duration": 136,
    "start_time": "2023-05-05T10:35:49.166Z"
   },
   {
    "duration": 683,
    "start_time": "2023-05-08T16:30:48.945Z"
   },
   {
    "duration": 8,
    "start_time": "2023-05-08T16:31:06.519Z"
   },
   {
    "duration": 2797,
    "start_time": "2023-05-08T16:35:44.498Z"
   },
   {
    "duration": 1948,
    "start_time": "2023-05-08T16:37:37.049Z"
   },
   {
    "duration": 47,
    "start_time": "2023-05-08T16:37:39.005Z"
   },
   {
    "duration": 71,
    "start_time": "2023-05-08T16:37:39.054Z"
   },
   {
    "duration": 137,
    "start_time": "2023-05-08T16:37:39.127Z"
   },
   {
    "duration": 150,
    "start_time": "2023-05-08T16:37:55.621Z"
   },
   {
    "duration": 130,
    "start_time": "2023-05-08T16:39:39.033Z"
   },
   {
    "duration": 129,
    "start_time": "2023-05-08T16:52:10.527Z"
   },
   {
    "duration": 198,
    "start_time": "2023-05-08T16:52:55.399Z"
   },
   {
    "duration": 210,
    "start_time": "2023-05-08T16:54:41.879Z"
   },
   {
    "duration": 233,
    "start_time": "2023-05-08T16:55:02.606Z"
   },
   {
    "duration": 190,
    "start_time": "2023-05-08T16:55:34.070Z"
   },
   {
    "duration": 261,
    "start_time": "2023-05-08T16:57:22.922Z"
   },
   {
    "duration": 154,
    "start_time": "2023-05-08T16:57:50.387Z"
   },
   {
    "duration": 114,
    "start_time": "2023-05-08T17:02:34.524Z"
   },
   {
    "duration": 137,
    "start_time": "2023-05-08T17:02:43.706Z"
   },
   {
    "duration": 124,
    "start_time": "2023-05-08T17:11:20.806Z"
   },
   {
    "duration": 135,
    "start_time": "2023-05-08T17:12:03.210Z"
   },
   {
    "duration": 130,
    "start_time": "2023-05-08T17:25:53.888Z"
   },
   {
    "duration": 135,
    "start_time": "2023-05-08T17:26:08.199Z"
   },
   {
    "duration": 136,
    "start_time": "2023-05-08T17:26:31.091Z"
   },
   {
    "duration": 161,
    "start_time": "2023-05-08T17:26:47.944Z"
   },
   {
    "duration": 220,
    "start_time": "2023-05-08T17:28:37.015Z"
   },
   {
    "duration": 75,
    "start_time": "2023-05-08T17:32:30.400Z"
   },
   {
    "duration": 136,
    "start_time": "2023-05-08T17:36:03.571Z"
   },
   {
    "duration": 207,
    "start_time": "2023-05-08T17:40:29.031Z"
   },
   {
    "duration": 252,
    "start_time": "2023-05-08T17:42:38.697Z"
   },
   {
    "duration": 171,
    "start_time": "2023-05-08T17:45:41.368Z"
   },
   {
    "duration": 188,
    "start_time": "2023-05-08T17:46:09.164Z"
   },
   {
    "duration": 10,
    "start_time": "2023-05-08T17:48:16.343Z"
   },
   {
    "duration": 0,
    "start_time": "2023-05-08T17:55:04.539Z"
   },
   {
    "duration": 1571,
    "start_time": "2023-05-08T17:55:11.896Z"
   },
   {
    "duration": 14,
    "start_time": "2023-05-08T17:55:56.773Z"
   },
   {
    "duration": 4,
    "start_time": "2023-05-08T17:56:17.905Z"
   },
   {
    "duration": 8,
    "start_time": "2023-05-08T17:56:28.340Z"
   },
   {
    "duration": 4,
    "start_time": "2023-05-08T17:57:24.403Z"
   },
   {
    "duration": 6,
    "start_time": "2023-05-08T17:57:32.186Z"
   },
   {
    "duration": 6,
    "start_time": "2023-05-08T17:57:50.222Z"
   },
   {
    "duration": 3183,
    "start_time": "2023-05-14T13:03:13.929Z"
   },
   {
    "duration": 46,
    "start_time": "2023-05-14T13:03:17.114Z"
   },
   {
    "duration": 80,
    "start_time": "2023-05-14T13:03:17.162Z"
   },
   {
    "duration": 14,
    "start_time": "2023-05-14T13:03:17.244Z"
   },
   {
    "duration": 22,
    "start_time": "2023-05-14T13:03:17.260Z"
   },
   {
    "duration": 102,
    "start_time": "2023-05-14T13:35:59.956Z"
   },
   {
    "duration": 448,
    "start_time": "2023-05-14T13:36:10.580Z"
   },
   {
    "duration": 445,
    "start_time": "2023-05-14T13:36:58.265Z"
   },
   {
    "duration": 573,
    "start_time": "2023-05-14T13:38:04.784Z"
   },
   {
    "duration": 409,
    "start_time": "2023-05-14T13:38:25.577Z"
   },
   {
    "duration": 462,
    "start_time": "2023-05-14T13:38:43.734Z"
   },
   {
    "duration": 735,
    "start_time": "2023-05-14T13:40:00.625Z"
   },
   {
    "duration": 165,
    "start_time": "2023-05-14T13:49:50.931Z"
   },
   {
    "duration": 181,
    "start_time": "2023-05-14T13:53:19.649Z"
   },
   {
    "duration": 193,
    "start_time": "2023-05-14T13:56:22.125Z"
   },
   {
    "duration": 206,
    "start_time": "2023-05-14T13:56:33.024Z"
   },
   {
    "duration": 205,
    "start_time": "2023-05-14T13:58:34.260Z"
   },
   {
    "duration": 186,
    "start_time": "2023-05-14T13:58:45.013Z"
   },
   {
    "duration": 81,
    "start_time": "2023-05-14T13:59:41.225Z"
   },
   {
    "duration": 184,
    "start_time": "2023-05-14T13:59:47.133Z"
   },
   {
    "duration": 246,
    "start_time": "2023-05-14T13:59:54.141Z"
   },
   {
    "duration": 156,
    "start_time": "2023-05-14T14:01:49.431Z"
   },
   {
    "duration": 191,
    "start_time": "2023-05-14T14:01:57.071Z"
   },
   {
    "duration": 208,
    "start_time": "2023-05-14T14:03:47.740Z"
   },
   {
    "duration": 176,
    "start_time": "2023-05-14T14:04:05.128Z"
   },
   {
    "duration": 289,
    "start_time": "2023-05-14T14:07:37.773Z"
   },
   {
    "duration": 30,
    "start_time": "2023-05-14T14:09:44.620Z"
   },
   {
    "duration": 208,
    "start_time": "2023-05-14T14:10:38.977Z"
   },
   {
    "duration": 15,
    "start_time": "2023-05-14T14:13:35.719Z"
   },
   {
    "duration": 32,
    "start_time": "2023-05-14T14:14:17.285Z"
   },
   {
    "duration": 10,
    "start_time": "2023-05-14T14:24:39.182Z"
   },
   {
    "duration": 7,
    "start_time": "2023-05-14T14:24:52.018Z"
   },
   {
    "duration": 84,
    "start_time": "2023-05-14T14:25:23.391Z"
   },
   {
    "duration": 11,
    "start_time": "2023-05-14T14:25:29.566Z"
   },
   {
    "duration": 7,
    "start_time": "2023-05-14T14:25:49.431Z"
   },
   {
    "duration": 11,
    "start_time": "2023-05-14T14:26:26.438Z"
   },
   {
    "duration": 17,
    "start_time": "2023-05-14T14:27:10.745Z"
   },
   {
    "duration": 209,
    "start_time": "2023-05-14T14:28:35.497Z"
   },
   {
    "duration": 21,
    "start_time": "2023-05-14T14:32:42.331Z"
   },
   {
    "duration": 23,
    "start_time": "2023-05-14T14:34:26.881Z"
   },
   {
    "duration": 681,
    "start_time": "2023-05-14T14:36:16.103Z"
   },
   {
    "duration": 525,
    "start_time": "2023-05-14T14:36:50.891Z"
   },
   {
    "duration": 2900,
    "start_time": "2023-05-14T14:37:17.169Z"
   },
   {
    "duration": 64,
    "start_time": "2023-05-14T14:37:20.072Z"
   },
   {
    "duration": 88,
    "start_time": "2023-05-14T14:37:20.147Z"
   },
   {
    "duration": 12,
    "start_time": "2023-05-14T14:37:20.246Z"
   },
   {
    "duration": 33,
    "start_time": "2023-05-14T14:37:20.263Z"
   },
   {
    "duration": 517,
    "start_time": "2023-05-14T14:37:20.298Z"
   },
   {
    "duration": 195,
    "start_time": "2023-05-14T14:37:20.817Z"
   },
   {
    "duration": 316,
    "start_time": "2023-05-14T14:37:21.014Z"
   },
   {
    "duration": 190,
    "start_time": "2023-05-14T14:37:21.332Z"
   },
   {
    "duration": 230,
    "start_time": "2023-05-14T14:37:21.524Z"
   },
   {
    "duration": 188,
    "start_time": "2023-05-14T14:37:21.757Z"
   },
   {
    "duration": 195,
    "start_time": "2023-05-14T14:37:21.956Z"
   },
   {
    "duration": 184,
    "start_time": "2023-05-14T14:37:22.158Z"
   },
   {
    "duration": 27,
    "start_time": "2023-05-14T14:37:22.348Z"
   },
   {
    "duration": 340,
    "start_time": "2023-05-14T14:37:22.381Z"
   },
   {
    "duration": 19,
    "start_time": "2023-05-14T14:37:22.723Z"
   },
   {
    "duration": 627,
    "start_time": "2023-05-14T15:01:49.438Z"
   },
   {
    "duration": 479,
    "start_time": "2023-05-14T15:04:37.651Z"
   },
   {
    "duration": 506,
    "start_time": "2023-05-14T15:05:30.223Z"
   },
   {
    "duration": 215,
    "start_time": "2023-05-14T15:07:45.591Z"
   },
   {
    "duration": 166,
    "start_time": "2023-05-14T15:12:09.055Z"
   },
   {
    "duration": 127,
    "start_time": "2023-05-14T15:12:18.156Z"
   },
   {
    "duration": 246,
    "start_time": "2023-05-14T15:17:29.193Z"
   },
   {
    "duration": 197,
    "start_time": "2023-05-14T15:17:39.134Z"
   },
   {
    "duration": 142,
    "start_time": "2023-05-14T15:27:52.815Z"
   },
   {
    "duration": 5,
    "start_time": "2023-05-14T15:33:01.642Z"
   },
   {
    "duration": 4,
    "start_time": "2023-05-14T15:33:21.487Z"
   },
   {
    "duration": 6,
    "start_time": "2023-05-14T15:34:28.623Z"
   },
   {
    "duration": 6,
    "start_time": "2023-05-14T15:34:37.768Z"
   },
   {
    "duration": 176,
    "start_time": "2023-05-14T15:42:16.522Z"
   },
   {
    "duration": 247,
    "start_time": "2023-05-14T15:43:12.336Z"
   },
   {
    "duration": 231,
    "start_time": "2023-05-14T15:45:57.995Z"
   },
   {
    "duration": 1243,
    "start_time": "2023-05-14T15:47:43.461Z"
   },
   {
    "duration": 209,
    "start_time": "2023-05-14T15:47:56.237Z"
   },
   {
    "duration": 54,
    "start_time": "2023-05-14T15:49:43.752Z"
   },
   {
    "duration": 8,
    "start_time": "2023-05-14T15:50:03.827Z"
   },
   {
    "duration": 3344,
    "start_time": "2023-05-16T17:44:03.815Z"
   },
   {
    "duration": 61,
    "start_time": "2023-05-16T17:44:07.162Z"
   },
   {
    "duration": 59,
    "start_time": "2023-05-16T17:44:07.225Z"
   },
   {
    "duration": 28,
    "start_time": "2023-05-16T17:44:07.286Z"
   },
   {
    "duration": 10,
    "start_time": "2023-05-16T17:44:07.316Z"
   },
   {
    "duration": 391,
    "start_time": "2023-05-16T17:44:07.328Z"
   },
   {
    "duration": 142,
    "start_time": "2023-05-16T17:44:07.720Z"
   },
   {
    "duration": 151,
    "start_time": "2023-05-16T17:44:07.863Z"
   },
   {
    "duration": 146,
    "start_time": "2023-05-16T17:44:08.016Z"
   },
   {
    "duration": 293,
    "start_time": "2023-05-16T17:44:08.164Z"
   },
   {
    "duration": 152,
    "start_time": "2023-05-16T17:44:08.459Z"
   },
   {
    "duration": 143,
    "start_time": "2023-05-16T17:44:08.613Z"
   },
   {
    "duration": 156,
    "start_time": "2023-05-16T17:44:08.757Z"
   },
   {
    "duration": 13,
    "start_time": "2023-05-16T17:44:08.914Z"
   },
   {
    "duration": 168,
    "start_time": "2023-05-16T17:44:08.929Z"
   },
   {
    "duration": 141,
    "start_time": "2023-05-16T17:44:09.100Z"
   },
   {
    "duration": 138,
    "start_time": "2023-05-16T17:44:09.243Z"
   },
   {
    "duration": 140,
    "start_time": "2023-05-16T17:44:09.383Z"
   },
   {
    "duration": 145,
    "start_time": "2023-05-16T17:44:09.525Z"
   },
   {
    "duration": 6,
    "start_time": "2023-05-16T17:44:09.672Z"
   },
   {
    "duration": 260,
    "start_time": "2023-05-16T17:44:09.680Z"
   },
   {
    "duration": 260,
    "start_time": "2023-05-16T17:44:09.942Z"
   },
   {
    "duration": 254,
    "start_time": "2023-05-16T17:44:10.216Z"
   },
   {
    "duration": 274,
    "start_time": "2023-05-16T17:47:06.621Z"
   },
   {
    "duration": 361,
    "start_time": "2023-05-16T17:49:46.991Z"
   },
   {
    "duration": 249,
    "start_time": "2023-05-16T17:50:05.821Z"
   },
   {
    "duration": 220,
    "start_time": "2023-05-16T18:59:35.920Z"
   },
   {
    "duration": 196,
    "start_time": "2023-05-16T19:00:06.986Z"
   },
   {
    "duration": 123,
    "start_time": "2023-05-16T19:00:32.538Z"
   },
   {
    "duration": 215,
    "start_time": "2023-05-16T19:01:15.731Z"
   },
   {
    "duration": 55,
    "start_time": "2023-05-16T19:01:59.357Z"
   },
   {
    "duration": 33,
    "start_time": "2023-05-16T19:03:52.789Z"
   },
   {
    "duration": 208,
    "start_time": "2023-05-16T19:04:14.231Z"
   },
   {
    "duration": 156,
    "start_time": "2023-05-16T19:04:35.126Z"
   },
   {
    "duration": 203,
    "start_time": "2023-05-16T19:04:43.489Z"
   },
   {
    "duration": 24,
    "start_time": "2023-05-16T19:05:04.536Z"
   },
   {
    "duration": 39,
    "start_time": "2023-05-16T19:05:19.997Z"
   },
   {
    "duration": 227,
    "start_time": "2023-05-16T19:06:08.323Z"
   },
   {
    "duration": 25,
    "start_time": "2023-05-16T19:18:17.912Z"
   },
   {
    "duration": 53,
    "start_time": "2023-05-16T19:19:58.776Z"
   },
   {
    "duration": 159,
    "start_time": "2023-05-16T19:23:42.644Z"
   },
   {
    "duration": 201,
    "start_time": "2023-05-16T19:27:33.527Z"
   },
   {
    "duration": 1454,
    "start_time": "2023-05-16T19:28:49.135Z"
   },
   {
    "duration": 1676,
    "start_time": "2023-05-16T19:28:59.894Z"
   },
   {
    "duration": 2936,
    "start_time": "2023-05-17T17:48:33.521Z"
   },
   {
    "duration": 41,
    "start_time": "2023-05-17T17:48:36.459Z"
   },
   {
    "duration": 48,
    "start_time": "2023-05-17T17:48:36.502Z"
   },
   {
    "duration": 7,
    "start_time": "2023-05-17T17:48:36.552Z"
   },
   {
    "duration": 5,
    "start_time": "2023-05-17T17:48:36.561Z"
   },
   {
    "duration": 375,
    "start_time": "2023-05-17T17:48:36.567Z"
   },
   {
    "duration": 129,
    "start_time": "2023-05-17T17:48:36.944Z"
   },
   {
    "duration": 136,
    "start_time": "2023-05-17T17:48:37.075Z"
   },
   {
    "duration": 132,
    "start_time": "2023-05-17T17:48:37.212Z"
   },
   {
    "duration": 232,
    "start_time": "2023-05-17T17:48:37.347Z"
   },
   {
    "duration": 139,
    "start_time": "2023-05-17T17:48:37.580Z"
   },
   {
    "duration": 137,
    "start_time": "2023-05-17T17:48:37.721Z"
   },
   {
    "duration": 145,
    "start_time": "2023-05-17T17:48:37.859Z"
   },
   {
    "duration": 12,
    "start_time": "2023-05-17T17:48:38.006Z"
   },
   {
    "duration": 155,
    "start_time": "2023-05-17T17:48:38.019Z"
   },
   {
    "duration": 124,
    "start_time": "2023-05-17T17:48:38.175Z"
   },
   {
    "duration": 142,
    "start_time": "2023-05-17T17:48:38.301Z"
   },
   {
    "duration": 127,
    "start_time": "2023-05-17T17:48:38.445Z"
   },
   {
    "duration": 119,
    "start_time": "2023-05-17T17:48:38.574Z"
   },
   {
    "duration": 5,
    "start_time": "2023-05-17T17:48:38.695Z"
   },
   {
    "duration": 196,
    "start_time": "2023-05-17T17:48:38.702Z"
   },
   {
    "duration": 200,
    "start_time": "2023-05-17T17:48:38.899Z"
   },
   {
    "duration": 191,
    "start_time": "2023-05-17T17:48:39.101Z"
   },
   {
    "duration": 197,
    "start_time": "2023-05-17T17:48:39.293Z"
   },
   {
    "duration": 1437,
    "start_time": "2023-05-17T17:48:39.492Z"
   },
   {
    "duration": 1246,
    "start_time": "2023-05-17T17:49:36.943Z"
   },
   {
    "duration": 258,
    "start_time": "2023-05-17T17:51:31.881Z"
   },
   {
    "duration": 184,
    "start_time": "2023-05-17T17:51:39.048Z"
   },
   {
    "duration": 183,
    "start_time": "2023-05-17T17:51:45.347Z"
   },
   {
    "duration": 132,
    "start_time": "2023-05-17T17:52:55.688Z"
   },
   {
    "duration": 11,
    "start_time": "2023-05-17T17:58:22.744Z"
   },
   {
    "duration": 1269,
    "start_time": "2023-05-17T17:59:55.713Z"
   },
   {
    "duration": 131,
    "start_time": "2023-05-17T18:01:11.185Z"
   },
   {
    "duration": 20,
    "start_time": "2023-05-17T18:03:12.191Z"
   },
   {
    "duration": 155,
    "start_time": "2023-05-17T18:07:15.313Z"
   },
   {
    "duration": 1164,
    "start_time": "2023-05-17T18:08:32.105Z"
   },
   {
    "duration": 17,
    "start_time": "2023-05-17T18:08:52.426Z"
   },
   {
    "duration": 14,
    "start_time": "2023-05-17T18:09:31.051Z"
   },
   {
    "duration": 20604,
    "start_time": "2023-05-17T18:09:48.355Z"
   },
   {
    "duration": 20152,
    "start_time": "2023-05-17T18:17:15.293Z"
   },
   {
    "duration": 3084,
    "start_time": "2023-05-17T18:31:17.881Z"
   },
   {
    "duration": 145,
    "start_time": "2023-05-17T18:33:08.631Z"
   },
   {
    "duration": 461,
    "start_time": "2023-05-17T18:36:28.957Z"
   },
   {
    "duration": 11,
    "start_time": "2023-05-17T18:41:42.627Z"
   },
   {
    "duration": 11,
    "start_time": "2023-05-17T18:41:52.354Z"
   },
   {
    "duration": 12,
    "start_time": "2023-05-17T18:42:36.577Z"
   },
   {
    "duration": 12,
    "start_time": "2023-05-17T18:42:59.700Z"
   },
   {
    "duration": 372,
    "start_time": "2023-05-17T18:43:11.396Z"
   },
   {
    "duration": 10,
    "start_time": "2023-05-17T18:53:22.454Z"
   },
   {
    "duration": 370,
    "start_time": "2023-05-17T18:53:30.311Z"
   },
   {
    "duration": 2945,
    "start_time": "2023-05-18T16:47:33.802Z"
   },
   {
    "duration": 47,
    "start_time": "2023-05-18T16:47:36.750Z"
   },
   {
    "duration": 54,
    "start_time": "2023-05-18T16:47:36.798Z"
   },
   {
    "duration": 11,
    "start_time": "2023-05-18T16:47:36.854Z"
   },
   {
    "duration": 8,
    "start_time": "2023-05-18T16:47:36.867Z"
   },
   {
    "duration": 404,
    "start_time": "2023-05-18T16:47:36.878Z"
   },
   {
    "duration": 160,
    "start_time": "2023-05-18T16:47:37.284Z"
   },
   {
    "duration": 162,
    "start_time": "2023-05-18T16:47:37.446Z"
   },
   {
    "duration": 141,
    "start_time": "2023-05-18T16:47:37.610Z"
   },
   {
    "duration": 240,
    "start_time": "2023-05-18T16:47:37.754Z"
   },
   {
    "duration": 147,
    "start_time": "2023-05-18T16:47:37.995Z"
   },
   {
    "duration": 148,
    "start_time": "2023-05-18T16:47:38.143Z"
   },
   {
    "duration": 166,
    "start_time": "2023-05-18T16:47:38.293Z"
   },
   {
    "duration": 9,
    "start_time": "2023-05-18T16:47:38.461Z"
   },
   {
    "duration": 176,
    "start_time": "2023-05-18T16:47:38.472Z"
   },
   {
    "duration": 156,
    "start_time": "2023-05-18T16:47:38.652Z"
   },
   {
    "duration": 168,
    "start_time": "2023-05-18T16:47:38.810Z"
   },
   {
    "duration": 135,
    "start_time": "2023-05-18T16:47:38.980Z"
   },
   {
    "duration": 133,
    "start_time": "2023-05-18T16:47:39.117Z"
   },
   {
    "duration": 6,
    "start_time": "2023-05-18T16:47:39.251Z"
   },
   {
    "duration": 208,
    "start_time": "2023-05-18T16:47:39.259Z"
   },
   {
    "duration": 248,
    "start_time": "2023-05-18T16:47:39.469Z"
   },
   {
    "duration": 232,
    "start_time": "2023-05-18T16:47:39.725Z"
   },
   {
    "duration": 209,
    "start_time": "2023-05-18T16:47:39.959Z"
   },
   {
    "duration": 228,
    "start_time": "2023-05-18T16:47:40.170Z"
   },
   {
    "duration": 507,
    "start_time": "2023-05-18T16:47:40.400Z"
   },
   {
    "duration": 89,
    "start_time": "2023-05-18T16:52:59.857Z"
   },
   {
    "duration": 398,
    "start_time": "2023-05-18T16:54:17.246Z"
   },
   {
    "duration": 453,
    "start_time": "2023-05-18T16:55:00.042Z"
   },
   {
    "duration": 28,
    "start_time": "2023-05-18T16:59:25.918Z"
   },
   {
    "duration": 20,
    "start_time": "2023-05-18T17:37:57.591Z"
   },
   {
    "duration": 379,
    "start_time": "2023-05-18T17:38:21.191Z"
   },
   {
    "duration": 343,
    "start_time": "2023-05-18T17:38:41.098Z"
   },
   {
    "duration": 376,
    "start_time": "2023-05-18T17:38:52.544Z"
   },
   {
    "duration": 443,
    "start_time": "2023-05-18T17:40:14.154Z"
   },
   {
    "duration": 349,
    "start_time": "2023-05-18T17:40:25.001Z"
   },
   {
    "duration": 138,
    "start_time": "2023-05-18T17:42:40.627Z"
   },
   {
    "duration": 133,
    "start_time": "2023-05-18T17:43:27.404Z"
   },
   {
    "duration": 129,
    "start_time": "2023-05-18T17:43:34.992Z"
   },
   {
    "duration": 150,
    "start_time": "2023-05-18T17:47:26.882Z"
   },
   {
    "duration": 140,
    "start_time": "2023-05-18T17:47:52.853Z"
   },
   {
    "duration": 163,
    "start_time": "2023-05-18T17:49:15.190Z"
   },
   {
    "duration": 157,
    "start_time": "2023-05-18T17:49:23.846Z"
   },
   {
    "duration": 295,
    "start_time": "2023-05-18T17:49:36.501Z"
   },
   {
    "duration": 163,
    "start_time": "2023-05-18T17:49:48.643Z"
   },
   {
    "duration": 212,
    "start_time": "2023-05-18T17:49:55.719Z"
   },
   {
    "duration": 169,
    "start_time": "2023-05-18T17:50:02.523Z"
   },
   {
    "duration": 202,
    "start_time": "2023-05-18T17:50:09.486Z"
   },
   {
    "duration": 168,
    "start_time": "2023-05-18T17:50:17.853Z"
   },
   {
    "duration": 210,
    "start_time": "2023-05-18T17:50:29.717Z"
   },
   {
    "duration": 166,
    "start_time": "2023-05-18T17:50:36.526Z"
   },
   {
    "duration": 150,
    "start_time": "2023-05-18T17:50:45.299Z"
   },
   {
    "duration": 200,
    "start_time": "2023-05-18T17:53:13.358Z"
   },
   {
    "duration": 207,
    "start_time": "2023-05-18T17:54:39.459Z"
   },
   {
    "duration": 224,
    "start_time": "2023-05-18T17:57:38.723Z"
   },
   {
    "duration": 165,
    "start_time": "2023-05-18T18:02:08.941Z"
   },
   {
    "duration": 170,
    "start_time": "2023-05-18T18:03:13.602Z"
   },
   {
    "duration": 253,
    "start_time": "2023-05-18T18:05:38.884Z"
   },
   {
    "duration": 232,
    "start_time": "2023-05-18T18:08:01.198Z"
   },
   {
    "duration": 223,
    "start_time": "2023-05-18T18:08:29.951Z"
   },
   {
    "duration": 153,
    "start_time": "2023-05-18T18:09:40.849Z"
   },
   {
    "duration": 522,
    "start_time": "2023-05-18T18:17:46.552Z"
   },
   {
    "duration": 379,
    "start_time": "2023-05-18T18:18:34.073Z"
   },
   {
    "duration": 206,
    "start_time": "2023-05-18T18:18:49.889Z"
   },
   {
    "duration": 307,
    "start_time": "2023-05-18T18:19:23.655Z"
   },
   {
    "duration": 2150,
    "start_time": "2023-05-18T18:22:42.302Z"
   },
   {
    "duration": 53,
    "start_time": "2023-05-18T18:25:15.595Z"
   },
   {
    "duration": 183,
    "start_time": "2023-05-18T18:25:31.935Z"
   },
   {
    "duration": 172,
    "start_time": "2023-05-18T18:26:00.433Z"
   },
   {
    "duration": 2118,
    "start_time": "2023-05-18T18:26:00.607Z"
   },
   {
    "duration": 177,
    "start_time": "2023-05-18T18:27:02.451Z"
   },
   {
    "duration": 928,
    "start_time": "2023-05-18T18:28:05.341Z"
   },
   {
    "duration": 183,
    "start_time": "2023-05-18T18:28:24.940Z"
   },
   {
    "duration": 189,
    "start_time": "2023-05-18T18:28:44.733Z"
   },
   {
    "duration": 209,
    "start_time": "2023-05-18T18:29:47.918Z"
   },
   {
    "duration": 2654,
    "start_time": "2023-05-19T17:16:39.837Z"
   },
   {
    "duration": 38,
    "start_time": "2023-05-19T17:16:42.493Z"
   },
   {
    "duration": 47,
    "start_time": "2023-05-19T17:16:42.533Z"
   },
   {
    "duration": 9,
    "start_time": "2023-05-19T17:16:42.585Z"
   },
   {
    "duration": 5,
    "start_time": "2023-05-19T17:16:42.595Z"
   },
   {
    "duration": 353,
    "start_time": "2023-05-19T17:16:42.601Z"
   },
   {
    "duration": 119,
    "start_time": "2023-05-19T17:16:42.955Z"
   },
   {
    "duration": 130,
    "start_time": "2023-05-19T17:16:43.076Z"
   },
   {
    "duration": 116,
    "start_time": "2023-05-19T17:16:43.208Z"
   },
   {
    "duration": 198,
    "start_time": "2023-05-19T17:16:43.326Z"
   },
   {
    "duration": 127,
    "start_time": "2023-05-19T17:16:43.525Z"
   },
   {
    "duration": 134,
    "start_time": "2023-05-19T17:16:43.654Z"
   },
   {
    "duration": 135,
    "start_time": "2023-05-19T17:16:43.790Z"
   },
   {
    "duration": 111,
    "start_time": "2023-05-19T17:16:43.927Z"
   },
   {
    "duration": 138,
    "start_time": "2023-05-19T17:16:44.039Z"
   },
   {
    "duration": 131,
    "start_time": "2023-05-19T17:16:44.178Z"
   },
   {
    "duration": 124,
    "start_time": "2023-05-19T17:16:44.311Z"
   },
   {
    "duration": 124,
    "start_time": "2023-05-19T17:16:44.437Z"
   },
   {
    "duration": 145,
    "start_time": "2023-05-19T17:16:44.563Z"
   },
   {
    "duration": 115,
    "start_time": "2023-05-19T17:16:44.709Z"
   },
   {
    "duration": 5,
    "start_time": "2023-05-19T17:16:44.825Z"
   },
   {
    "duration": 195,
    "start_time": "2023-05-19T17:16:44.831Z"
   },
   {
    "duration": 236,
    "start_time": "2023-05-19T17:16:45.028Z"
   },
   {
    "duration": 165,
    "start_time": "2023-05-19T17:16:45.266Z"
   },
   {
    "duration": 125,
    "start_time": "2023-05-19T17:16:45.432Z"
   },
   {
    "duration": 283,
    "start_time": "2023-05-19T17:16:45.559Z"
   },
   {
    "duration": 133,
    "start_time": "2023-05-19T17:16:45.843Z"
   },
   {
    "duration": 132,
    "start_time": "2023-05-19T17:16:45.985Z"
   },
   {
    "duration": 127,
    "start_time": "2023-05-19T17:16:46.118Z"
   },
   {
    "duration": 75,
    "start_time": "2023-05-19T17:16:46.246Z"
   },
   {
    "duration": 30,
    "start_time": "2023-05-19T17:22:51.874Z"
   },
   {
    "duration": 29,
    "start_time": "2023-05-19T17:24:29.185Z"
   },
   {
    "duration": 67,
    "start_time": "2023-05-19T17:29:18.454Z"
   },
   {
    "duration": 18,
    "start_time": "2023-05-19T17:29:30.167Z"
   },
   {
    "duration": 130,
    "start_time": "2023-05-19T17:29:49.265Z"
   },
   {
    "duration": 3010,
    "start_time": "2023-05-20T11:30:24.145Z"
   },
   {
    "duration": 49,
    "start_time": "2023-05-20T11:30:27.157Z"
   },
   {
    "duration": 55,
    "start_time": "2023-05-20T11:30:27.208Z"
   },
   {
    "duration": 22,
    "start_time": "2023-05-20T11:30:27.265Z"
   },
   {
    "duration": 6,
    "start_time": "2023-05-20T11:30:27.291Z"
   },
   {
    "duration": 389,
    "start_time": "2023-05-20T11:30:27.299Z"
   },
   {
    "duration": 156,
    "start_time": "2023-05-20T11:30:27.690Z"
   },
   {
    "duration": 157,
    "start_time": "2023-05-20T11:30:27.849Z"
   },
   {
    "duration": 142,
    "start_time": "2023-05-20T11:30:28.007Z"
   },
   {
    "duration": 253,
    "start_time": "2023-05-20T11:30:28.150Z"
   },
   {
    "duration": 160,
    "start_time": "2023-05-20T11:30:28.405Z"
   },
   {
    "duration": 166,
    "start_time": "2023-05-20T11:30:28.567Z"
   },
   {
    "duration": 160,
    "start_time": "2023-05-20T11:30:28.735Z"
   },
   {
    "duration": 132,
    "start_time": "2023-05-20T11:30:28.898Z"
   },
   {
    "duration": 156,
    "start_time": "2023-05-20T11:30:29.031Z"
   },
   {
    "duration": 142,
    "start_time": "2023-05-20T11:30:29.188Z"
   },
   {
    "duration": 150,
    "start_time": "2023-05-20T11:30:29.332Z"
   },
   {
    "duration": 155,
    "start_time": "2023-05-20T11:30:29.484Z"
   },
   {
    "duration": 166,
    "start_time": "2023-05-20T11:30:29.640Z"
   },
   {
    "duration": 147,
    "start_time": "2023-05-20T11:30:29.808Z"
   },
   {
    "duration": 6,
    "start_time": "2023-05-20T11:30:29.957Z"
   },
   {
    "duration": 203,
    "start_time": "2023-05-20T11:30:29.964Z"
   },
   {
    "duration": 298,
    "start_time": "2023-05-20T11:30:30.169Z"
   },
   {
    "duration": 203,
    "start_time": "2023-05-20T11:30:30.469Z"
   },
   {
    "duration": 152,
    "start_time": "2023-05-20T11:30:30.678Z"
   },
   {
    "duration": 332,
    "start_time": "2023-05-20T11:30:30.832Z"
   },
   {
    "duration": 161,
    "start_time": "2023-05-20T11:30:31.166Z"
   },
   {
    "duration": 167,
    "start_time": "2023-05-20T11:30:31.328Z"
   },
   {
    "duration": 168,
    "start_time": "2023-05-20T11:30:31.497Z"
   },
   {
    "duration": 48,
    "start_time": "2023-05-20T11:30:31.667Z"
   },
   {
    "duration": 166,
    "start_time": "2023-05-20T11:30:31.717Z"
   },
   {
    "duration": 105,
    "start_time": "2023-05-20T11:30:31.884Z"
   },
   {
    "duration": 2718,
    "start_time": "2023-05-20T12:08:06.193Z"
   },
   {
    "duration": 48,
    "start_time": "2023-05-20T12:08:08.913Z"
   },
   {
    "duration": 53,
    "start_time": "2023-05-20T12:08:08.963Z"
   },
   {
    "duration": 10,
    "start_time": "2023-05-20T12:08:09.018Z"
   },
   {
    "duration": 6,
    "start_time": "2023-05-20T12:08:09.030Z"
   },
   {
    "duration": 362,
    "start_time": "2023-05-20T12:08:09.038Z"
   },
   {
    "duration": 167,
    "start_time": "2023-05-20T12:08:09.402Z"
   },
   {
    "duration": 160,
    "start_time": "2023-05-20T12:08:09.571Z"
   },
   {
    "duration": 144,
    "start_time": "2023-05-20T12:08:09.733Z"
   },
   {
    "duration": 261,
    "start_time": "2023-05-20T12:08:09.879Z"
   },
   {
    "duration": 164,
    "start_time": "2023-05-20T12:08:10.142Z"
   },
   {
    "duration": 170,
    "start_time": "2023-05-20T12:08:10.308Z"
   },
   {
    "duration": 172,
    "start_time": "2023-05-20T12:08:10.480Z"
   },
   {
    "duration": 136,
    "start_time": "2023-05-20T12:08:10.656Z"
   },
   {
    "duration": 166,
    "start_time": "2023-05-20T12:08:10.794Z"
   },
   {
    "duration": 158,
    "start_time": "2023-05-20T12:08:10.962Z"
   },
   {
    "duration": 157,
    "start_time": "2023-05-20T12:08:11.122Z"
   },
   {
    "duration": 150,
    "start_time": "2023-05-20T12:08:11.282Z"
   },
   {
    "duration": 171,
    "start_time": "2023-05-20T12:08:11.435Z"
   },
   {
    "duration": 150,
    "start_time": "2023-05-20T12:08:11.608Z"
   },
   {
    "duration": 19,
    "start_time": "2023-05-20T12:08:11.760Z"
   },
   {
    "duration": 190,
    "start_time": "2023-05-20T12:08:11.781Z"
   },
   {
    "duration": 291,
    "start_time": "2023-05-20T12:08:11.977Z"
   },
   {
    "duration": 212,
    "start_time": "2023-05-20T12:08:12.269Z"
   },
   {
    "duration": 149,
    "start_time": "2023-05-20T12:08:12.482Z"
   },
   {
    "duration": 324,
    "start_time": "2023-05-20T12:08:12.633Z"
   },
   {
    "duration": 164,
    "start_time": "2023-05-20T12:08:12.959Z"
   },
   {
    "duration": 164,
    "start_time": "2023-05-20T12:08:13.125Z"
   },
   {
    "duration": 148,
    "start_time": "2023-05-20T12:08:13.291Z"
   },
   {
    "duration": 49,
    "start_time": "2023-05-20T12:08:13.442Z"
   },
   {
    "duration": 174,
    "start_time": "2023-05-20T12:08:13.492Z"
   },
   {
    "duration": 104,
    "start_time": "2023-05-20T14:00:27.067Z"
   },
   {
    "duration": 44,
    "start_time": "2023-05-20T14:01:05.071Z"
   },
   {
    "duration": 9,
    "start_time": "2023-05-20T14:02:09.610Z"
   },
   {
    "duration": 10,
    "start_time": "2023-05-20T14:02:25.024Z"
   },
   {
    "duration": 18,
    "start_time": "2023-05-20T14:02:52.899Z"
   },
   {
    "duration": 3174,
    "start_time": "2023-05-22T14:37:12.967Z"
   },
   {
    "duration": 51,
    "start_time": "2023-05-22T14:37:16.143Z"
   },
   {
    "duration": 57,
    "start_time": "2023-05-22T14:37:16.195Z"
   },
   {
    "duration": 10,
    "start_time": "2023-05-22T14:37:16.254Z"
   },
   {
    "duration": 25,
    "start_time": "2023-05-22T14:37:16.266Z"
   },
   {
    "duration": 378,
    "start_time": "2023-05-22T14:37:16.293Z"
   },
   {
    "duration": 176,
    "start_time": "2023-05-22T14:37:16.673Z"
   },
   {
    "duration": 174,
    "start_time": "2023-05-22T14:37:16.850Z"
   },
   {
    "duration": 172,
    "start_time": "2023-05-22T14:37:17.025Z"
   },
   {
    "duration": 276,
    "start_time": "2023-05-22T14:37:17.200Z"
   },
   {
    "duration": 172,
    "start_time": "2023-05-22T14:37:17.477Z"
   },
   {
    "duration": 180,
    "start_time": "2023-05-22T14:37:17.651Z"
   },
   {
    "duration": 187,
    "start_time": "2023-05-22T14:37:17.833Z"
   },
   {
    "duration": 141,
    "start_time": "2023-05-22T14:37:18.022Z"
   },
   {
    "duration": 180,
    "start_time": "2023-05-22T14:37:18.165Z"
   },
   {
    "duration": 166,
    "start_time": "2023-05-22T14:37:18.347Z"
   },
   {
    "duration": 161,
    "start_time": "2023-05-22T14:37:18.515Z"
   },
   {
    "duration": 157,
    "start_time": "2023-05-22T14:37:18.677Z"
   },
   {
    "duration": 181,
    "start_time": "2023-05-22T14:37:18.836Z"
   },
   {
    "duration": 157,
    "start_time": "2023-05-22T14:37:19.019Z"
   },
   {
    "duration": 13,
    "start_time": "2023-05-22T14:37:19.178Z"
   },
   {
    "duration": 221,
    "start_time": "2023-05-22T14:37:19.193Z"
   },
   {
    "duration": 317,
    "start_time": "2023-05-22T14:37:19.416Z"
   },
   {
    "duration": 221,
    "start_time": "2023-05-22T14:37:19.735Z"
   },
   {
    "duration": 176,
    "start_time": "2023-05-22T14:37:19.958Z"
   },
   {
    "duration": 393,
    "start_time": "2023-05-22T14:37:20.137Z"
   },
   {
    "duration": 182,
    "start_time": "2023-05-22T14:37:20.533Z"
   },
   {
    "duration": 188,
    "start_time": "2023-05-22T14:37:20.718Z"
   },
   {
    "duration": 176,
    "start_time": "2023-05-22T14:37:20.908Z"
   },
   {
    "duration": 44,
    "start_time": "2023-05-22T14:37:21.087Z"
   },
   {
    "duration": 222,
    "start_time": "2023-05-22T14:37:21.133Z"
   },
   {
    "duration": 155,
    "start_time": "2023-05-22T14:37:44.650Z"
   },
   {
    "duration": 129,
    "start_time": "2023-05-22T14:37:53.534Z"
   },
   {
    "duration": 3307,
    "start_time": "2023-05-23T17:48:30.888Z"
   },
   {
    "duration": 74,
    "start_time": "2023-05-23T17:48:34.199Z"
   },
   {
    "duration": 76,
    "start_time": "2023-05-23T17:48:34.276Z"
   },
   {
    "duration": 11,
    "start_time": "2023-05-23T17:48:34.358Z"
   },
   {
    "duration": 15,
    "start_time": "2023-05-23T17:48:34.375Z"
   },
   {
    "duration": 447,
    "start_time": "2023-05-23T17:48:34.392Z"
   },
   {
    "duration": 238,
    "start_time": "2023-05-23T17:48:34.842Z"
   },
   {
    "duration": 169,
    "start_time": "2023-05-23T17:48:35.082Z"
   },
   {
    "duration": 246,
    "start_time": "2023-05-23T17:48:35.258Z"
   },
   {
    "duration": 322,
    "start_time": "2023-05-23T17:48:35.507Z"
   },
   {
    "duration": 197,
    "start_time": "2023-05-23T17:48:35.831Z"
   },
   {
    "duration": 194,
    "start_time": "2023-05-23T17:48:36.030Z"
   },
   {
    "duration": 213,
    "start_time": "2023-05-23T17:48:36.226Z"
   },
   {
    "duration": 194,
    "start_time": "2023-05-23T17:48:36.442Z"
   },
   {
    "duration": 213,
    "start_time": "2023-05-23T17:48:36.639Z"
   },
   {
    "duration": 225,
    "start_time": "2023-05-23T17:48:36.854Z"
   },
   {
    "duration": 159,
    "start_time": "2023-05-23T17:48:37.081Z"
   },
   {
    "duration": 189,
    "start_time": "2023-05-23T17:48:37.243Z"
   },
   {
    "duration": 201,
    "start_time": "2023-05-23T17:48:37.434Z"
   },
   {
    "duration": 172,
    "start_time": "2023-05-23T17:48:37.637Z"
   },
   {
    "duration": 8,
    "start_time": "2023-05-23T17:48:37.811Z"
   },
   {
    "duration": 377,
    "start_time": "2023-05-23T17:48:37.821Z"
   },
   {
    "duration": 317,
    "start_time": "2023-05-23T17:48:38.199Z"
   },
   {
    "duration": 220,
    "start_time": "2023-05-23T17:48:38.518Z"
   },
   {
    "duration": 177,
    "start_time": "2023-05-23T17:48:38.740Z"
   },
   {
    "duration": 386,
    "start_time": "2023-05-23T17:48:38.919Z"
   },
   {
    "duration": 179,
    "start_time": "2023-05-23T17:48:39.307Z"
   },
   {
    "duration": 189,
    "start_time": "2023-05-23T17:48:39.488Z"
   },
   {
    "duration": 166,
    "start_time": "2023-05-23T17:48:39.680Z"
   },
   {
    "duration": 52,
    "start_time": "2023-05-23T17:48:39.848Z"
   },
   {
    "duration": 202,
    "start_time": "2023-05-23T17:48:39.901Z"
   },
   {
    "duration": 2233,
    "start_time": "2023-05-23T17:59:39.576Z"
   },
   {
    "duration": 55,
    "start_time": "2023-05-23T17:59:41.811Z"
   },
   {
    "duration": 58,
    "start_time": "2023-05-23T17:59:41.868Z"
   },
   {
    "duration": 9,
    "start_time": "2023-05-23T17:59:41.928Z"
   },
   {
    "duration": 5,
    "start_time": "2023-05-23T17:59:41.957Z"
   },
   {
    "duration": 390,
    "start_time": "2023-05-23T17:59:41.964Z"
   },
   {
    "duration": 154,
    "start_time": "2023-05-23T17:59:42.355Z"
   },
   {
    "duration": 163,
    "start_time": "2023-05-23T17:59:42.511Z"
   },
   {
    "duration": 262,
    "start_time": "2023-05-23T17:59:42.675Z"
   },
   {
    "duration": 190,
    "start_time": "2023-05-23T17:59:42.939Z"
   },
   {
    "duration": 174,
    "start_time": "2023-05-23T17:59:43.130Z"
   },
   {
    "duration": 169,
    "start_time": "2023-05-23T17:59:43.305Z"
   },
   {
    "duration": 161,
    "start_time": "2023-05-23T17:59:43.476Z"
   },
   {
    "duration": 139,
    "start_time": "2023-05-23T17:59:43.639Z"
   },
   {
    "duration": 201,
    "start_time": "2023-05-23T17:59:43.780Z"
   },
   {
    "duration": 193,
    "start_time": "2023-05-23T17:59:43.986Z"
   },
   {
    "duration": 190,
    "start_time": "2023-05-23T17:59:44.181Z"
   },
   {
    "duration": 131,
    "start_time": "2023-05-23T17:59:44.373Z"
   },
   {
    "duration": 169,
    "start_time": "2023-05-23T17:59:44.506Z"
   },
   {
    "duration": 164,
    "start_time": "2023-05-23T17:59:44.676Z"
   },
   {
    "duration": 6,
    "start_time": "2023-05-23T17:59:44.842Z"
   },
   {
    "duration": 215,
    "start_time": "2023-05-23T17:59:44.860Z"
   },
   {
    "duration": 202,
    "start_time": "2023-05-23T17:59:45.076Z"
   },
   {
    "duration": 202,
    "start_time": "2023-05-23T17:59:45.279Z"
   },
   {
    "duration": 162,
    "start_time": "2023-05-23T17:59:45.482Z"
   },
   {
    "duration": 298,
    "start_time": "2023-05-23T17:59:45.646Z"
   },
   {
    "duration": 178,
    "start_time": "2023-05-23T17:59:45.946Z"
   },
   {
    "duration": 175,
    "start_time": "2023-05-23T17:59:46.127Z"
   },
   {
    "duration": 172,
    "start_time": "2023-05-23T17:59:46.304Z"
   },
   {
    "duration": 37,
    "start_time": "2023-05-23T17:59:46.477Z"
   },
   {
    "duration": 341,
    "start_time": "2023-05-23T17:59:46.515Z"
   },
   {
    "duration": 2163,
    "start_time": "2023-05-23T18:00:41.000Z"
   },
   {
    "duration": 63,
    "start_time": "2023-05-23T18:01:14.469Z"
   },
   {
    "duration": 62,
    "start_time": "2023-05-23T18:05:23.239Z"
   },
   {
    "duration": 377,
    "start_time": "2023-05-23T18:07:13.343Z"
   },
   {
    "duration": 354,
    "start_time": "2023-05-23T18:10:44.515Z"
   },
   {
    "duration": 237,
    "start_time": "2023-05-23T18:10:53.950Z"
   },
   {
    "duration": 194,
    "start_time": "2023-05-23T18:11:03.149Z"
   },
   {
    "duration": 205,
    "start_time": "2023-05-23T18:11:15.479Z"
   },
   {
    "duration": 180,
    "start_time": "2023-05-23T18:12:21.892Z"
   },
   {
    "duration": 176,
    "start_time": "2023-05-23T18:12:28.450Z"
   },
   {
    "duration": 205,
    "start_time": "2023-05-23T18:13:31.777Z"
   },
   {
    "duration": 202,
    "start_time": "2023-05-23T18:15:21.635Z"
   },
   {
    "duration": 226,
    "start_time": "2023-05-23T18:17:21.202Z"
   },
   {
    "duration": 172,
    "start_time": "2023-05-23T18:17:32.738Z"
   },
   {
    "duration": 180,
    "start_time": "2023-05-23T18:17:46.090Z"
   },
   {
    "duration": 186,
    "start_time": "2023-05-23T18:17:59.354Z"
   },
   {
    "duration": 316,
    "start_time": "2023-05-23T18:18:53.934Z"
   },
   {
    "duration": 2376,
    "start_time": "2023-05-23T18:20:47.691Z"
   },
   {
    "duration": 66,
    "start_time": "2023-05-23T18:20:50.073Z"
   },
   {
    "duration": 80,
    "start_time": "2023-05-23T18:20:50.141Z"
   },
   {
    "duration": 11,
    "start_time": "2023-05-23T18:20:50.224Z"
   },
   {
    "duration": 29,
    "start_time": "2023-05-23T18:20:50.237Z"
   },
   {
    "duration": 460,
    "start_time": "2023-05-23T18:20:50.268Z"
   },
   {
    "duration": 255,
    "start_time": "2023-05-23T18:20:50.730Z"
   },
   {
    "duration": 226,
    "start_time": "2023-05-23T18:20:50.987Z"
   },
   {
    "duration": 226,
    "start_time": "2023-05-23T18:20:51.215Z"
   },
   {
    "duration": 277,
    "start_time": "2023-05-23T18:20:51.444Z"
   },
   {
    "duration": 256,
    "start_time": "2023-05-23T18:20:51.724Z"
   },
   {
    "duration": 227,
    "start_time": "2023-05-23T18:20:51.982Z"
   },
   {
    "duration": 194,
    "start_time": "2023-05-23T18:20:52.211Z"
   },
   {
    "duration": 151,
    "start_time": "2023-05-23T18:20:52.407Z"
   },
   {
    "duration": 185,
    "start_time": "2023-05-23T18:20:52.565Z"
   },
   {
    "duration": 171,
    "start_time": "2023-05-23T18:20:52.751Z"
   },
   {
    "duration": 180,
    "start_time": "2023-05-23T18:20:52.924Z"
   },
   {
    "duration": 175,
    "start_time": "2023-05-23T18:20:53.106Z"
   },
   {
    "duration": 207,
    "start_time": "2023-05-23T18:20:53.284Z"
   },
   {
    "duration": 194,
    "start_time": "2023-05-23T18:20:53.493Z"
   },
   {
    "duration": 6,
    "start_time": "2023-05-23T18:20:53.689Z"
   },
   {
    "duration": 286,
    "start_time": "2023-05-23T18:20:53.698Z"
   },
   {
    "duration": 303,
    "start_time": "2023-05-23T18:20:53.985Z"
   },
   {
    "duration": 301,
    "start_time": "2023-05-23T18:20:54.291Z"
   },
   {
    "duration": 194,
    "start_time": "2023-05-23T18:20:54.594Z"
   },
   {
    "duration": 287,
    "start_time": "2023-05-23T18:20:54.790Z"
   },
   {
    "duration": 208,
    "start_time": "2023-05-23T18:20:55.080Z"
   },
   {
    "duration": 201,
    "start_time": "2023-05-23T18:20:55.292Z"
   },
   {
    "duration": 185,
    "start_time": "2023-05-23T18:20:55.495Z"
   },
   {
    "duration": 37,
    "start_time": "2023-05-23T18:20:55.682Z"
   },
   {
    "duration": 445,
    "start_time": "2023-05-23T18:20:55.721Z"
   },
   {
    "duration": 175,
    "start_time": "2023-05-23T18:21:22.942Z"
   },
   {
    "duration": 224,
    "start_time": "2023-05-23T19:04:08.107Z"
   },
   {
    "duration": 150,
    "start_time": "2023-05-23T19:04:16.596Z"
   },
   {
    "duration": 160,
    "start_time": "2023-05-23T19:04:46.157Z"
   },
   {
    "duration": 203,
    "start_time": "2023-05-23T19:05:24.182Z"
   },
   {
    "duration": 155,
    "start_time": "2023-05-23T19:09:06.121Z"
   },
   {
    "duration": 3108,
    "start_time": "2024-03-08T17:49:54.726Z"
   },
   {
    "duration": 64,
    "start_time": "2024-03-08T17:49:57.836Z"
   },
   {
    "duration": 62,
    "start_time": "2024-03-08T17:49:57.901Z"
   },
   {
    "duration": 9,
    "start_time": "2024-03-08T17:49:57.964Z"
   },
   {
    "duration": 12,
    "start_time": "2024-03-08T17:49:57.974Z"
   },
   {
    "duration": 403,
    "start_time": "2024-03-08T17:49:57.987Z"
   },
   {
    "duration": 210,
    "start_time": "2024-03-08T17:49:58.392Z"
   },
   {
    "duration": 185,
    "start_time": "2024-03-08T17:49:58.604Z"
   },
   {
    "duration": 176,
    "start_time": "2024-03-08T17:49:58.791Z"
   },
   {
    "duration": 266,
    "start_time": "2024-03-08T17:49:58.971Z"
   },
   {
    "duration": 184,
    "start_time": "2024-03-08T17:49:59.239Z"
   },
   {
    "duration": 218,
    "start_time": "2024-03-08T17:49:59.424Z"
   },
   {
    "duration": 179,
    "start_time": "2024-03-08T17:49:59.644Z"
   },
   {
    "duration": 145,
    "start_time": "2024-03-08T17:49:59.824Z"
   },
   {
    "duration": 172,
    "start_time": "2024-03-08T17:49:59.971Z"
   },
   {
    "duration": 174,
    "start_time": "2024-03-08T17:50:00.144Z"
   },
   {
    "duration": 186,
    "start_time": "2024-03-08T17:50:00.320Z"
   },
   {
    "duration": 180,
    "start_time": "2024-03-08T17:50:00.508Z"
   },
   {
    "duration": 178,
    "start_time": "2024-03-08T17:50:00.690Z"
   },
   {
    "duration": 177,
    "start_time": "2024-03-08T17:50:00.870Z"
   },
   {
    "duration": 9,
    "start_time": "2024-03-08T17:50:01.049Z"
   },
   {
    "duration": 324,
    "start_time": "2024-03-08T17:50:01.059Z"
   },
   {
    "duration": 250,
    "start_time": "2024-03-08T17:50:01.385Z"
   },
   {
    "duration": 216,
    "start_time": "2024-03-08T17:50:01.637Z"
   },
   {
    "duration": 163,
    "start_time": "2024-03-08T17:50:01.855Z"
   },
   {
    "duration": 371,
    "start_time": "2024-03-08T17:50:02.019Z"
   },
   {
    "duration": 180,
    "start_time": "2024-03-08T17:50:02.392Z"
   },
   {
    "duration": 197,
    "start_time": "2024-03-08T17:50:02.576Z"
   },
   {
    "duration": 165,
    "start_time": "2024-03-08T17:50:02.775Z"
   },
   {
    "duration": 37,
    "start_time": "2024-03-08T17:50:02.942Z"
   },
   {
    "duration": 187,
    "start_time": "2024-03-08T17:50:02.980Z"
   }
  ],
  "kernelspec": {
   "display_name": "Python 3 (ipykernel)",
   "language": "python",
   "name": "python3"
  },
  "language_info": {
   "codemirror_mode": {
    "name": "ipython",
    "version": 3
   },
   "file_extension": ".py",
   "mimetype": "text/x-python",
   "name": "python",
   "nbconvert_exporter": "python",
   "pygments_lexer": "ipython3",
   "version": "3.12.3"
  },
  "toc": {
   "base_numbering": 1,
   "nav_menu": {},
   "number_sections": true,
   "sideBar": true,
   "skip_h1_title": true,
   "title_cell": "Table of Contents",
   "title_sidebar": "Contents",
   "toc_cell": false,
   "toc_position": {
    "height": "calc(100% - 180px)",
    "left": "10px",
    "top": "150px",
    "width": "248.368px"
   },
   "toc_section_display": true,
   "toc_window_display": true
  }
 },
 "nbformat": 4,
 "nbformat_minor": 4
}
