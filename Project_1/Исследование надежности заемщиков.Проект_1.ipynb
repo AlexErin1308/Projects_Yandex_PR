{
 "cells": [
  {
   "cell_type": "markdown",
   "id": "bb921f72",
   "metadata": {},
   "source": [
    "# Исследование надежности заемщиков"
   ]
  },
  {
   "cell_type": "markdown",
   "id": "22de11af",
   "metadata": {},
   "source": [
    "<div class=\"alert alert-success\">\n",
    "    <b>ОПИСАНИЕ ПРОЕКТА:</b>\n",
    "    \n",
    "Заказчик проекта - кредитный отдел банка. Для построения модели кредитного скоринга необходимо выявить зависимость платежоспособности (оплата кредита в установленный срок) клиентов от семейного положения, количества детей, целей кредита и уровня дохода.</div>\n"
   ]
  },
  {
   "cell_type": "markdown",
   "id": "e835fdd6",
   "metadata": {},
   "source": [
    "<div class=\"alert alert-success\">\n",
    "    <b>ЦЕЛЬ ПРОЕКТА:</b>\n",
    "\n",
    "1. Установить зависимость между наличием детей и возвратом кредита в срок.\n",
    "2. Установить  зависимость между семейным положением и возвратом кредита в срок.\n",
    "3. Установить зависимость между уровнем дохода и возвратом кредита в срок.\n",
    "4. Установить как разные цели кредита влияют на его возврат в срок.</div>\n"
   ]
  },
  {
   "cell_type": "markdown",
   "id": "c3b63ce5",
   "metadata": {},
   "source": [
    "## Откройте таблицу и изучите общую информацию о данных"
   ]
  },
  {
   "cell_type": "markdown",
   "id": "b75897de",
   "metadata": {},
   "source": [
    "**Импортируйте библиотеку pandas. Считайте данные из csv-файла в датафрейм и сохраните в переменную `data`. Путь к файлу:**\n",
    "\n",
    "`/datasets/data.csv`"
   ]
  },
  {
   "cell_type": "code",
   "execution_count": 1,
   "id": "a5d8cb01",
   "metadata": {},
   "outputs": [],
   "source": [
    "import pandas as pd\n",
    "\n",
    "try:\n",
    "    data = pd.read_csv('/datasets/data.csv')\n",
    "except:\n",
    "    data = pd.read_csv('https://code.s3.yandex.net/datasets/data.csv')"
   ]
  },
  {
   "cell_type": "markdown",
   "id": "e9323338",
   "metadata": {},
   "source": [
    "**Выведите первые 20 строчек датафрейма `data` на экран.**"
   ]
  },
  {
   "cell_type": "code",
   "execution_count": 2,
   "id": "4ee521dd",
   "metadata": {},
   "outputs": [
    {
     "data": {
      "text/html": [
       "<div>\n",
       "<style scoped>\n",
       "    .dataframe tbody tr th:only-of-type {\n",
       "        vertical-align: middle;\n",
       "    }\n",
       "\n",
       "    .dataframe tbody tr th {\n",
       "        vertical-align: top;\n",
       "    }\n",
       "\n",
       "    .dataframe thead th {\n",
       "        text-align: right;\n",
       "    }\n",
       "</style>\n",
       "<table border=\"1\" class=\"dataframe\">\n",
       "  <thead>\n",
       "    <tr style=\"text-align: right;\">\n",
       "      <th></th>\n",
       "      <th>children</th>\n",
       "      <th>days_employed</th>\n",
       "      <th>dob_years</th>\n",
       "      <th>education</th>\n",
       "      <th>education_id</th>\n",
       "      <th>family_status</th>\n",
       "      <th>family_status_id</th>\n",
       "      <th>gender</th>\n",
       "      <th>income_type</th>\n",
       "      <th>debt</th>\n",
       "      <th>total_income</th>\n",
       "      <th>purpose</th>\n",
       "    </tr>\n",
       "  </thead>\n",
       "  <tbody>\n",
       "    <tr>\n",
       "      <th>0</th>\n",
       "      <td>1</td>\n",
       "      <td>-8437.673028</td>\n",
       "      <td>42</td>\n",
       "      <td>высшее</td>\n",
       "      <td>0</td>\n",
       "      <td>женат / замужем</td>\n",
       "      <td>0</td>\n",
       "      <td>F</td>\n",
       "      <td>сотрудник</td>\n",
       "      <td>0</td>\n",
       "      <td>253875.639453</td>\n",
       "      <td>покупка жилья</td>\n",
       "    </tr>\n",
       "    <tr>\n",
       "      <th>1</th>\n",
       "      <td>1</td>\n",
       "      <td>-4024.803754</td>\n",
       "      <td>36</td>\n",
       "      <td>среднее</td>\n",
       "      <td>1</td>\n",
       "      <td>женат / замужем</td>\n",
       "      <td>0</td>\n",
       "      <td>F</td>\n",
       "      <td>сотрудник</td>\n",
       "      <td>0</td>\n",
       "      <td>112080.014102</td>\n",
       "      <td>приобретение автомобиля</td>\n",
       "    </tr>\n",
       "    <tr>\n",
       "      <th>2</th>\n",
       "      <td>0</td>\n",
       "      <td>-5623.422610</td>\n",
       "      <td>33</td>\n",
       "      <td>Среднее</td>\n",
       "      <td>1</td>\n",
       "      <td>женат / замужем</td>\n",
       "      <td>0</td>\n",
       "      <td>M</td>\n",
       "      <td>сотрудник</td>\n",
       "      <td>0</td>\n",
       "      <td>145885.952297</td>\n",
       "      <td>покупка жилья</td>\n",
       "    </tr>\n",
       "    <tr>\n",
       "      <th>3</th>\n",
       "      <td>3</td>\n",
       "      <td>-4124.747207</td>\n",
       "      <td>32</td>\n",
       "      <td>среднее</td>\n",
       "      <td>1</td>\n",
       "      <td>женат / замужем</td>\n",
       "      <td>0</td>\n",
       "      <td>M</td>\n",
       "      <td>сотрудник</td>\n",
       "      <td>0</td>\n",
       "      <td>267628.550329</td>\n",
       "      <td>дополнительное образование</td>\n",
       "    </tr>\n",
       "    <tr>\n",
       "      <th>4</th>\n",
       "      <td>0</td>\n",
       "      <td>340266.072047</td>\n",
       "      <td>53</td>\n",
       "      <td>среднее</td>\n",
       "      <td>1</td>\n",
       "      <td>гражданский брак</td>\n",
       "      <td>1</td>\n",
       "      <td>F</td>\n",
       "      <td>пенсионер</td>\n",
       "      <td>0</td>\n",
       "      <td>158616.077870</td>\n",
       "      <td>сыграть свадьбу</td>\n",
       "    </tr>\n",
       "  </tbody>\n",
       "</table>\n",
       "</div>"
      ],
      "text/plain": [
       "   children  days_employed  dob_years education  education_id  \\\n",
       "0         1   -8437.673028         42    высшее             0   \n",
       "1         1   -4024.803754         36   среднее             1   \n",
       "2         0   -5623.422610         33   Среднее             1   \n",
       "3         3   -4124.747207         32   среднее             1   \n",
       "4         0  340266.072047         53   среднее             1   \n",
       "\n",
       "      family_status  family_status_id gender income_type  debt   total_income  \\\n",
       "0   женат / замужем                 0      F   сотрудник     0  253875.639453   \n",
       "1   женат / замужем                 0      F   сотрудник     0  112080.014102   \n",
       "2   женат / замужем                 0      M   сотрудник     0  145885.952297   \n",
       "3   женат / замужем                 0      M   сотрудник     0  267628.550329   \n",
       "4  гражданский брак                 1      F   пенсионер     0  158616.077870   \n",
       "\n",
       "                      purpose  \n",
       "0               покупка жилья  \n",
       "1     приобретение автомобиля  \n",
       "2               покупка жилья  \n",
       "3  дополнительное образование  \n",
       "4             сыграть свадьбу  "
      ]
     },
     "execution_count": 2,
     "metadata": {},
     "output_type": "execute_result"
    }
   ],
   "source": [
    "data.head()"
   ]
  },
  {
   "cell_type": "markdown",
   "id": "9b92b66d",
   "metadata": {},
   "source": [
    "**Выведите основную информацию о датафрейме с помощью метода `info()`.**"
   ]
  },
  {
   "cell_type": "code",
   "execution_count": 3,
   "id": "c21e00cb",
   "metadata": {},
   "outputs": [
    {
     "name": "stdout",
     "output_type": "stream",
     "text": [
      "<class 'pandas.core.frame.DataFrame'>\n",
      "RangeIndex: 21525 entries, 0 to 21524\n",
      "Data columns (total 12 columns):\n",
      " #   Column            Non-Null Count  Dtype  \n",
      "---  ------            --------------  -----  \n",
      " 0   children          21525 non-null  int64  \n",
      " 1   days_employed     19351 non-null  float64\n",
      " 2   dob_years         21525 non-null  int64  \n",
      " 3   education         21525 non-null  object \n",
      " 4   education_id      21525 non-null  int64  \n",
      " 5   family_status     21525 non-null  object \n",
      " 6   family_status_id  21525 non-null  int64  \n",
      " 7   gender            21525 non-null  object \n",
      " 8   income_type       21525 non-null  object \n",
      " 9   debt              21525 non-null  int64  \n",
      " 10  total_income      19351 non-null  float64\n",
      " 11  purpose           21525 non-null  object \n",
      "dtypes: float64(2), int64(5), object(5)\n",
      "memory usage: 2.0+ MB\n"
     ]
    }
   ],
   "source": [
    "data.info()"
   ]
  },
  {
   "cell_type": "markdown",
   "id": "f6408115",
   "metadata": {},
   "source": [
    "## Предобработка данных"
   ]
  },
  {
   "cell_type": "markdown",
   "id": "217140da",
   "metadata": {},
   "source": [
    "### Удаление пропусков"
   ]
  },
  {
   "cell_type": "markdown",
   "id": "930c7bf7",
   "metadata": {},
   "source": [
    "**Выведите количество пропущенных значений для каждого столбца. Используйте комбинацию двух методов.**"
   ]
  },
  {
   "cell_type": "code",
   "execution_count": 4,
   "id": "7820d818",
   "metadata": {},
   "outputs": [
    {
     "data": {
      "text/plain": [
       "children               0\n",
       "days_employed       2174\n",
       "dob_years              0\n",
       "education              0\n",
       "education_id           0\n",
       "family_status          0\n",
       "family_status_id       0\n",
       "gender                 0\n",
       "income_type            0\n",
       "debt                   0\n",
       "total_income        2174\n",
       "purpose                0\n",
       "dtype: int64"
      ]
     },
     "execution_count": 4,
     "metadata": {},
     "output_type": "execute_result"
    }
   ],
   "source": [
    "data.isna().sum()"
   ]
  },
  {
   "cell_type": "markdown",
   "id": "8ec93fc4",
   "metadata": {},
   "source": [
    "**В двух столбцах есть пропущенные значения. Один из них — `days_employed`. Пропуски в этом столбце вы обработаете на следующем этапе. Другой столбец с пропущенными значениями — `total_income` — хранит данные о доходах. На сумму дохода сильнее всего влияет тип занятости, поэтому заполнить пропуски в этом столбце нужно медианным значением по каждому типу из столбца `income_type`. Например, у человека с типом занятости `сотрудник` пропуск в столбце `total_income` должен быть заполнен медианным доходом среди всех записей с тем же типом.**"
   ]
  },
  {
   "cell_type": "code",
   "execution_count": 5,
   "id": "60c7f416",
   "metadata": {},
   "outputs": [],
   "source": [
    "for t in data['income_type'].unique():\n",
    "    data.loc[(data['income_type'] == t) & (data['total_income'].isna()), 'total_income'] = \\\n",
    "    data.loc[(data['income_type'] == t), 'total_income'].median()"
   ]
  },
  {
   "cell_type": "markdown",
   "id": "a72db0e1",
   "metadata": {},
   "source": [
    "### Обработка аномальных значений"
   ]
  },
  {
   "cell_type": "markdown",
   "id": "4b19b568",
   "metadata": {},
   "source": [
    "**В данных могут встречаться артефакты (аномалии) — значения, которые не отражают действительность и появились по какой-то ошибке. таким артефактом будет отрицательное количество дней трудового стажа в столбце `days_employed`. Для реальных данных это нормально. Обработайте значения в этом столбце: замените все отрицательные значения положительными с помощью метода `abs()`.**"
   ]
  },
  {
   "cell_type": "code",
   "execution_count": 6,
   "id": "f33d1844",
   "metadata": {},
   "outputs": [],
   "source": [
    "data['days_employed'] = data['days_employed'].abs()"
   ]
  },
  {
   "cell_type": "markdown",
   "id": "fec4a7f4",
   "metadata": {},
   "source": [
    "**Для каждого типа занятости выведите медианное значение трудового стажа `days_employed` в днях.**"
   ]
  },
  {
   "cell_type": "code",
   "execution_count": 7,
   "id": "968766a6",
   "metadata": {},
   "outputs": [
    {
     "data": {
      "text/plain": [
       "income_type\n",
       "безработный        366413.652744\n",
       "в декрете            3296.759962\n",
       "госслужащий          2689.368353\n",
       "компаньон            1547.382223\n",
       "пенсионер          365213.306266\n",
       "предприниматель       520.848083\n",
       "сотрудник            1574.202821\n",
       "студент               578.751554\n",
       "Name: days_employed, dtype: float64"
      ]
     },
     "execution_count": 7,
     "metadata": {},
     "output_type": "execute_result"
    }
   ],
   "source": [
    "data.groupby('income_type')['days_employed'].agg('median')"
   ]
  },
  {
   "cell_type": "markdown",
   "id": "0302443c",
   "metadata": {},
   "source": [
    "*У двух типов (безработные и пенсионеры) получатся аномально большие значения. Исправить такие значения сложно, поэтому оставbv их как есть.*"
   ]
  },
  {
   "cell_type": "markdown",
   "id": "bee4b595",
   "metadata": {},
   "source": [
    "**Выведите перечень уникальных значений столбца `children`.**"
   ]
  },
  {
   "cell_type": "code",
   "execution_count": 8,
   "id": "381151f0",
   "metadata": {},
   "outputs": [
    {
     "data": {
      "text/plain": [
       "array([ 1,  0,  3,  2, -1,  4, 20,  5], dtype=int64)"
      ]
     },
     "execution_count": 8,
     "metadata": {},
     "output_type": "execute_result"
    }
   ],
   "source": [
    "data['children'].unique()"
   ]
  },
  {
   "cell_type": "markdown",
   "id": "c2eace6c",
   "metadata": {},
   "source": [
    "**В столбце `children` есть два аномальных значения. Удалите строки, в которых встречаются такие аномальные значения из датафрейма `data`.**"
   ]
  },
  {
   "cell_type": "code",
   "execution_count": 9,
   "id": "fc69e5de",
   "metadata": {},
   "outputs": [],
   "source": [
    "data = data[(data['children'] != -1) & (data['children'] != 20)]"
   ]
  },
  {
   "cell_type": "markdown",
   "id": "4588fbe6",
   "metadata": {},
   "source": [
    "**Ещё раз выведите перечень уникальных значений столбца `children`, чтобы убедиться, что артефакты удалены.**"
   ]
  },
  {
   "cell_type": "code",
   "execution_count": 10,
   "id": "f1847e20",
   "metadata": {},
   "outputs": [
    {
     "data": {
      "text/plain": [
       "array([1, 0, 3, 2, 4, 5], dtype=int64)"
      ]
     },
     "execution_count": 10,
     "metadata": {},
     "output_type": "execute_result"
    }
   ],
   "source": [
    "data['children'].unique()"
   ]
  },
  {
   "cell_type": "markdown",
   "id": "5dd184be",
   "metadata": {},
   "source": [
    "### Удаление пропусков (продолжение)"
   ]
  },
  {
   "cell_type": "markdown",
   "id": "c2f54524",
   "metadata": {},
   "source": [
    "**Заполните пропуски в столбце `days_employed` медианными значениями по каждого типа занятости `income_type`.**"
   ]
  },
  {
   "cell_type": "code",
   "execution_count": 11,
   "id": "19a17efa",
   "metadata": {},
   "outputs": [
    {
     "data": {
      "text/plain": [
       "children               0\n",
       "days_employed       2162\n",
       "dob_years              0\n",
       "education              0\n",
       "education_id           0\n",
       "family_status          0\n",
       "family_status_id       0\n",
       "gender                 0\n",
       "income_type            0\n",
       "debt                   0\n",
       "total_income           0\n",
       "purpose                0\n",
       "dtype: int64"
      ]
     },
     "execution_count": 11,
     "metadata": {},
     "output_type": "execute_result"
    }
   ],
   "source": [
    "data.isna().sum()"
   ]
  },
  {
   "cell_type": "markdown",
   "id": "f4c9499e",
   "metadata": {},
   "source": [
    "### Изменение типов данных"
   ]
  },
  {
   "cell_type": "markdown",
   "id": "f21680e9",
   "metadata": {},
   "source": [
    "**Замените вещественный тип данных в столбце `total_income` на целочисленный с помощью метода `astype()`.**"
   ]
  },
  {
   "cell_type": "code",
   "execution_count": 12,
   "id": "782fac4a",
   "metadata": {},
   "outputs": [],
   "source": [
    "data['total_income'] = data['total_income'].astype(int)"
   ]
  },
  {
   "cell_type": "markdown",
   "id": "8bf00a44",
   "metadata": {},
   "source": [
    "### Обработка дубликатов"
   ]
  },
  {
   "cell_type": "markdown",
   "id": "fa472a3e",
   "metadata": {},
   "source": [
    "**Обработайте неявные дубликаты в столбце `education`. В этом столбце есть одни и те же значения, но записанные по-разному: с использованием заглавных и строчных букв. Приведите их к нижнему регистру.**"
   ]
  },
  {
   "cell_type": "code",
   "execution_count": 13,
   "id": "bb50e294",
   "metadata": {},
   "outputs": [],
   "source": [
    "data['education'] = data['education'].str.lower()"
   ]
  },
  {
   "cell_type": "markdown",
   "id": "943204e8",
   "metadata": {},
   "source": [
    "**Выведите на экран количество строк-дубликатов в данных. Если такие строки присутствуют, удалите их.**"
   ]
  },
  {
   "cell_type": "code",
   "execution_count": 14,
   "id": "03260ec7",
   "metadata": {},
   "outputs": [
    {
     "data": {
      "text/plain": [
       "71"
      ]
     },
     "execution_count": 14,
     "metadata": {},
     "output_type": "execute_result"
    }
   ],
   "source": [
    "data.duplicated().sum()"
   ]
  },
  {
   "cell_type": "code",
   "execution_count": 15,
   "id": "2fdf8521",
   "metadata": {},
   "outputs": [],
   "source": [
    "data = data.drop_duplicates()"
   ]
  },
  {
   "cell_type": "markdown",
   "id": "750a0212",
   "metadata": {},
   "source": [
    "### Категоризация данных"
   ]
  },
  {
   "cell_type": "markdown",
   "id": "95d08a99",
   "metadata": {},
   "source": [
    "**На основании диапазонов, указанных ниже, создайте в датафрейме `data` столбец `total_income_category` с категориями:**\n",
    "\n",
    "- 0–30000 — `'E'`;\n",
    "- 30001–50000 — `'D'`;\n",
    "- 50001–200000 — `'C'`;\n",
    "- 200001–1000000 — `'B'`;\n",
    "- 1000001 и выше — `'A'`.\n",
    "\n",
    "\n",
    "**Например, кредитополучателю с доходом 25000 нужно назначить категорию `'E'`, а клиенту, получающему 235000, — `'B'`. Используйте собственную функцию с именем `categorize_income()` и метод `apply()`.**"
   ]
  },
  {
   "cell_type": "code",
   "execution_count": 16,
   "id": "a9df9f89",
   "metadata": {},
   "outputs": [],
   "source": [
    "def categorize_income(income):\n",
    "    try:\n",
    "        if 0 <= income <= 30000:\n",
    "            return 'E'\n",
    "        elif 30001 <= income <= 50000:\n",
    "            return 'D'\n",
    "        elif 50001 <= income <= 200000:\n",
    "            return 'C'\n",
    "        elif 200001 <= income <= 1000000:\n",
    "            return 'B'\n",
    "        elif income >= 1000001:\n",
    "            return 'A'\n",
    "    except:\n",
    "        pass"
   ]
  },
  {
   "cell_type": "code",
   "execution_count": 17,
   "id": "a28f2e77",
   "metadata": {},
   "outputs": [],
   "source": [
    "data['total_income_category'] = data['total_income'].apply(categorize_income)"
   ]
  },
  {
   "cell_type": "markdown",
   "id": "db9896ea",
   "metadata": {},
   "source": [
    "**Выведите на экран перечень уникальных целей взятия кредита из столбца `purpose`.**"
   ]
  },
  {
   "cell_type": "code",
   "execution_count": 18,
   "id": "cf65d851",
   "metadata": {},
   "outputs": [
    {
     "data": {
      "text/plain": [
       "array(['покупка жилья', 'приобретение автомобиля',\n",
       "       'дополнительное образование', 'сыграть свадьбу',\n",
       "       'операции с жильем', 'образование', 'на проведение свадьбы',\n",
       "       'покупка жилья для семьи', 'покупка недвижимости',\n",
       "       'покупка коммерческой недвижимости', 'покупка жилой недвижимости',\n",
       "       'строительство собственной недвижимости', 'недвижимость',\n",
       "       'строительство недвижимости', 'на покупку подержанного автомобиля',\n",
       "       'на покупку своего автомобиля',\n",
       "       'операции с коммерческой недвижимостью',\n",
       "       'строительство жилой недвижимости', 'жилье',\n",
       "       'операции со своей недвижимостью', 'автомобили',\n",
       "       'заняться образованием', 'сделка с подержанным автомобилем',\n",
       "       'получение образования', 'автомобиль', 'свадьба',\n",
       "       'получение дополнительного образования', 'покупка своего жилья',\n",
       "       'операции с недвижимостью', 'получение высшего образования',\n",
       "       'свой автомобиль', 'сделка с автомобилем',\n",
       "       'профильное образование', 'высшее образование',\n",
       "       'покупка жилья для сдачи', 'на покупку автомобиля', 'ремонт жилью',\n",
       "       'заняться высшим образованием'], dtype=object)"
      ]
     },
     "execution_count": 18,
     "metadata": {},
     "output_type": "execute_result"
    }
   ],
   "source": [
    "data['purpose'].unique()"
   ]
  },
  {
   "cell_type": "markdown",
   "id": "ad586604",
   "metadata": {},
   "source": [
    "**Создайте функцию, которая на основании данных из столбца `purpose` сформирует новый столбец `purpose_category`, в который войдут следующие категории:**\n",
    "\n",
    "- `'операции с автомобилем'`,\n",
    "- `'операции с недвижимостью'`,\n",
    "- `'проведение свадьбы'`,\n",
    "- `'получение образования'`.\n",
    "\n",
    "**Например, если в столбце `purpose` находится подстрока `'на покупку автомобиля'`, то в столбце `purpose_category` должна появиться строка `'операции с автомобилем'`.**\n",
    "\n",
    "**Используйте собственную функцию с именем `categorize_purpose()` и метод `apply()`. Изучите данные в столбце `purpose` и определите, какие подстроки помогут вам правильно определить категорию.**"
   ]
  },
  {
   "cell_type": "code",
   "execution_count": 19,
   "id": "46c4ac01",
   "metadata": {},
   "outputs": [],
   "source": [
    "def categorize_purpose(row):\n",
    "    try:\n",
    "        if 'автом' in row:\n",
    "            return 'операции с автомобилем'\n",
    "        elif 'жил' in row or 'недвиж' in row:\n",
    "            return 'операции с недвижимостью'\n",
    "        elif 'свад' in row:\n",
    "            return 'проведение свадьбы'\n",
    "        elif 'образов' in row:\n",
    "            return 'получение образования'\n",
    "    except:\n",
    "        return 'нет категории'"
   ]
  },
  {
   "cell_type": "code",
   "execution_count": 20,
   "id": "94cc01a6",
   "metadata": {},
   "outputs": [],
   "source": [
    "data['purpose_category'] = data['purpose'].apply(categorize_purpose)"
   ]
  },
  {
   "cell_type": "markdown",
   "id": "72a7cfda",
   "metadata": {},
   "source": [
    "### Исследуйте данные и ответьте на вопросы"
   ]
  },
  {
   "cell_type": "markdown",
   "id": "48d268b3",
   "metadata": {},
   "source": [
    "#### Есть ли зависимость между количеством детей и возвратом кредита в срок?"
   ]
  },
  {
   "cell_type": "markdown",
   "id": "ee337c8d",
   "metadata": {},
   "source": [
    "**Создадим функцию для категоризации людей по количеству детей:**\n",
    "- `семьи с детьми (1 и 2 ребенка)`,\n",
    "- `многодетные семьи (3 ребенка и более)`,\n",
    "- `бездетные`.\n"
   ]
  },
  {
   "cell_type": "code",
   "execution_count": 21,
   "id": "2276432a",
   "metadata": {},
   "outputs": [],
   "source": [
    "def children_category(children):\n",
    "    try:\n",
    "        if 1 <= children <= 2:\n",
    "            return 'семьи с детьми'\n",
    "        elif children >= 3:\n",
    "            return 'многодетные семьи'\n",
    "        return 'бездетные'\n",
    "    except:\n",
    "        pass"
   ]
  },
  {
   "cell_type": "markdown",
   "id": "28f8345f",
   "metadata": {},
   "source": [
    "**Cоздадим столбец** `'num_children'`"
   ]
  },
  {
   "cell_type": "code",
   "execution_count": 22,
   "id": "c2116aea",
   "metadata": {},
   "outputs": [],
   "source": [
    "data['num_children'] = data['children'].apply(children_category)"
   ]
  },
  {
   "cell_type": "markdown",
   "id": "125516ba",
   "metadata": {},
   "source": [
    "**Cгруппируем датафрейм по столбцу** `'num_children'`  \n",
    "**агрегируем функции количества, суммы, среднего к столбцу** `'debt'` "
   ]
  },
  {
   "cell_type": "code",
   "execution_count": 23,
   "id": "92fa2444",
   "metadata": {},
   "outputs": [],
   "source": [
    "deb_num_children = data.groupby('num_children')['debt'].agg(['count',\n",
    "                                                         'sum', \n",
    "                                                         'mean'])"
   ]
  },
  {
   "cell_type": "markdown",
   "id": "147eabdb",
   "metadata": {},
   "source": [
    "**Переведем значения в столбце** `'mean'` **в проценты**  "
   ]
  },
  {
   "cell_type": "code",
   "execution_count": 24,
   "id": "0233dce2",
   "metadata": {},
   "outputs": [],
   "source": [
    "deb_num_children['mean'] = deb_num_children['mean'].apply('{:.2%}'.format)"
   ]
  },
  {
   "cell_type": "markdown",
   "id": "94b265ff",
   "metadata": {},
   "source": [
    "**Переименуем столбцы для лучшей визуализации**  "
   ]
  },
  {
   "cell_type": "code",
   "execution_count": 25,
   "id": "f1b63e24",
   "metadata": {},
   "outputs": [],
   "source": [
    "deb_num_children = deb_num_children.rename(columns= {'count':'Заемщики', \n",
    "                                                     'sum':'Дебиторы', \n",
    "                                                     'mean':'Процент_дебиторов'\n",
    "                                                    })"
   ]
  },
  {
   "cell_type": "markdown",
   "id": "35d0b277",
   "metadata": {},
   "source": [
    "**Отсортируем данные по столбцу** `'Процент_дебиторов'` **по убыванию**   "
   ]
  },
  {
   "cell_type": "code",
   "execution_count": 26,
   "id": "94579d4a",
   "metadata": {
    "scrolled": true
   },
   "outputs": [
    {
     "data": {
      "text/html": [
       "<div>\n",
       "<style scoped>\n",
       "    .dataframe tbody tr th:only-of-type {\n",
       "        vertical-align: middle;\n",
       "    }\n",
       "\n",
       "    .dataframe tbody tr th {\n",
       "        vertical-align: top;\n",
       "    }\n",
       "\n",
       "    .dataframe thead th {\n",
       "        text-align: right;\n",
       "    }\n",
       "</style>\n",
       "<table border=\"1\" class=\"dataframe\">\n",
       "  <thead>\n",
       "    <tr style=\"text-align: right;\">\n",
       "      <th></th>\n",
       "      <th>Заемщики</th>\n",
       "      <th>Дебиторы</th>\n",
       "      <th>Процент_дебиторов</th>\n",
       "    </tr>\n",
       "    <tr>\n",
       "      <th>num_children</th>\n",
       "      <th></th>\n",
       "      <th></th>\n",
       "      <th></th>\n",
       "    </tr>\n",
       "  </thead>\n",
       "  <tbody>\n",
       "    <tr>\n",
       "      <th>семьи с детьми</th>\n",
       "      <td>6860</td>\n",
       "      <td>638</td>\n",
       "      <td>9.30%</td>\n",
       "    </tr>\n",
       "    <tr>\n",
       "      <th>многодетные семьи</th>\n",
       "      <td>380</td>\n",
       "      <td>31</td>\n",
       "      <td>8.16%</td>\n",
       "    </tr>\n",
       "    <tr>\n",
       "      <th>бездетные</th>\n",
       "      <td>14091</td>\n",
       "      <td>1063</td>\n",
       "      <td>7.54%</td>\n",
       "    </tr>\n",
       "  </tbody>\n",
       "</table>\n",
       "</div>"
      ],
      "text/plain": [
       "                   Заемщики  Дебиторы Процент_дебиторов\n",
       "num_children                                           \n",
       "семьи с детьми         6860       638             9.30%\n",
       "многодетные семьи       380        31             8.16%\n",
       "бездетные             14091      1063             7.54%"
      ]
     },
     "execution_count": 26,
     "metadata": {},
     "output_type": "execute_result"
    }
   ],
   "source": [
    "deb_num_children.sort_values(by='Процент_дебиторов', ascending=False)"
   ]
  },
  {
   "cell_type": "markdown",
   "id": "6e617d84",
   "metadata": {},
   "source": [
    "<div class=\"alert alert-info\">\n",
    "    <b>Вывод:</b> \n",
    "    \n",
    "По категории <b>\"многодетные семьи\"</b> выборка на порядок меньше относительно категорий <b>\"семьи с одним или двумя детьми\"</b> и <b>\"бездетные\"</b>. Поэтому выводов по категории **\"многодетные семьи\"** делать не будем. Сравнивая выборки по категориям **\"семьи с одним или двумя детьми\"** и **\"бездетные\"** делаем вывод, что **наличие детей** у клиента увеличивает вероятность возникновения задолженности по сравнению с **отсутствием детей** : **9.30%** против **7.54%** (относительная разница порядка **25%**).    \n",
    "</div>"
   ]
  },
  {
   "cell_type": "markdown",
   "id": "41d86879",
   "metadata": {},
   "source": [
    "#### Есть ли зависимость между семейным положением и возвратом кредита в срок?"
   ]
  },
  {
   "cell_type": "markdown",
   "id": "bbcd9a56",
   "metadata": {},
   "source": [
    "**Cгруппируем датафрейм по столбцу** `'family_status'`  \n",
    "**агрегируем функции количества, суммы, среднего к столбцу** `'debt'` "
   ]
  },
  {
   "cell_type": "code",
   "execution_count": 27,
   "id": "e8295584",
   "metadata": {},
   "outputs": [],
   "source": [
    "deb_family_status = data.groupby('family_status')['debt'].agg(['count', \n",
    "                                                               'sum', \n",
    "                                                               'mean'\n",
    "                                                              ])"
   ]
  },
  {
   "cell_type": "markdown",
   "id": "5120a3d5",
   "metadata": {},
   "source": [
    "**Переведем значения в столбце** `'mean'` **в проценты**  "
   ]
  },
  {
   "cell_type": "code",
   "execution_count": 28,
   "id": "812e106c",
   "metadata": {},
   "outputs": [],
   "source": [
    "deb_family_status['mean'] = deb_family_status['mean'].apply('{:.2%}'.format)"
   ]
  },
  {
   "cell_type": "markdown",
   "id": "f6e19507",
   "metadata": {},
   "source": [
    "**Переименуем столбцы для лучшей визуализации**  "
   ]
  },
  {
   "cell_type": "code",
   "execution_count": 29,
   "id": "01b1066d",
   "metadata": {},
   "outputs": [],
   "source": [
    "deb_family_status = deb_family_status.rename(columns={'count':'Заемщики',\n",
    "                                                      'sum':'Дебиторы',\n",
    "                                                      'mean':'Процент_дебиторов'})"
   ]
  },
  {
   "cell_type": "markdown",
   "id": "978ef6ec",
   "metadata": {},
   "source": [
    "**Отсортируем данные по столбцу** `'Процент_дебиторов'` **по убыванию**   "
   ]
  },
  {
   "cell_type": "code",
   "execution_count": 30,
   "id": "8e020d7a",
   "metadata": {},
   "outputs": [
    {
     "data": {
      "text/html": [
       "<div>\n",
       "<style scoped>\n",
       "    .dataframe tbody tr th:only-of-type {\n",
       "        vertical-align: middle;\n",
       "    }\n",
       "\n",
       "    .dataframe tbody tr th {\n",
       "        vertical-align: top;\n",
       "    }\n",
       "\n",
       "    .dataframe thead th {\n",
       "        text-align: right;\n",
       "    }\n",
       "</style>\n",
       "<table border=\"1\" class=\"dataframe\">\n",
       "  <thead>\n",
       "    <tr style=\"text-align: right;\">\n",
       "      <th></th>\n",
       "      <th>Заемщики</th>\n",
       "      <th>Дебиторы</th>\n",
       "      <th>Процент_дебиторов</th>\n",
       "    </tr>\n",
       "    <tr>\n",
       "      <th>family_status</th>\n",
       "      <th></th>\n",
       "      <th></th>\n",
       "      <th></th>\n",
       "    </tr>\n",
       "  </thead>\n",
       "  <tbody>\n",
       "    <tr>\n",
       "      <th>Не женат / не замужем</th>\n",
       "      <td>2796</td>\n",
       "      <td>273</td>\n",
       "      <td>9.76%</td>\n",
       "    </tr>\n",
       "    <tr>\n",
       "      <th>гражданский брак</th>\n",
       "      <td>4134</td>\n",
       "      <td>385</td>\n",
       "      <td>9.31%</td>\n",
       "    </tr>\n",
       "    <tr>\n",
       "      <th>женат / замужем</th>\n",
       "      <td>12261</td>\n",
       "      <td>927</td>\n",
       "      <td>7.56%</td>\n",
       "    </tr>\n",
       "    <tr>\n",
       "      <th>в разводе</th>\n",
       "      <td>1189</td>\n",
       "      <td>84</td>\n",
       "      <td>7.06%</td>\n",
       "    </tr>\n",
       "    <tr>\n",
       "      <th>вдовец / вдова</th>\n",
       "      <td>951</td>\n",
       "      <td>63</td>\n",
       "      <td>6.62%</td>\n",
       "    </tr>\n",
       "  </tbody>\n",
       "</table>\n",
       "</div>"
      ],
      "text/plain": [
       "                       Заемщики  Дебиторы Процент_дебиторов\n",
       "family_status                                              \n",
       "Не женат / не замужем      2796       273             9.76%\n",
       "гражданский брак           4134       385             9.31%\n",
       "женат / замужем           12261       927             7.56%\n",
       "в разводе                  1189        84             7.06%\n",
       "вдовец / вдова              951        63             6.62%"
      ]
     },
     "execution_count": 30,
     "metadata": {},
     "output_type": "execute_result"
    }
   ],
   "source": [
    "deb_family_status.sort_values(by='Процент_дебиторов', ascending=False)"
   ]
  },
  {
   "cell_type": "markdown",
   "id": "2f93f41a",
   "metadata": {},
   "source": [
    "<div class=\"alert alert-info\">\n",
    "    <b>Вывод:</b> \n",
    "\n",
    "Зависимость по возврату кредита в срок от семейного положения прослеживается следующая: заёмщики, которые состоят или состояли в официальном браке (категории **'женат / замужем'**, **'в разводе' и 'вдовец/вдова'**) имеют большую вероятность своевременного возврата кредита, чем заемщики (категории **'не женат / не замужем' и 'гражданский брак'**), которые в официальном браке не состоят.    \n"
   ]
  },
  {
   "cell_type": "markdown",
   "id": "09ab7c29",
   "metadata": {},
   "source": [
    "#### Есть ли зависимость между семейным положением и возвратом кредита в срок?"
   ]
  },
  {
   "cell_type": "markdown",
   "id": "735f2ed8",
   "metadata": {},
   "source": [
    "**Cгруппируем датафрейм по столбцу** `'total_income_category'`  \n",
    "**агрегируем функции количества, суммы, среднего к столбцу** `'debt'` "
   ]
  },
  {
   "cell_type": "code",
   "execution_count": 31,
   "id": "394d271f",
   "metadata": {},
   "outputs": [],
   "source": [
    "deb_total_income = data.groupby('total_income_category')['debt'].agg(['count', \n",
    "                                                               'sum', \n",
    "                                                               'mean'\n",
    "                                                              ])"
   ]
  },
  {
   "cell_type": "markdown",
   "id": "a77d9a50",
   "metadata": {},
   "source": [
    "**Переведем значения в столбце** `'mean'` **в проценты**  "
   ]
  },
  {
   "cell_type": "code",
   "execution_count": 32,
   "id": "52584924",
   "metadata": {},
   "outputs": [],
   "source": [
    "deb_total_income['mean'] = deb_total_income['mean'].apply('{:.2%}'.format)"
   ]
  },
  {
   "cell_type": "markdown",
   "id": "cdf01c10",
   "metadata": {},
   "source": [
    "**Переименуем столбцы для лучшей визуализации**  "
   ]
  },
  {
   "cell_type": "code",
   "execution_count": 33,
   "id": "adeb28b7",
   "metadata": {},
   "outputs": [],
   "source": [
    "deb_total_income = deb_total_income.rename(columns={'count':'Заемщики',\n",
    "                                                      'sum':'Дебиторы',\n",
    "                                                      'mean':'Процент_дебиторов'})"
   ]
  },
  {
   "cell_type": "markdown",
   "id": "7bf84bc8",
   "metadata": {},
   "source": [
    "**Отсортируем данные по столбцу** `'Процент_дебиторов'` **по убыванию**   "
   ]
  },
  {
   "cell_type": "code",
   "execution_count": 34,
   "id": "3c5b7baf",
   "metadata": {},
   "outputs": [
    {
     "data": {
      "text/html": [
       "<div>\n",
       "<style scoped>\n",
       "    .dataframe tbody tr th:only-of-type {\n",
       "        vertical-align: middle;\n",
       "    }\n",
       "\n",
       "    .dataframe tbody tr th {\n",
       "        vertical-align: top;\n",
       "    }\n",
       "\n",
       "    .dataframe thead th {\n",
       "        text-align: right;\n",
       "    }\n",
       "</style>\n",
       "<table border=\"1\" class=\"dataframe\">\n",
       "  <thead>\n",
       "    <tr style=\"text-align: right;\">\n",
       "      <th></th>\n",
       "      <th>Заемщики</th>\n",
       "      <th>Дебиторы</th>\n",
       "      <th>Процент_дебиторов</th>\n",
       "    </tr>\n",
       "    <tr>\n",
       "      <th>total_income_category</th>\n",
       "      <th></th>\n",
       "      <th></th>\n",
       "      <th></th>\n",
       "    </tr>\n",
       "  </thead>\n",
       "  <tbody>\n",
       "    <tr>\n",
       "      <th>E</th>\n",
       "      <td>22</td>\n",
       "      <td>2</td>\n",
       "      <td>9.09%</td>\n",
       "    </tr>\n",
       "    <tr>\n",
       "      <th>C</th>\n",
       "      <td>15921</td>\n",
       "      <td>1353</td>\n",
       "      <td>8.50%</td>\n",
       "    </tr>\n",
       "    <tr>\n",
       "      <th>A</th>\n",
       "      <td>25</td>\n",
       "      <td>2</td>\n",
       "      <td>8.00%</td>\n",
       "    </tr>\n",
       "    <tr>\n",
       "      <th>B</th>\n",
       "      <td>5014</td>\n",
       "      <td>354</td>\n",
       "      <td>7.06%</td>\n",
       "    </tr>\n",
       "    <tr>\n",
       "      <th>D</th>\n",
       "      <td>349</td>\n",
       "      <td>21</td>\n",
       "      <td>6.02%</td>\n",
       "    </tr>\n",
       "  </tbody>\n",
       "</table>\n",
       "</div>"
      ],
      "text/plain": [
       "                       Заемщики  Дебиторы Процент_дебиторов\n",
       "total_income_category                                      \n",
       "E                            22         2             9.09%\n",
       "C                         15921      1353             8.50%\n",
       "A                            25         2             8.00%\n",
       "B                          5014       354             7.06%\n",
       "D                           349        21             6.02%"
      ]
     },
     "execution_count": 34,
     "metadata": {},
     "output_type": "execute_result"
    }
   ],
   "source": [
    "deb_total_income.sort_values(by='Процент_дебиторов', ascending=False)"
   ]
  },
  {
   "cell_type": "markdown",
   "id": "0e1c6186",
   "metadata": {},
   "source": [
    "#### Как разные цели кредита влияют на его возврат в срок?"
   ]
  },
  {
   "cell_type": "markdown",
   "id": "cd6c880b",
   "metadata": {},
   "source": [
    "**Cгруппируем датафрейм по столбцу** `'purpose_category'`  \n",
    "**агрегируем функции количества, суммы, среднего к столбцу** `'debt'` "
   ]
  },
  {
   "cell_type": "code",
   "execution_count": 35,
   "id": "2a936e2b",
   "metadata": {},
   "outputs": [],
   "source": [
    "deb_purpose_category = data.groupby('purpose_category')['debt'].agg(['count', \n",
    "                                                               'sum', \n",
    "                                                               'mean'\n",
    "                                                              ])"
   ]
  },
  {
   "cell_type": "markdown",
   "id": "3232040b",
   "metadata": {},
   "source": [
    "**Переведем значения в столбце** `'mean'` **в проценты**  "
   ]
  },
  {
   "cell_type": "code",
   "execution_count": 36,
   "id": "d5d477f7",
   "metadata": {},
   "outputs": [],
   "source": [
    "deb_purpose_category['mean'] = deb_purpose_category['mean'].apply('{:.2%}'.format)"
   ]
  },
  {
   "cell_type": "markdown",
   "id": "0bb3c75f",
   "metadata": {},
   "source": [
    "**Переименуем столбцы для лучшей визуализации**  "
   ]
  },
  {
   "cell_type": "code",
   "execution_count": 37,
   "id": "8b8ac236",
   "metadata": {},
   "outputs": [],
   "source": [
    "deb_purpose_category = deb_purpose_category.rename(columns={'count':'Заемщики',\n",
    "                                                      'sum':'Дебиторы',\n",
    "                                                      'mean':'Процент_дебиторов'})"
   ]
  },
  {
   "cell_type": "markdown",
   "id": "61412cae",
   "metadata": {},
   "source": [
    "**Отсортируем данные по столбцу** `'Процент_дебиторов'` **по убыванию**   "
   ]
  },
  {
   "cell_type": "code",
   "execution_count": 38,
   "id": "a7efb4d8",
   "metadata": {},
   "outputs": [
    {
     "data": {
      "text/html": [
       "<div>\n",
       "<style scoped>\n",
       "    .dataframe tbody tr th:only-of-type {\n",
       "        vertical-align: middle;\n",
       "    }\n",
       "\n",
       "    .dataframe tbody tr th {\n",
       "        vertical-align: top;\n",
       "    }\n",
       "\n",
       "    .dataframe thead th {\n",
       "        text-align: right;\n",
       "    }\n",
       "</style>\n",
       "<table border=\"1\" class=\"dataframe\">\n",
       "  <thead>\n",
       "    <tr style=\"text-align: right;\">\n",
       "      <th></th>\n",
       "      <th>Заемщики</th>\n",
       "      <th>Дебиторы</th>\n",
       "      <th>Процент_дебиторов</th>\n",
       "    </tr>\n",
       "    <tr>\n",
       "      <th>purpose_category</th>\n",
       "      <th></th>\n",
       "      <th></th>\n",
       "      <th></th>\n",
       "    </tr>\n",
       "  </thead>\n",
       "  <tbody>\n",
       "    <tr>\n",
       "      <th>операции с автомобилем</th>\n",
       "      <td>4279</td>\n",
       "      <td>400</td>\n",
       "      <td>9.35%</td>\n",
       "    </tr>\n",
       "    <tr>\n",
       "      <th>получение образования</th>\n",
       "      <td>3988</td>\n",
       "      <td>369</td>\n",
       "      <td>9.25%</td>\n",
       "    </tr>\n",
       "    <tr>\n",
       "      <th>проведение свадьбы</th>\n",
       "      <td>2313</td>\n",
       "      <td>183</td>\n",
       "      <td>7.91%</td>\n",
       "    </tr>\n",
       "    <tr>\n",
       "      <th>операции с недвижимостью</th>\n",
       "      <td>10751</td>\n",
       "      <td>780</td>\n",
       "      <td>7.26%</td>\n",
       "    </tr>\n",
       "  </tbody>\n",
       "</table>\n",
       "</div>"
      ],
      "text/plain": [
       "                          Заемщики  Дебиторы Процент_дебиторов\n",
       "purpose_category                                              \n",
       "операции с автомобилем        4279       400             9.35%\n",
       "получение образования         3988       369             9.25%\n",
       "проведение свадьбы            2313       183             7.91%\n",
       "операции с недвижимостью     10751       780             7.26%"
      ]
     },
     "execution_count": 38,
     "metadata": {},
     "output_type": "execute_result"
    }
   ],
   "source": [
    "deb_purpose_category.sort_values(by='Процент_дебиторов', ascending=False)"
   ]
  },
  {
   "cell_type": "markdown",
   "id": "38ea8616",
   "metadata": {},
   "source": [
    "<div class=\"alert alert-info\">\n",
    "    <b>Вывод:</b> \n",
    "\n",
    "- **Группа риска** по возврату кредита в срок - это **категории 'операции с автомобилем' и 'получение образования\t'**. Причина предположительно, что клиенты считают автомобиль или образование не средство первой необходимости, как, например, залоговая квартира по ипотеке. \n",
    "- Категория **'проведение свадьбы'** неплохой процент дебиторки. Причина, скорее всего не в слишком больших суммах кредита на проведение свадьбы, а также возможно связано с определенной окупаемостью свадьбы.  \n",
    "- **'Операции с недвижимостью'** категория с **наименьшим риском** возникновения просроченной задолженности. Видимо заемщики наиболее ответственно подходят к любым операциям с недвижимостью"
   ]
  },
  {
   "cell_type": "markdown",
   "id": "00eba98f",
   "metadata": {},
   "source": [
    "#### Приведите возможные причины появления пропусков в исходных данных."
   ]
  },
  {
   "cell_type": "markdown",
   "id": "552810a5",
   "metadata": {},
   "source": [
    "*Ответ:* Причинами могут быть:\n",
    "- человеческий фактор (неверный ввод данных, подлог данных о клиенте);\n",
    "- техногенный фактор (технические проблемы, природные катаклизмы).\n"
   ]
  },
  {
   "cell_type": "markdown",
   "id": "fe0b5070",
   "metadata": {},
   "source": [
    "#### 3.6 Объясните, почему заполнить пропуски медианным значением — лучшее решение для количественных переменных."
   ]
  },
  {
   "cell_type": "markdown",
   "id": "ecc9f49c",
   "metadata": {},
   "source": [
    "*Ответ:* Так как медиана выбросоустойчива (робастна) относительно среднего значения. То есть по сути медиана - это страховка от выбросов и аномальных значений."
   ]
  },
  {
   "cell_type": "markdown",
   "id": "da45357b",
   "metadata": {},
   "source": [
    "### Oбщий вывод."
   ]
  },
  {
   "cell_type": "markdown",
   "id": "65b9b760",
   "metadata": {},
   "source": [
    "В ходе исследования надёжности заемщиков были изучены полученные  от банка данные, предообработаны (заполнены пропуски, обработаны аномальные значения, удалены дубликаты, оптимизированы некоторые категории данных). Заёмщики были сгруппированы по различным параметрам, на основании группировок были выявлены определенные закономерности. По итогам проделанной работы по поставленным перед нами вопросам можно сделать следующие выводы:\n",
    "\n",
    "*Зависимость между количеством детей и возвратом кредита в срок*\n",
    "- **Группа риска** по возврату кредита в срок - это **семьи с одним или двумя детьми** . (процент дебиторов **9.30%**)\n",
    "- **Бездетные** являются группой с **наименьшим риском** возникновения просроченной задолженности. (процент дебиторов **7.54%**)\n",
    "<div class=\"alert alert-info\">- То есть <b>наличие детей</b> увеличивает вероятность возникновения задолженности по сравнению с <b>отсутствием детей</b>.\n",
    "\n",
    "*Зависимость между семейным положением и возвратом кредита в срок*\n",
    "- **Группа риска** по возврату кредита в срок - это **'не женатые' и 'состоящие в гражданском браке'**. (процент дебиторов соответственно **9.76%** и **9.31%**)\n",
    "- **'В разводе' и 'вдовцы'** являются группами с **наименьшим риском** возникновения просроченной задолженности (процент дебиторов соответственно **7.06%** и **6.62%**)\n",
    "<div class=\"alert alert-info\">- Делаем вывод, что заёмщики, которые состоят или состояли в официальном браке имеют большую вероятность своевременного возврата кредита, чем заёмщики , которые в официальном браке не состоят.  \n",
    "\n",
    "*Зависимость между уровнем дохода и возвратом кредита в срок*\n",
    "- **Группа риска** по возврату кредита в срок - это **заёмщики со средним уровнем дохода** - заёмщики со средним уровнем дохода. (процент дебиторов **8.50%**)\n",
    "- Категория **'заемщики с высоким уровнем дохода'** с меньшей вероятностью будут иметь просрочку по платежу. (процент дебиторов соответственно **7.06%**)\n",
    "<div class=\"alert alert-info\">-По уровню дохода делаем вывод, чем выше доход заёмщика тем ниже вероятность возникновения просроченной задолженности.\n",
    "\n",
    "*Зависимость возврата кредита в срок от целей кредита*\n",
    "- **Группа риска** по возврату кредита в срок - это категории **'операции с автомобилем' и 'получение образования'** (процент дебиторов соответственно **9.35%** и **9.25%**)\n",
    "- **'Операции с недвижимостью'** категория с **наименьшим риском** возникновения дебиторской задолженности (процент дебиторов соответственно **7.91%** и **7.26%**)\n"
   ]
  }
 ],
 "metadata": {
  "kernelspec": {
   "display_name": "Python 3 (ipykernel)",
   "language": "python",
   "name": "python3"
  },
  "language_info": {
   "codemirror_mode": {
    "name": "ipython",
    "version": 3
   },
   "file_extension": ".py",
   "mimetype": "text/x-python",
   "name": "python",
   "nbconvert_exporter": "python",
   "pygments_lexer": "ipython3",
   "version": "3.12.3"
  },
  "toc": {
   "base_numbering": 1,
   "nav_menu": {},
   "number_sections": true,
   "sideBar": true,
   "skip_h1_title": true,
   "title_cell": "СОДЕРЖАНИЕ",
   "title_sidebar": "Contents",
   "toc_cell": false,
   "toc_position": {
    "height": "calc(100% - 180px)",
    "left": "10px",
    "top": "150px",
    "width": "318.391px"
   },
   "toc_section_display": true,
   "toc_window_display": true
  }
 },
 "nbformat": 4,
 "nbformat_minor": 5
}
