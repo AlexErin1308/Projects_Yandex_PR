{
 "cells": [
  {
   "cell_type": "markdown",
   "metadata": {},
   "source": [
    "# Исследование данных пользователей сервиса самокатов GoFast."
   ]
  },
  {
   "cell_type": "markdown",
   "metadata": {},
   "source": [
    "**ОПИСАНИЕ ПРОЕКТА**\n",
    "\n",
    "*Для поездок по городу, пользователи сервиса GoFast пользуются мобильным приложением.*\n",
    "\n",
    "Сервисом можно пользоваться:\n",
    "без подписки\n",
    "- абонентская плата отсутствует;\n",
    "- стоимость одной минуты поездки — 8 рублей;\n",
    "- стоимость старта (начала поездки) — 50 рублей;\n",
    "\n",
    "с подпиской Ultra\n",
    "- абонентская плата — 199 рублей в месяц;\n",
    "- стоимость одной минуты поездки — 6 рублей;\n",
    "- стоимость старта — бесплатно.\n"
   ]
  },
  {
   "cell_type": "markdown",
   "metadata": {},
   "source": [
    "**ЦЕЛЬ ПРОЕКТА**\n",
    "* Проанализировать данные, с помощью объединения предоставленных датафреймов;\n",
    "* Сделать визуализацию информации о расстоянии и времени поездок для пользователей с подпиской и без;\n",
    "* Произвести подсчет выручки сервиса GoFast;\n",
    "* Проверить некоторые гипотезы, которые могут помочь бизнесу GoFast вырасти;\n",
    "* Разработать рекомендации отделу маркетинга сервиса GoFast по оптимизации рекламных кампаний."
   ]
  },
  {
   "cell_type": "markdown",
   "metadata": {},
   "source": [
    "## Изучим общую информацию о данных"
   ]
  },
  {
   "cell_type": "markdown",
   "metadata": {},
   "source": [
    "**Импортируем необходимые для работы над проектом библиотеки.**"
   ]
  },
  {
   "cell_type": "code",
   "execution_count": 1,
   "metadata": {},
   "outputs": [],
   "source": [
    "import pandas as pd\n",
    "import numpy as np\n",
    "import matplotlib.pyplot as plt\n",
    "from scipy import stats as st\n",
    "from scipy.stats import binom\n",
    "from math import sqrt"
   ]
  },
  {
   "cell_type": "markdown",
   "metadata": {},
   "source": [
    "**Считаем данные из csv-файлов в датафреймы, сохраним в переменные `users_go`, `rides_go`, `subs_go`. Выведем на печать часть всех таблиц.**"
   ]
  },
  {
   "cell_type": "code",
   "execution_count": 2,
   "metadata": {},
   "outputs": [
    {
     "name": "stdout",
     "output_type": "stream",
     "text": [
      "Таблица пользователей: \n",
      "    user_id        name  age            city subscription_type\n",
      "0        1        Кира   22          Тюмень             ultra\n",
      "1        2   Станислав   31            Омск             ultra\n",
      "2        3     Алексей   20          Москва             ultra\n",
      "3        4  Константин   26  Ростов-на-Дону             ultra\n",
      "4        5       Адель   28            Омск             ultra, \n",
      "\n",
      "Таблица поездок: \n",
      "        user_id     distance   duration        date\n",
      "18063     1534  3781.098080  19.822962  2021-11-04\n",
      "18064     1534  2840.423057  21.409799  2021-11-16\n",
      "18065     1534  3826.185507  18.435051  2021-11-18\n",
      "18066     1534  2902.308661  16.674362  2021-11-27\n",
      "18067     1534  2371.711192  15.893917  2021-12-29, \n",
      "\n",
      "Таблица подписок: \n",
      "   subscription_type  minute_price  start_ride_price  subscription_fee\n",
      "0              free             8                50                 0\n",
      "1             ultra             6                 0               199, \n",
      "\n"
     ]
    }
   ],
   "source": [
    "users_go = pd.read_csv(r\"D:\\WinUsers\\Lenovo\\Desktop\\ПРОЕКТНЫЕ ФАЙЛЫ.CSV\\Спринт_4. Статистический анализ\\users_go.csv\")\n",
    "print(f'Таблица пользователей: \\n {users_go.head()}, \\n')\n",
    "rides_go = pd.read_csv(r\"D:\\WinUsers\\Lenovo\\Desktop\\ПРОЕКТНЫЕ ФАЙЛЫ.CSV\\Спринт_4. Статистический анализ\\rides_go.csv\")\n",
    "print(f'Таблица поездок: \\n {rides_go.tail()}, \\n')\n",
    "subs_go = pd.read_csv(r\"D:\\WinUsers\\Lenovo\\Desktop\\ПРОЕКТНЫЕ ФАЙЛЫ.CSV\\Спринт_4. Статистический анализ\\subscriptions_go.csv\")\n",
    "print(f'Таблица подписок: \\n {subs_go.head()}, \\n')"
   ]
  },
  {
   "cell_type": "markdown",
   "metadata": {},
   "source": [
    "**Выведем информацию о датафреймах на экран, проверим датафреймы на наличие явных дубликатов методом `duplicated`.**"
   ]
  },
  {
   "cell_type": "code",
   "execution_count": 3,
   "metadata": {},
   "outputs": [
    {
     "name": "stdout",
     "output_type": "stream",
     "text": [
      "<class 'pandas.core.frame.DataFrame'>\n",
      "RangeIndex: 1565 entries, 0 to 1564\n",
      "Data columns (total 5 columns):\n",
      " #   Column             Non-Null Count  Dtype \n",
      "---  ------             --------------  ----- \n",
      " 0   user_id            1565 non-null   int64 \n",
      " 1   name               1565 non-null   object\n",
      " 2   age                1565 non-null   int64 \n",
      " 3   city               1565 non-null   object\n",
      " 4   subscription_type  1565 non-null   object\n",
      "dtypes: int64(2), object(3)\n",
      "memory usage: 61.3+ KB\n",
      "None, \n",
      "\n",
      "Количество явных дубликатов: 31\n"
     ]
    }
   ],
   "source": [
    "print(f'{users_go.info()}, \\n')\n",
    "print(f'Количество явных дубликатов: {users_go.duplicated().sum()}')\n"
   ]
  },
  {
   "cell_type": "code",
   "execution_count": 4,
   "metadata": {},
   "outputs": [
    {
     "name": "stdout",
     "output_type": "stream",
     "text": [
      "<class 'pandas.core.frame.DataFrame'>\n",
      "RangeIndex: 18068 entries, 0 to 18067\n",
      "Data columns (total 4 columns):\n",
      " #   Column    Non-Null Count  Dtype  \n",
      "---  ------    --------------  -----  \n",
      " 0   user_id   18068 non-null  int64  \n",
      " 1   distance  18068 non-null  float64\n",
      " 2   duration  18068 non-null  float64\n",
      " 3   date      18068 non-null  object \n",
      "dtypes: float64(2), int64(1), object(1)\n",
      "memory usage: 564.8+ KB\n",
      "None, \n",
      "\n",
      "Количество явных дубликатов: 0\n"
     ]
    }
   ],
   "source": [
    "print(f'{rides_go.info()}, \\n')\n",
    "print(f'Количество явных дубликатов: {rides_go.duplicated().sum()}')"
   ]
  },
  {
   "cell_type": "code",
   "execution_count": 5,
   "metadata": {},
   "outputs": [
    {
     "name": "stdout",
     "output_type": "stream",
     "text": [
      "<class 'pandas.core.frame.DataFrame'>\n",
      "RangeIndex: 2 entries, 0 to 1\n",
      "Data columns (total 4 columns):\n",
      " #   Column             Non-Null Count  Dtype \n",
      "---  ------             --------------  ----- \n",
      " 0   subscription_type  2 non-null      object\n",
      " 1   minute_price       2 non-null      int64 \n",
      " 2   start_ride_price   2 non-null      int64 \n",
      " 3   subscription_fee   2 non-null      int64 \n",
      "dtypes: int64(3), object(1)\n",
      "memory usage: 196.0+ bytes\n"
     ]
    }
   ],
   "source": [
    "subs_go.info()"
   ]
  },
  {
   "cell_type": "markdown",
   "metadata": {},
   "source": [
    "**Построим гистограммы для всех числовых столбцов таблиц.**"
   ]
  },
  {
   "cell_type": "code",
   "execution_count": 6,
   "metadata": {},
   "outputs": [
    {
     "data": {
      "image/png": "[encoded data removed]",
      "text/plain": [
       "<Figure size 500x500 with 1 Axes>"
      ]
     },
     "metadata": {},
     "output_type": "display_data"
    }
   ],
   "source": [
    "users_go.hist('age', figsize=(5, 5))\n",
    "plt.show()"
   ]
  },
  {
   "cell_type": "code",
   "execution_count": 7,
   "metadata": {},
   "outputs": [
    {
     "data": {
      "image/png": "[encoded data removed]",
      "text/plain": [
       "<Figure size 1000x500 with 2 Axes>"
      ]
     },
     "metadata": {},
     "output_type": "display_data"
    }
   ],
   "source": [
    "rides_go.hist(['distance', 'duration'], figsize=(10, 5))\n",
    "plt.show()"
   ]
  },
  {
   "cell_type": "markdown",
   "metadata": {},
   "source": [
    "<div class=\"alert alert-info\"> <b>Вывод:</b>\n",
    "    \n",
    "Проанализировали общую информацию о данных:\n",
    "    \n",
    "- Первый датафрейм `users_go`: 1565 записей, пропущенных значений нет, явных дубликатов 31, корректный тип данных. \n",
    "- Второй датафрейм `rides_go`: 18068 записей, пропущенных значений нет, явные дубликаты отсутствуют, есть некорректный тип данных. \n",
    "- Третий датафрейм `subs_go`: 2 записи, пропущенных значений нет, явные дубликаты отсутствуют, корректный тип данных. \n",
    "- Данные признаны полными и достаточными для исследования.\n",
    "</div>  "
   ]
  },
  {
   "cell_type": "markdown",
   "metadata": {},
   "source": [
    "## Предобработка данных"
   ]
  },
  {
   "cell_type": "markdown",
   "metadata": {},
   "source": [
    "**Предобработаем данные из датафрейма `users_go`. Удалим явные дубликаты**"
   ]
  },
  {
   "cell_type": "code",
   "execution_count": 8,
   "metadata": {},
   "outputs": [
    {
     "data": {
      "text/plain": [
       "0"
      ]
     },
     "execution_count": 8,
     "metadata": {},
     "output_type": "execute_result"
    }
   ],
   "source": [
    "users_go = users_go.drop_duplicates()\n",
    "users_go.duplicated().sum()"
   ]
  },
  {
   "cell_type": "markdown",
   "metadata": {},
   "source": [
    "**Предобработаем данные из датафрейма `rides_go`. Округлим данные столбца `distance` до 2-х знаков после запятой. Поменяем тип тип данных столбца `date`. Округлим значение столбца `duration` до целых чисел. Создадим новый столбец с номером месяца на основе столбца `date`. Создадим новый столбец с показателем средней скорости (км/ч) на основе столбцов `distance` и `duration`.**"
   ]
  },
  {
   "cell_type": "code",
   "execution_count": 9,
   "metadata": {},
   "outputs": [
    {
     "data": {
      "text/html": [
       "<div>\n",
       "<style scoped>\n",
       "    .dataframe tbody tr th:only-of-type {\n",
       "        vertical-align: middle;\n",
       "    }\n",
       "\n",
       "    .dataframe tbody tr th {\n",
       "        vertical-align: top;\n",
       "    }\n",
       "\n",
       "    .dataframe thead th {\n",
       "        text-align: right;\n",
       "    }\n",
       "</style>\n",
       "<table border=\"1\" class=\"dataframe\">\n",
       "  <thead>\n",
       "    <tr style=\"text-align: right;\">\n",
       "      <th></th>\n",
       "      <th>user_id</th>\n",
       "      <th>distance</th>\n",
       "      <th>duration</th>\n",
       "      <th>date</th>\n",
       "      <th>month</th>\n",
       "      <th>average_speed</th>\n",
       "    </tr>\n",
       "  </thead>\n",
       "  <tbody>\n",
       "    <tr>\n",
       "      <th>0</th>\n",
       "      <td>1</td>\n",
       "      <td>4409.92</td>\n",
       "      <td>26</td>\n",
       "      <td>2021-01-01</td>\n",
       "      <td>1</td>\n",
       "      <td>10.18</td>\n",
       "    </tr>\n",
       "    <tr>\n",
       "      <th>1</th>\n",
       "      <td>1</td>\n",
       "      <td>2617.59</td>\n",
       "      <td>16</td>\n",
       "      <td>2021-01-18</td>\n",
       "      <td>1</td>\n",
       "      <td>9.82</td>\n",
       "    </tr>\n",
       "    <tr>\n",
       "      <th>2</th>\n",
       "      <td>1</td>\n",
       "      <td>754.16</td>\n",
       "      <td>7</td>\n",
       "      <td>2021-04-20</td>\n",
       "      <td>4</td>\n",
       "      <td>6.46</td>\n",
       "    </tr>\n",
       "    <tr>\n",
       "      <th>3</th>\n",
       "      <td>1</td>\n",
       "      <td>2694.78</td>\n",
       "      <td>19</td>\n",
       "      <td>2021-08-11</td>\n",
       "      <td>8</td>\n",
       "      <td>8.51</td>\n",
       "    </tr>\n",
       "    <tr>\n",
       "      <th>4</th>\n",
       "      <td>1</td>\n",
       "      <td>4028.69</td>\n",
       "      <td>27</td>\n",
       "      <td>2021-08-28</td>\n",
       "      <td>8</td>\n",
       "      <td>8.95</td>\n",
       "    </tr>\n",
       "  </tbody>\n",
       "</table>\n",
       "</div>"
      ],
      "text/plain": [
       "   user_id  distance  duration       date  month  average_speed\n",
       "0        1   4409.92        26 2021-01-01      1          10.18\n",
       "1        1   2617.59        16 2021-01-18      1           9.82\n",
       "2        1    754.16         7 2021-04-20      4           6.46\n",
       "3        1   2694.78        19 2021-08-11      8           8.51\n",
       "4        1   4028.69        27 2021-08-28      8           8.95"
      ]
     },
     "execution_count": 9,
     "metadata": {},
     "output_type": "execute_result"
    }
   ],
   "source": [
    "rides_go['distance'] = rides_go['distance'].round(2)\n",
    "rides_go['date'] = pd.to_datetime(rides_go['date'], format ='%Y-%m-%d')\n",
    "rides_go['duration'] = np.ceil(rides_go['duration']).astype('int')\n",
    "rides_go['month'] = rides_go['date'].dt.month\n",
    "rides_go['average_speed'] = round((rides_go['distance'] / rides_go['duration']) * 0.06, 2)\n",
    "rides_go.head()"
   ]
  },
  {
   "cell_type": "markdown",
   "metadata": {},
   "source": [
    "**Предобрабатывать данные из датафрейма `subs_go` нет необходимости.**"
   ]
  },
  {
   "cell_type": "markdown",
   "metadata": {},
   "source": [
    "<div class=\"alert alert-info\"> <b>Вывод:</b>\n",
    "    \n",
    "Провели предобработку данных:\n",
    "    \n",
    "Датафрейм `users_go`:    \n",
    "- удалили явные дубликаты.\n",
    "    \n",
    "Датафрейм `rides_go`:\n",
    "- округлили данные в столбце `distance` до 2-х знаков до запятой;\n",
    "- значения из столбца `duration` округлили с помощью «потолка»;\n",
    "- поменяли тип данных в столбце `date`;\n",
    "- создали столбец `month` с номером месяца на основе столбца `date`;\n",
    "- создали столбец `average_speed` со средней скоростью на основе столбцов `distance`, `duration`.\n",
    "    \n",
    "Датафрейм `subs_go`:\n",
    "- оставили всё без изменений. \n",
    "</div> "
   ]
  },
  {
   "cell_type": "markdown",
   "metadata": {},
   "source": [
    "## Исследовательский анализ данных"
   ]
  },
  {
   "cell_type": "markdown",
   "metadata": {},
   "source": [
    "**Анализ распределения количества пользователей по городам.**"
   ]
  },
  {
   "cell_type": "code",
   "execution_count": 10,
   "metadata": {},
   "outputs": [
    {
     "data": {
      "text/plain": [
       "city\n",
       "Пятигорск         219\n",
       "Екатеринбург      204\n",
       "Ростов-на-Дону    198\n",
       "Краснодар         193\n",
       "Сочи              189\n",
       "Омск              183\n",
       "Тюмень            180\n",
       "Москва            168\n",
       "Name: count, dtype: int64"
      ]
     },
     "execution_count": 10,
     "metadata": {},
     "output_type": "execute_result"
    }
   ],
   "source": [
    "users_go['city'].value_counts()"
   ]
  },
  {
   "cell_type": "code",
   "execution_count": 11,
   "metadata": {},
   "outputs": [
    {
     "data": {
      "image/png": "[encoded data removed]",
      "text/plain": [
       "<Figure size 1400x500 with 1 Axes>"
      ]
     },
     "metadata": {},
     "output_type": "display_data"
    }
   ],
   "source": [
    "users_go.pivot_table(index='city', values='user_id', aggfunc='count')\\\n",
    ".sort_values(by='user_id', ascending=True)\\\n",
    ".plot(grid=True, kind='barh', figsize=(14, 5))\n",
    "plt.title('Количество пользователей GoFast по городам', fontsize=18)\n",
    "plt.xlabel('Количество', fontsize=14)\n",
    "plt.ylabel('Город', fontsize=14)\n",
    "plt.show()"
   ]
  },
  {
   "cell_type": "markdown",
   "metadata": {},
   "source": [
    "*Наибольшее количество пользователей сервиса GoFast приходится на южные города, что в общем-то и понятно ведь для использования самокатов природные условия наиболее благоприятные. На первом месте находится Пятигорск - 219 пользователей, а в топ-5 четыре южных города, единственная неожиданность второе место уральского города Екатеринбург.*"
   ]
  },
  {
   "cell_type": "markdown",
   "metadata": {},
   "source": [
    "**Анализ соотношения количества пользователей с подпиской и без подписки.**"
   ]
  },
  {
   "cell_type": "code",
   "execution_count": 12,
   "metadata": {},
   "outputs": [
    {
     "data": {
      "image/png": "[encoded data removed]",
      "text/plain": [
       "<Figure size 500x500 with 1 Axes>"
      ]
     },
     "metadata": {},
     "output_type": "display_data"
    }
   ],
   "source": [
    "users_go.pivot_table(index='subscription_type', values='user_id', aggfunc='count')\\\n",
    ".sort_values('user_id', ascending=False)\\\n",
    ".plot.pie(y='user_id', figsize=(5,5),\n",
    "label='',          \n",
    "autopct='%0.2f%%',\n",
    "colors = ['red', 'grey'])\n",
    "plt.title('Соотношение пользователей с подпиской и без подписки', fontsize=18)\n",
    "plt.show()\n"
   ]
  },
  {
   "cell_type": "markdown",
   "metadata": {},
   "source": [
    "*Количество пользователей без подписки составляет 54,43%, а пользователей с подпиской 45.57%. Отделу маркетинга сервиса GoFast есть куда стремиться.*"
   ]
  },
  {
   "cell_type": "markdown",
   "metadata": {},
   "source": [
    "**Анализ распределения количества пользователей по возрасту.**"
   ]
  },
  {
   "cell_type": "code",
   "execution_count": 13,
   "metadata": {},
   "outputs": [
    {
     "data": {
      "text/plain": [
       "count    1534.000000\n",
       "mean       24.903520\n",
       "std         4.572367\n",
       "min        12.000000\n",
       "25%        22.000000\n",
       "50%        25.000000\n",
       "75%        28.000000\n",
       "max        43.000000\n",
       "Name: age, dtype: float64"
      ]
     },
     "execution_count": 13,
     "metadata": {},
     "output_type": "execute_result"
    }
   ],
   "source": [
    "users_go['age'].describe()"
   ]
  },
  {
   "cell_type": "code",
   "execution_count": 14,
   "metadata": {},
   "outputs": [
    {
     "data": {
      "image/png": "[encoded data removed]",
      "text/plain": [
       "<Figure size 1200x500 with 1 Axes>"
      ]
     },
     "metadata": {},
     "output_type": "display_data"
    }
   ],
   "source": [
    "users_go.pivot_table(index='age', values='user_id', aggfunc='count')\\\n",
    ".sort_values(by='age', ascending=True)\\\n",
    ".plot(grid=True, kind='bar', color='g', figsize=(12, 5), edgecolor='black')\n",
    "plt.title('Распределение пользователей GoFast по возрасту', fontsize=18)\n",
    "plt.ylabel('Количество', fontsize=14)\n",
    "plt.xlabel('Возраст', fontsize=14)\n",
    "plt.show()"
   ]
  },
  {
   "cell_type": "markdown",
   "metadata": {},
   "source": [
    "*Распределение пользователей сервиса GoFast подчиняется нормальному распределению. Среднее 25 и медиана 24,9 практически совпадают. Как мы видим основной потребитель этой услуги молодые люди в возрасте 22-27 лет.*"
   ]
  },
  {
   "cell_type": "markdown",
   "metadata": {},
   "source": [
    "**Анализ соотношения количества поездок в зависимости от расстояния.**"
   ]
  },
  {
   "cell_type": "code",
   "execution_count": 15,
   "metadata": {},
   "outputs": [
    {
     "data": {
      "text/plain": [
       "count    18068.000000\n",
       "mean      3070.659992\n",
       "std       1116.831222\n",
       "min          0.860000\n",
       "25%       2543.227500\n",
       "50%       3133.610000\n",
       "75%       3776.220000\n",
       "max       7211.010000\n",
       "Name: distance, dtype: float64"
      ]
     },
     "execution_count": 15,
     "metadata": {},
     "output_type": "execute_result"
    }
   ],
   "source": [
    "rides_go['distance'].describe()"
   ]
  },
  {
   "cell_type": "code",
   "execution_count": 16,
   "metadata": {},
   "outputs": [
    {
     "data": {
      "image/png": "[encoded data removed]",
      "text/plain": [
       "<Figure size 1600x400 with 1 Axes>"
      ]
     },
     "metadata": {},
     "output_type": "display_data"
    }
   ],
   "source": [
    "rides_go.boxplot(column=['distance'], vert=False, figsize=(16, 4))\n",
    "plt.show()"
   ]
  },
  {
   "cell_type": "code",
   "execution_count": 17,
   "metadata": {},
   "outputs": [
    {
     "data": {
      "image/png": "[encoded data removed]",
      "text/plain": [
       "<Figure size 1400x400 with 1 Axes>"
      ]
     },
     "metadata": {},
     "output_type": "display_data"
    }
   ],
   "source": [
    "rides_go.hist(column = 'distance', bins = 100, range = (1500, 5600), figsize=(14,4), edgecolor='black')\n",
    "plt.title('Количество поездок пользователей GoFast в зависимости от расстояния', fontsize=18)\n",
    "plt.xlabel('Расстояние, метров', fontsize=14)\n",
    "plt.ylabel('Количество поездок', fontsize=14)\n",
    "plt.show()"
   ]
  },
  {
   "cell_type": "markdown",
   "metadata": {},
   "source": [
    "*Среднее значение расстояния поездок 3070.65 м и медиана 3133.61 м отличаются, так как видно из диаграммы размаха есть выбросы за минимумом и за максимумом. В диапозоне range(1500, 5600) график будет подчиняться нормальному распределению. Выбросы в диапазоне от 0 до 1000 м возможно объясняются поломкой самоката, либо изменением планов клиента.*"
   ]
  },
  {
   "cell_type": "markdown",
   "metadata": {},
   "source": [
    "**Анализ соотношения количества поездок в зависимости от их продолжительности.**"
   ]
  },
  {
   "cell_type": "code",
   "execution_count": 18,
   "metadata": {},
   "outputs": [
    {
     "data": {
      "text/plain": [
       "count    18068.000000\n",
       "mean        18.303520\n",
       "std          6.094928\n",
       "min          1.000000\n",
       "25%         14.000000\n",
       "50%         18.000000\n",
       "75%         22.000000\n",
       "max         41.000000\n",
       "Name: duration, dtype: float64"
      ]
     },
     "execution_count": 18,
     "metadata": {},
     "output_type": "execute_result"
    }
   ],
   "source": [
    "rides_go['duration'].describe()"
   ]
  },
  {
   "cell_type": "code",
   "execution_count": 19,
   "metadata": {},
   "outputs": [
    {
     "data": {
      "image/png": "[encoded data removed]",
      "text/plain": [
       "<Figure size 1000x400 with 1 Axes>"
      ]
     },
     "metadata": {},
     "output_type": "display_data"
    }
   ],
   "source": [
    "rides_go.boxplot(column=['duration'], vert=False, figsize=(10, 4))\n",
    "plt.show()"
   ]
  },
  {
   "cell_type": "code",
   "execution_count": 20,
   "metadata": {},
   "outputs": [
    {
     "data": {
      "image/png": "[encoded data removed]",
      "text/plain": [
       "<Figure size 1400x400 with 1 Axes>"
      ]
     },
     "metadata": {},
     "output_type": "display_data"
    }
   ],
   "source": [
    "rides_go.hist(column = 'duration', bins = 100, range = (1, 35), figsize=(14,4), edgecolor='black')\n",
    "plt.title('Количество поездок пользователей GoFast в зависимости от продолжительности', fontsize=18)\n",
    "plt.xlabel('Сессия, мин', fontsize=14)\n",
    "plt.ylabel('Количество поездок', fontsize=14)\n",
    "plt.show()"
   ]
  },
  {
   "cell_type": "markdown",
   "metadata": {},
   "source": [
    "*Среднее значение продолжительности поездок 18.3 мин и медиана 18 мин отличаются (в относительном процентном отношении примерно также, как и количество поездок 1,66% и 2,05% соответственно) , так как видно из диаграммы размаха есть выбросы за минимумом и за максимумом. В диапозоне range(1, 35) график будет подчиняться нормальному распределению. Выбросы в диапазоне до 1 мин возможно объясняются поломкой самоката, либо изменением планов клиента.*"
   ]
  },
  {
   "cell_type": "markdown",
   "metadata": {},
   "source": [
    "**Анализ соотношения количества поездок в зависимости от средней скорости поездки.**"
   ]
  },
  {
   "cell_type": "code",
   "execution_count": 21,
   "metadata": {},
   "outputs": [
    {
     "data": {
      "text/plain": [
       "count    18068.000000\n",
       "mean        11.842608\n",
       "std         21.961873\n",
       "min          0.000000\n",
       "25%          7.930000\n",
       "50%          9.970000\n",
       "75%         12.510000\n",
       "max        432.660000\n",
       "Name: average_speed, dtype: float64"
      ]
     },
     "execution_count": 21,
     "metadata": {},
     "output_type": "execute_result"
    }
   ],
   "source": [
    "rides_go['average_speed'].describe()"
   ]
  },
  {
   "cell_type": "code",
   "execution_count": 22,
   "metadata": {},
   "outputs": [
    {
     "data": {
      "image/png": "[encoded data removed]",
      "text/plain": [
       "<Figure size 1600x400 with 1 Axes>"
      ]
     },
     "metadata": {},
     "output_type": "display_data"
    }
   ],
   "source": [
    "rides_go.boxplot(column=['average_speed'], vert=False, figsize=(16, 4))\n",
    "plt.show()"
   ]
  },
  {
   "cell_type": "code",
   "execution_count": 23,
   "metadata": {},
   "outputs": [
    {
     "data": {
      "image/png": "[encoded data removed]",
      "text/plain": [
       "<Figure size 1200x400 with 1 Axes>"
      ]
     },
     "metadata": {},
     "output_type": "display_data"
    }
   ],
   "source": [
    "rides_go.hist(column = 'average_speed', bins = 150, range = (0, 25), figsize=(12,4))\n",
    "plt.title('Количество поездок пользователей GoFast в зависимости от средней скорости', fontsize=18)\n",
    "plt.xlabel('Средняя скорость, км/ч', fontsize=14)\n",
    "plt.ylabel('Количество поездок', fontsize=14)\n",
    "plt.show()"
   ]
  },
  {
   "cell_type": "markdown",
   "metadata": {},
   "source": [
    "*Среднее значение средней скорости 9.97 км/ч и медиана 11.84 км/ч , так как наблюдаются на  диаграмме размаха аномальные значения за максимумом. Аномальные значения средней скорости варьируюся от 230 до свыше 400 км/ч (нереальные показатели), что является скорее всего явным программным сбоем. Вопрос к технической службе сервиса GoFast.*"
   ]
  },
  {
   "cell_type": "markdown",
   "metadata": {},
   "source": [
    "<div class=\"alert alert-info\"> <b>Вывод:</b>\n",
    "    \n",
    "Провели исследовательский анализ данных:\n",
    "    \n",
    "- Наибольшее количество пользователей сервиса GoFast приходится на южные города, что в общем-то и понятно ведь для использования самокатов природные условия наиболее благоприятные. На первом месте находится Пятигорск - 219 пользователей, а в топ-5 четыре южных города, единственная неожиданность второе место уральского города Екатеринбург. \n",
    "- Количество пользователей без подписки составляет 54,43%, а пользователей с подпиской 45.57%. Отделу маркетинга сервиса GoFast есть куда стремиться. \n",
    "- Распределение пользователей сервиса GoFast подчиняется нормальному распределению. Среднее 25 и медиана 24,9 практически совпадают. Как мы видим основной потребитель этой услуги молодые люди в возрасте 22-27 лет. \n",
    "- Среднее значение расстояния поездок 3070.65 м и медиана 3133.61 м отличаются, так как видно из диаграммы размаха есть выбросы за минимумом и за максимумом. В диапозоне range(1500, 5600) график будет подчиняться нормальному распределению. Выбросы в диапазоне от 0 до 1000 м возможно объясняются поломкой самоката, либо изменением планов клиента.\n",
    "- Среднее значение продолжительности поездок 18.3 мин и медиана 18 мин отличаются (в относительном процентном отношении примерно также, как и количество поездок 1,66% и 2,05% соответственно) , так как видно из диаграммы размаха есть выбросы за минимумом и за максимумом. В диапозоне range(1, 35) график будет подчиняться нормальному распределению. Выбросы в диапазоне от 0 до 1 мин возможно объясняются поломкой самоката, либо изменением планов клиента.\n",
    "- Среднее значение средней скорости 9.97 км/ч и медиана 11.84 км/ч , так как наблюдаются на  диаграмме размаха аномальные значения за максимумом. Аномальные значения средней скорости варьируюся от 230 до свыше 400 км/ч (нереальные показатели), что является скорее всего явным программным сбоем. Вопрос к технической службе сервиса GoFast.\n",
    "</div>  "
   ]
  },
  {
   "cell_type": "markdown",
   "metadata": {},
   "source": [
    "## Объединение данных"
   ]
  },
  {
   "cell_type": "markdown",
   "metadata": {},
   "source": [
    "**Объединим три датафрейма `users_go`, `rides_go`, `subs_go` для дальнейшего анализа методом `merge`.**"
   ]
  },
  {
   "cell_type": "code",
   "execution_count": 24,
   "metadata": {},
   "outputs": [],
   "source": [
    "users_rides = users_go.merge(rides_go, on='user_id')\\\n",
    ".merge(subs_go, on='subscription_type')"
   ]
  },
  {
   "cell_type": "code",
   "execution_count": 25,
   "metadata": {},
   "outputs": [
    {
     "name": "stdout",
     "output_type": "stream",
     "text": [
      "<class 'pandas.core.frame.DataFrame'>\n",
      "RangeIndex: 18068 entries, 0 to 18067\n",
      "Data columns (total 13 columns):\n",
      " #   Column             Non-Null Count  Dtype         \n",
      "---  ------             --------------  -----         \n",
      " 0   user_id            18068 non-null  int64         \n",
      " 1   name               18068 non-null  object        \n",
      " 2   age                18068 non-null  int64         \n",
      " 3   city               18068 non-null  object        \n",
      " 4   subscription_type  18068 non-null  object        \n",
      " 5   distance           18068 non-null  float64       \n",
      " 6   duration           18068 non-null  int32         \n",
      " 7   date               18068 non-null  datetime64[ns]\n",
      " 8   month              18068 non-null  int32         \n",
      " 9   average_speed      18068 non-null  float64       \n",
      " 10  minute_price       18068 non-null  int64         \n",
      " 11  start_ride_price   18068 non-null  int64         \n",
      " 12  subscription_fee   18068 non-null  int64         \n",
      "dtypes: datetime64[ns](1), float64(2), int32(2), int64(5), object(3)\n",
      "memory usage: 1.7+ MB\n"
     ]
    }
   ],
   "source": [
    "users_rides.info()"
   ]
  },
  {
   "cell_type": "markdown",
   "metadata": {},
   "source": [
    "**Создадим два датафрейма `users_rides_ultra`, `users_rides_free` c данными о пользователях с подпиской и без, на основе датафрейма  `users_rides` методом `query`.**"
   ]
  },
  {
   "cell_type": "code",
   "execution_count": 26,
   "metadata": {},
   "outputs": [],
   "source": [
    "users_rides_free = users_rides.query('subscription_type == \"free\"' )"
   ]
  },
  {
   "cell_type": "code",
   "execution_count": 27,
   "metadata": {},
   "outputs": [],
   "source": [
    "users_rides_ultra = users_rides.query('subscription_type == \"ultra\"' )"
   ]
  },
  {
   "cell_type": "markdown",
   "metadata": {},
   "source": [
    "**Проверим правильность создания датафреймов `users_rides_ultra`, `users_rides_free`.**"
   ]
  },
  {
   "cell_type": "code",
   "execution_count": 28,
   "metadata": {},
   "outputs": [
    {
     "name": "stdout",
     "output_type": "stream",
     "text": [
      "Количество строк разделенных датафреймов соответствует исходному: 18068. Разделили правильно.\n"
     ]
    }
   ],
   "source": [
    "if (len(users_rides_free) + len(users_rides_ultra)) == len(rides_go):\n",
    "    print(f'Количество строк разделенных датафреймов соответствует исходному: {len(rides_go)}. Разделили правильно.')\n",
    "else:\n",
    "    print(f'Необходимо проверить код!!!')     "
   ]
  },
  {
   "cell_type": "markdown",
   "metadata": {},
   "source": [
    "**Получим числовое описание данных столбцов`distance` и `duration` датафреймов `users_rides_ultra`, `users_rides_free` методом `describe`.**"
   ]
  },
  {
   "cell_type": "code",
   "execution_count": 29,
   "metadata": {},
   "outputs": [
    {
     "name": "stdout",
     "output_type": "stream",
     "text": [
      "          distance     duration\n",
      "count  6500.000000  6500.000000\n",
      "mean   3115.445431    19.037692\n",
      "std     836.895369     5.577439\n",
      "min     244.210000     4.000000\n",
      "25%    2785.447500    15.000000\n",
      "50%    3148.640000    19.000000\n",
      "75%    3560.577500    22.000000\n",
      "max    5699.770000    41.000000\n",
      "\n",
      "           distance      duration\n",
      "count  11568.000000  11568.000000\n",
      "mean    3045.495284     17.890992\n",
      "std     1246.173810      6.330250\n",
      "min        0.860000      1.000000\n",
      "25%     2366.560000     13.000000\n",
      "50%     3114.650000     18.000000\n",
      "75%     3905.695000     22.000000\n",
      "max     7211.010000     35.000000\n"
     ]
    }
   ],
   "source": [
    "print(users_rides_ultra[['distance', 'duration']].describe())\n",
    "print()\n",
    "print(users_rides_free[['distance', 'duration']].describe())"
   ]
  },
  {
   "cell_type": "markdown",
   "metadata": {},
   "source": [
    "**Визуализируем информацию о расстоянии поездок для пользователей обеих категорий (с подпиской и без подписки).**"
   ]
  },
  {
   "cell_type": "code",
   "execution_count": 30,
   "metadata": {},
   "outputs": [
    {
     "data": {
      "image/png": "[encoded data removed]",
      "text/plain": [
       "<Figure size 1200x500 with 1 Axes>"
      ]
     },
     "metadata": {},
     "output_type": "display_data"
    }
   ],
   "source": [
    "plt.figure(figsize=(12, 5))\n",
    "plt.hist([users_rides_ultra['distance'], users_rides_free['distance']], bins=50, range=(1, 6000), label=['ultra', 'free'], edgecolor='black')\n",
    "plt.legend()\n",
    "plt.title('Количество поездок пользователей GoFast в зависимости от расстояния', fontsize=18)\n",
    "plt.xlabel('Расстояние, метров', fontsize=14)\n",
    "plt.ylabel('Количество поездок', fontsize=14)\n",
    "plt.show()"
   ]
  },
  {
   "cell_type": "markdown",
   "metadata": {},
   "source": [
    "**Визуализируем информацию о продолжительности поездок для пользователей обеих категорий (с подпиской и без подписки).**"
   ]
  },
  {
   "cell_type": "code",
   "execution_count": 31,
   "metadata": {},
   "outputs": [
    {
     "data": {
      "image/png": "[encoded data removed]",
      "text/plain": [
       "<Figure size 1200x500 with 1 Axes>"
      ]
     },
     "metadata": {},
     "output_type": "display_data"
    }
   ],
   "source": [
    "plt.figure(figsize=(12, 5))\n",
    "plt.hist([users_rides_ultra['duration'], users_rides_free['duration']], bins=50, range=(1, 41), label=['ultra', 'free'], edgecolor='black')\n",
    "plt.legend()\n",
    "plt.title('Количество поездок пользователей GoFast в зависимости от продолжительности', fontsize=18)\n",
    "plt.xlabel('Сессия, мин', fontsize=14)\n",
    "plt.ylabel('Количество поездок', fontsize=14)\n",
    "plt.show()"
   ]
  },
  {
   "cell_type": "markdown",
   "metadata": {},
   "source": [
    "<div class=\"alert alert-info\"> <b>Вывод:</b>\n",
    "    \n",
    "После объединения датафреймов провели анализ данных в разрезе подписки:\n",
    "    \n",
    "- На основании числового описания данных количества поездок по продолжительности методом `describe` и  их визуализации, можно сказать следующее у клиентов категорий  `ultra` и `free` соотношение показателей среднего расстояния  3115.44 метров и 3045.49 метров, медиана 3148.64 метров и 3114.65 метров соответственно. То есть в среднем пользователи с подпиской проезжают большее расстояние, но в тоже время максимально большие расстояния есть у пользователей без подписки. Разброс данных у пользователей категории `ultra` меньше, чем у пользователей категории `free` (стандартное отклонение `ultra` 836.89 против 1246.17 у `free`)\n",
    "- На основании числового описания данных количества поездок на определенное расстояние методом `describe` и  их визуализации, можно сказать следующее у клиентов категорий  `ultra` и `free` соотношение показателей среднего расстояния  19.03 минут и 17.89 минут, медиана 19 минут и 18 минут соответственно. В среднем пользователи с подпиской тратят на поездки больше времени. Разброс данных у пользователей категории `ultra` меньше, чем у пользователей категории `free` (стандартное отклонение `ultra` 5.57 против 6.33 у `free`).\n",
    "В целом можно сказать, что подписка положительно влияет на увеличение среднего расстояния и продолжительность поездки.\n",
    "</div>  "
   ]
  },
  {
   "cell_type": "markdown",
   "metadata": {},
   "source": [
    "## Подсчёт выручки"
   ]
  },
  {
   "cell_type": "markdown",
   "metadata": {},
   "source": [
    "**Создадим датафрейм с агрегированными данными методом `pivot_table` о поездках на основе датафрейма `users_rides`: найдём суммарное расстояние, количество поездок и суммарное время для каждого пользователя за каждый месяц.**"
   ]
  },
  {
   "cell_type": "code",
   "execution_count": 32,
   "metadata": {},
   "outputs": [],
   "source": [
    "users_rides_income = users_rides.pivot_table(index=('subscription_type', 'user_id', 'month'),\n",
    "                                            values=('distance',\n",
    "                                                    'duration', \n",
    "                                                    'minute_price',\n",
    "                                                    'start_ride_price',\n",
    "                                                    'subscription_fee'),\n",
    "                                             aggfunc=({'distance':{'count', 'sum'},\n",
    "                                                      'duration':'sum',\n",
    "                                                      'minute_price':'mean',\n",
    "                                                      'start_ride_price':'mean',\n",
    "                                                      'subscription_fee':'mean'})\n",
    "                                            )"
   ]
  },
  {
   "cell_type": "markdown",
   "metadata": {},
   "source": [
    "**Переименуем столбцы после применения метода `pivot_table`.**"
   ]
  },
  {
   "cell_type": "code",
   "execution_count": 33,
   "metadata": {},
   "outputs": [],
   "source": [
    "users_rides_income.columns = ['count',\n",
    "                              'distance',\n",
    "                              'duration',\n",
    "                              'minute_price',\n",
    "                              'start_ride_price',\n",
    "                              'subscription_fee']"
   ]
  },
  {
   "cell_type": "markdown",
   "metadata": {},
   "source": [
    "**Создадим столбец `income` с помесячной выручкой.**"
   ]
  },
  {
   "cell_type": "code",
   "execution_count": 34,
   "metadata": {},
   "outputs": [],
   "source": [
    "users_rides_income['income'] =  users_rides_income['duration']\\\n",
    "* users_rides_income['minute_price'] + users_rides_income['count']\\\n",
    "* users_rides_income['start_ride_price'] + users_rides_income['subscription_fee']"
   ]
  },
  {
   "cell_type": "code",
   "execution_count": 35,
   "metadata": {},
   "outputs": [
    {
     "data": {
      "text/html": [
       "<div>\n",
       "<style scoped>\n",
       "    .dataframe tbody tr th:only-of-type {\n",
       "        vertical-align: middle;\n",
       "    }\n",
       "\n",
       "    .dataframe tbody tr th {\n",
       "        vertical-align: top;\n",
       "    }\n",
       "\n",
       "    .dataframe thead th {\n",
       "        text-align: right;\n",
       "    }\n",
       "</style>\n",
       "<table border=\"1\" class=\"dataframe\">\n",
       "  <thead>\n",
       "    <tr style=\"text-align: right;\">\n",
       "      <th></th>\n",
       "      <th></th>\n",
       "      <th></th>\n",
       "      <th>count</th>\n",
       "      <th>distance</th>\n",
       "      <th>duration</th>\n",
       "      <th>minute_price</th>\n",
       "      <th>start_ride_price</th>\n",
       "      <th>subscription_fee</th>\n",
       "      <th>income</th>\n",
       "    </tr>\n",
       "    <tr>\n",
       "      <th>subscription_type</th>\n",
       "      <th>user_id</th>\n",
       "      <th>month</th>\n",
       "      <th></th>\n",
       "      <th></th>\n",
       "      <th></th>\n",
       "      <th></th>\n",
       "      <th></th>\n",
       "      <th></th>\n",
       "      <th></th>\n",
       "    </tr>\n",
       "  </thead>\n",
       "  <tbody>\n",
       "    <tr>\n",
       "      <th rowspan=\"5\" valign=\"top\">ultra</th>\n",
       "      <th rowspan=\"5\" valign=\"top\">699</th>\n",
       "      <th>6</th>\n",
       "      <td>1</td>\n",
       "      <td>4072.80</td>\n",
       "      <td>17</td>\n",
       "      <td>6.0</td>\n",
       "      <td>0.0</td>\n",
       "      <td>199.0</td>\n",
       "      <td>301.0</td>\n",
       "    </tr>\n",
       "    <tr>\n",
       "      <th>8</th>\n",
       "      <td>2</td>\n",
       "      <td>7018.33</td>\n",
       "      <td>45</td>\n",
       "      <td>6.0</td>\n",
       "      <td>0.0</td>\n",
       "      <td>199.0</td>\n",
       "      <td>469.0</td>\n",
       "    </tr>\n",
       "    <tr>\n",
       "      <th>9</th>\n",
       "      <td>2</td>\n",
       "      <td>6364.86</td>\n",
       "      <td>31</td>\n",
       "      <td>6.0</td>\n",
       "      <td>0.0</td>\n",
       "      <td>199.0</td>\n",
       "      <td>385.0</td>\n",
       "    </tr>\n",
       "    <tr>\n",
       "      <th>10</th>\n",
       "      <td>1</td>\n",
       "      <td>4707.85</td>\n",
       "      <td>16</td>\n",
       "      <td>6.0</td>\n",
       "      <td>0.0</td>\n",
       "      <td>199.0</td>\n",
       "      <td>295.0</td>\n",
       "    </tr>\n",
       "    <tr>\n",
       "      <th>12</th>\n",
       "      <td>1</td>\n",
       "      <td>3202.89</td>\n",
       "      <td>26</td>\n",
       "      <td>6.0</td>\n",
       "      <td>0.0</td>\n",
       "      <td>199.0</td>\n",
       "      <td>355.0</td>\n",
       "    </tr>\n",
       "  </tbody>\n",
       "</table>\n",
       "</div>"
      ],
      "text/plain": [
       "                                 count  distance  duration  minute_price  \\\n",
       "subscription_type user_id month                                            \n",
       "ultra             699     6          1   4072.80        17           6.0   \n",
       "                          8          2   7018.33        45           6.0   \n",
       "                          9          2   6364.86        31           6.0   \n",
       "                          10         1   4707.85        16           6.0   \n",
       "                          12         1   3202.89        26           6.0   \n",
       "\n",
       "                                 start_ride_price  subscription_fee  income  \n",
       "subscription_type user_id month                                              \n",
       "ultra             699     6                   0.0             199.0   301.0  \n",
       "                          8                   0.0             199.0   469.0  \n",
       "                          9                   0.0             199.0   385.0  \n",
       "                          10                  0.0             199.0   295.0  \n",
       "                          12                  0.0             199.0   355.0  "
      ]
     },
     "execution_count": 35,
     "metadata": {},
     "output_type": "execute_result"
    }
   ],
   "source": [
    "users_rides_income.tail()"
   ]
  },
  {
   "cell_type": "markdown",
   "metadata": {},
   "source": [
    "**Получим числовое описание данных `users_rides_income` методом `describe`.**"
   ]
  },
  {
   "cell_type": "code",
   "execution_count": 36,
   "metadata": {},
   "outputs": [
    {
     "data": {
      "text/html": [
       "<div>\n",
       "<style scoped>\n",
       "    .dataframe tbody tr th:only-of-type {\n",
       "        vertical-align: middle;\n",
       "    }\n",
       "\n",
       "    .dataframe tbody tr th {\n",
       "        vertical-align: top;\n",
       "    }\n",
       "\n",
       "    .dataframe thead th {\n",
       "        text-align: right;\n",
       "    }\n",
       "</style>\n",
       "<table border=\"1\" class=\"dataframe\">\n",
       "  <thead>\n",
       "    <tr style=\"text-align: right;\">\n",
       "      <th></th>\n",
       "      <th>count</th>\n",
       "      <th>distance</th>\n",
       "      <th>duration</th>\n",
       "      <th>minute_price</th>\n",
       "      <th>start_ride_price</th>\n",
       "      <th>subscription_fee</th>\n",
       "      <th>income</th>\n",
       "    </tr>\n",
       "  </thead>\n",
       "  <tbody>\n",
       "    <tr>\n",
       "      <th>count</th>\n",
       "      <td>11331.000000</td>\n",
       "      <td>11331.000000</td>\n",
       "      <td>11331.000000</td>\n",
       "      <td>11331.000000</td>\n",
       "      <td>11331.000000</td>\n",
       "      <td>11331.000000</td>\n",
       "      <td>11331.000000</td>\n",
       "    </tr>\n",
       "    <tr>\n",
       "      <th>mean</th>\n",
       "      <td>1.594564</td>\n",
       "      <td>4896.362611</td>\n",
       "      <td>29.186127</td>\n",
       "      <td>7.199894</td>\n",
       "      <td>29.997352</td>\n",
       "      <td>79.610537</td>\n",
       "      <td>342.303504</td>\n",
       "    </tr>\n",
       "    <tr>\n",
       "      <th>std</th>\n",
       "      <td>0.831604</td>\n",
       "      <td>2911.516657</td>\n",
       "      <td>16.752464</td>\n",
       "      <td>0.979861</td>\n",
       "      <td>24.496519</td>\n",
       "      <td>97.496144</td>\n",
       "      <td>153.875346</td>\n",
       "    </tr>\n",
       "    <tr>\n",
       "      <th>min</th>\n",
       "      <td>1.000000</td>\n",
       "      <td>2.570000</td>\n",
       "      <td>1.000000</td>\n",
       "      <td>6.000000</td>\n",
       "      <td>0.000000</td>\n",
       "      <td>0.000000</td>\n",
       "      <td>58.000000</td>\n",
       "    </tr>\n",
       "    <tr>\n",
       "      <th>25%</th>\n",
       "      <td>1.000000</td>\n",
       "      <td>2972.205000</td>\n",
       "      <td>17.000000</td>\n",
       "      <td>6.000000</td>\n",
       "      <td>0.000000</td>\n",
       "      <td>0.000000</td>\n",
       "      <td>234.000000</td>\n",
       "    </tr>\n",
       "    <tr>\n",
       "      <th>50%</th>\n",
       "      <td>1.000000</td>\n",
       "      <td>3988.720000</td>\n",
       "      <td>24.000000</td>\n",
       "      <td>8.000000</td>\n",
       "      <td>50.000000</td>\n",
       "      <td>0.000000</td>\n",
       "      <td>319.000000</td>\n",
       "    </tr>\n",
       "    <tr>\n",
       "      <th>75%</th>\n",
       "      <td>2.000000</td>\n",
       "      <td>6421.375000</td>\n",
       "      <td>38.000000</td>\n",
       "      <td>8.000000</td>\n",
       "      <td>50.000000</td>\n",
       "      <td>199.000000</td>\n",
       "      <td>415.000000</td>\n",
       "    </tr>\n",
       "    <tr>\n",
       "      <th>max</th>\n",
       "      <td>7.000000</td>\n",
       "      <td>23429.490000</td>\n",
       "      <td>143.000000</td>\n",
       "      <td>8.000000</td>\n",
       "      <td>50.000000</td>\n",
       "      <td>199.000000</td>\n",
       "      <td>1444.000000</td>\n",
       "    </tr>\n",
       "  </tbody>\n",
       "</table>\n",
       "</div>"
      ],
      "text/plain": [
       "              count      distance      duration  minute_price  \\\n",
       "count  11331.000000  11331.000000  11331.000000  11331.000000   \n",
       "mean       1.594564   4896.362611     29.186127      7.199894   \n",
       "std        0.831604   2911.516657     16.752464      0.979861   \n",
       "min        1.000000      2.570000      1.000000      6.000000   \n",
       "25%        1.000000   2972.205000     17.000000      6.000000   \n",
       "50%        1.000000   3988.720000     24.000000      8.000000   \n",
       "75%        2.000000   6421.375000     38.000000      8.000000   \n",
       "max        7.000000  23429.490000    143.000000      8.000000   \n",
       "\n",
       "       start_ride_price  subscription_fee        income  \n",
       "count      11331.000000      11331.000000  11331.000000  \n",
       "mean          29.997352         79.610537    342.303504  \n",
       "std           24.496519         97.496144    153.875346  \n",
       "min            0.000000          0.000000     58.000000  \n",
       "25%            0.000000          0.000000    234.000000  \n",
       "50%           50.000000          0.000000    319.000000  \n",
       "75%           50.000000        199.000000    415.000000  \n",
       "max           50.000000        199.000000   1444.000000  "
      ]
     },
     "execution_count": 36,
     "metadata": {},
     "output_type": "execute_result"
    }
   ],
   "source": [
    "users_rides_income.describe()"
   ]
  },
  {
   "cell_type": "markdown",
   "metadata": {},
   "source": [
    "**Создадим датафрейм с агрегированными данными методом `pivot_table` о поездках на основе датафрейма `users_rides_income`.**"
   ]
  },
  {
   "cell_type": "code",
   "execution_count": 37,
   "metadata": {},
   "outputs": [],
   "source": [
    "ultra_free = users_rides_income.pivot_table(index=('subscription_type', 'month'),\n",
    "                               values='income',\n",
    "                               aggfunc=['mean', 'sum'])\n",
    "ultra_free.columns = ['mean_income', 'sum_income']"
   ]
  },
  {
   "cell_type": "markdown",
   "metadata": {},
   "source": [
    "**Создадим два датафрейма `ultra_income`, `free_income` c данными о пользователях с подпиской и без, на основе датафрейма  `users_rides_income` методом `query` для подсчёта помесячной выручки по разным категориям.**."
   ]
  },
  {
   "cell_type": "code",
   "execution_count": 38,
   "metadata": {},
   "outputs": [],
   "source": [
    "ultra_income = ultra_free.query('subscription_type == \"ultra\"')\n",
    "free_income = ultra_free.query('subscription_type == \"free\"')"
   ]
  },
  {
   "cell_type": "code",
   "execution_count": 39,
   "metadata": {},
   "outputs": [
    {
     "name": "stdout",
     "output_type": "stream",
     "text": [
      "За период с 2021-01-01 00:00:00 по 2021-12-30 00:00:00\n",
      "Общая выручка сервиса GoFast за 2021: 3878641.0 рублей\n",
      "Выручка сервиса GoFast за 2021 по категории \"ultra\": 1644537.0 рублей\n",
      "Выручка сервиса GoFast за 2021 по категории \"free\": 2234104.0 рублей\n"
     ]
    }
   ],
   "source": [
    "print('За период с', users_rides['date'].min(), 'по', users_rides['date'].max())\n",
    "print('Общая выручка сервиса GoFast за 2021:', users_rides_income['income'].sum(), 'рублей')\n",
    "print('Выручка сервиса GoFast за 2021 по категории \"ultra\":', ultra_income['sum_income'].sum(), 'рублей')\n",
    "print('Выручка сервиса GoFast за 2021 по категории \"free\":', free_income['sum_income'].sum(), 'рублей')"
   ]
  },
  {
   "cell_type": "markdown",
   "metadata": {},
   "source": [
    "<div class=\"alert alert-info\"> <b>Вывод:</b>\n",
    "    \n",
    "Подсчет выручки:\n",
    "    \n",
    "- Общая выручка сервиса GoFast за 2021 составила: 3878641 рублей. \n",
    "- Выручка сервиса GoFast за 2021 по категории \"ultra\" составила: 1644537 рублей. \n",
    "- Выручка сервиса GoFast за 2021 по категории \"free\" составила: 2234104 рублей. \n",
    "</div>  "
   ]
  },
  {
   "cell_type": "markdown",
   "metadata": {},
   "source": [
    "## Проверка гипотез"
   ]
  },
  {
   "cell_type": "markdown",
   "metadata": {},
   "source": [
    "### Проверим гипотезу , тратят ли пользователи с подпиской больше времени на поездки, чем пользователи без подписки."
   ]
  },
  {
   "cell_type": "markdown",
   "metadata": {},
   "source": [
    "**Определим гипотезы:**\n",
    "\n",
    "**Нулевая гипотеза $H_{0}$ - пользователи категорий `ultra` и `free` тратят одинаковое время н\n",
    "а поездки**\n",
    "\n",
    "**Альтернативная гипотеза (правосторонняя) $H_{1}$ - пользователи категории `ultra` тратят на поездки больше времени, чем пользователи категории `free`.**\n",
    "\n",
    "**Используем метод `st.ttest_ind`.**"
   ]
  },
  {
   "cell_type": "code",
   "execution_count": 40,
   "metadata": {},
   "outputs": [
    {
     "name": "stdout",
     "output_type": "stream",
     "text": [
      "2.4959453720736625e-34\n",
      "Отвергаем нулевую гипотезу\n"
     ]
    }
   ],
   "source": [
    "alpha = 0.05\n",
    "\n",
    "results = st.ttest_ind(\n",
    "    users_rides_ultra['duration'], \n",
    "    users_rides_free['duration'], \n",
    "    equal_var=True, \n",
    "    alternative='greater')\n",
    "print(results.pvalue)\n",
    "\n",
    "if results.pvalue < alpha:\n",
    "    print('Отвергаем нулевую гипотезу')\n",
    "else:\n",
    "    print('Не получилось отвергнуть нулевую гипотезу')"
   ]
  },
  {
   "cell_type": "markdown",
   "metadata": {},
   "source": [
    "**Отвергаем нулевую гипотезу $H_{0}$ - это говорит о том, что пользователи с подпиской тратят на поездки больше времени, чем пользователи без подписки при коэффициенте статистической значимости 5%.**"
   ]
  },
  {
   "cell_type": "markdown",
   "metadata": {},
   "source": [
    "### Проверим гипотезу , что среднее расстояние, которое проезжают пользователи с подпиской за одну поездку, не превышает  3130 метров (расстояние одной поездки оптимальное с точки зрения износа самоката.)."
   ]
  },
  {
   "cell_type": "markdown",
   "metadata": {},
   "source": [
    "**Определим гипотезы:**\n",
    "\n",
    "**Нулевая гипотеза $H_{0}$ - среднее расстояние поездки пользователей категорий `ultra` равно 3130 метрам**\n",
    "\n",
    "**Альтернативная гипотеза (правосторонняя) $H_{1}$ - среднее расстояние поездки пользователей категорий `ultra` превышает 3130 метров.**\n",
    "\n",
    "**Используем метод `st.ttest_1samp`.**"
   ]
  },
  {
   "cell_type": "code",
   "execution_count": 41,
   "metadata": {},
   "outputs": [
    {
     "name": "stdout",
     "output_type": "stream",
     "text": [
      "p-значение: 0.9195362605842414\n",
      "Не получилось отвергнуть нулевую гипотезу\n"
     ]
    }
   ],
   "source": [
    "distance = 3130 \n",
    "\n",
    "alpha = 0.05 \n",
    "\n",
    "results = st.ttest_1samp(\n",
    "    users_rides_ultra['distance'],\n",
    "    distance,\n",
    "    alternative='greater')\n",
    "\n",
    "print('p-значение:', results.pvalue)\n",
    "\n",
    "if results.pvalue < alpha:\n",
    "    print('Отвергаем нулевую гипотезу')\n",
    "else:\n",
    "    print('Не получилось отвергнуть нулевую гипотезу')"
   ]
  },
  {
   "cell_type": "markdown",
   "metadata": {},
   "source": [
    "**Не получилось отвергнуть $H_{0}$ значит пользователи с подпиской в среднем проезжают расстояние оптимальное с точки зрения износа самокатов равное 3130 метров при коэффициенте статистической значимости 5%.**"
   ]
  },
  {
   "cell_type": "markdown",
   "metadata": {},
   "source": [
    "### Проверим гипотезу , будет ли помесячная выручка от пользователей с подпиской по месяцам выше, чем выручка от пользователей без подписки."
   ]
  },
  {
   "cell_type": "markdown",
   "metadata": {},
   "source": [
    "**Определим гипотезы:**\n",
    "\n",
    "**Нулевая гипотеза $H_{0}$ - помесячная выручка пользователей категорий `ultra` и `free` одинаковая.**\n",
    "\n",
    "**Альтернативная гипотеза (правосторонняя) $H_{1}$ - помесячная выручка пользователей категории `ultra` выше, чем у пользователей категории `free`.**\n",
    "\n",
    "**Используем метод `st.ttest_ind`.**"
   ]
  },
  {
   "cell_type": "code",
   "execution_count": 42,
   "metadata": {},
   "outputs": [
    {
     "name": "stdout",
     "output_type": "stream",
     "text": [
      "1.8850394384715216e-31\n",
      "Отвергаем нулевую гипотезу\n"
     ]
    }
   ],
   "source": [
    "alpha = 0.05\n",
    "\n",
    "results = st.ttest_ind(\n",
    "    users_rides_income.\\\n",
    "    loc[users_rides_income['subscription_fee'] > 0, 'income'],\n",
    "    users_rides_income.\\\n",
    "    loc[users_rides_income['subscription_fee'] == 0, 'income'],\n",
    "    equal_var=True, \n",
    "    alternative='greater')\n",
    "print(results.pvalue)\n",
    "\n",
    "if results.pvalue < alpha:\n",
    "    print('Отвергаем нулевую гипотезу')\n",
    "else:\n",
    "    print('Не получилось отвергнуть нулевую гипотезу')"
   ]
  },
  {
   "cell_type": "markdown",
   "metadata": {},
   "source": [
    "**Отвергаем нулевую гипотезу $H_{0}$ и с уверенностью говорим о том, что помесячная выручка пользователей с подпиской выше, чем у пользователей без подписки при коэффициенте статистической значимости 5%.**"
   ]
  },
  {
   "cell_type": "markdown",
   "metadata": {},
   "source": [
    "### Представьте такую ситуацию: техническая команда сервиса обновила сервера, с которыми взаимодействует мобильное приложение. Она надеется, что из-за этого количество обращений в техподдержку значимо снизилось. Некоторый файл содержит для каждого пользователя данные о количестве обращений до обновления и после него. Какой тест вам понадобился бы для проверки этой гипотезы?"
   ]
  },
  {
   "cell_type": "markdown",
   "metadata": {},
   "source": [
    "**Выборки в этом случае будут зависимыми, иначе — парными. Парная выборка в нашем случае потому, что переменную (количество обращений в техподдержку)  измеряли дважды (до обновления и после него) для одного и того же объекта.\n",
    "Чтобы проверить гипотезу о равенстве среднего генеральной совокупности для зависимых (парных) выборок в Python, применим метод `scipy.stats.ttest_rel`.**\n",
    "\n",
    "**Определим гипотезы:**\n",
    "\n",
    "**Нулевая гипотеза $H_{0}$ - количество обращений до обновления равно количеству обращений после обновления.**\n",
    "\n",
    "**Альтернативная гипотеза (левосторонняя) $H_{1}$ - количество обращений после обновления  уменьшилось, по сравнению с количеством обращений до обновления.**\n",
    "\n",
    "**Соответственно, если нулевая гипотеза будет отвергнута, то количество обращений в техподдержку снизилось.**"
   ]
  },
  {
   "cell_type": "markdown",
   "metadata": {},
   "source": [
    "<div class=\"alert alert-info\"> <b>Вывод:</b>\n",
    "    \n",
    "Проверка гипотез:\n",
    "    \n",
    "- Отвергаем нулевую гипотезу  $H_{0}$ это говорит о том, что пользователи с подпиской тратят на поездки больше времени, чем пользователи без подписки при коэффициенте статистической значимости 5%. \n",
    "- Отвергнуть $H_{0}$ не получилось, значит пользователи с подпиской в среднем проезжают расстояние оптимальное с точки зрения износа самокатов равное 3130 метров при коэффициенте статистической значимости 5%. \n",
    "- Отвергаем нулевую гипотезу $H_{0}$ и с уверенностью говорим о том, что помесячная выручка пользователей с подпиской выше, чем у пользователей без подписки при коэффициенте статистической значимости 5%. \n",
    "- Чтобы проверить гипотезу о равенстве среднего генеральной совокупности для зависимых (парных) выборок в Python, применим метод scipy.stats.ttest_rel.\n",
    "</div>  "
   ]
  },
  {
   "cell_type": "markdown",
   "metadata": {},
   "source": [
    "## Итоговый вывод"
   ]
  },
  {
   "cell_type": "markdown",
   "metadata": {},
   "source": [
    "<div class=\"alert alert-info\">\n",
    "    Было проведено исследование данных пользователей мобильного приложения сервиса самокатов GoFast за 2021 год.\n",
    "    \n",
    "**Изучили общую информацию о данных**\n",
    "- Первый датафрейм `users_go`: 1565 записей, пропущенных значений нет, явных дубликатов 31, корректный тип данных. \n",
    "- Второй датафрейм `rides_go`: 18068 записей, пропущенных значений нет, явные дубликаты отсутствуют, есть некорректный тип данных. \n",
    "- Третий датафрейм `subs_go`: 2 записи, пропущенных значений нет, явные дубликаты отсутствуют, корректный тип данных. \n",
    "- Данные признаны полными и достаточными для исследования.\n",
    "    \n",
    "**В процессе предобработки данных было сделано следующее:**\n",
    "\n",
    "Датафрейм `users_go`:    \n",
    "- удалили явные дубликаты.\n",
    "    \n",
    "Датафрейм `rides_go`:\n",
    "- округлили данные в столбце `distance` до 2-х знаков до запятой;\n",
    "- значения из столбца `duration` округлили с помощью «потолка»;\n",
    "- поменяли тип данных в столбце `date`;\n",
    "- создали столбец `month` с номером месяца на основе столбца `date`;\n",
    "- создали столбец `average_speed` со средней скоростью на основе столбцов `distance`, `duration`.\n",
    "    \n",
    "Датафрейм `subs_go`:\n",
    "- оставили всё без изменений. \n",
    "    \n",
    "**Провели исследовательский анализ**\n",
    "    \n",
    "***Изучили ряд параметров и построли диаграммы и гистограммы для каждого из этих параметров:***\n",
    "- Наибольшее количество пользователей сервиса GoFast приходится на южные города, что в общем-то и понятно ведь для использования самокатов природные условия наиболее благоприятные. На первом месте находится Пятигорск - 219 пользователей, а в топ-5 четыре южных города, единственная неожиданность второе место уральского города Екатеринбург. \n",
    "- Количество пользователей без подписки составляет 54,43%, а пользователей с подпиской 45.57%. Отделу маркетинга сервиса GoFast есть куда стремиться. \n",
    "- Распределение пользователей сервиса GoFast подчиняется нормальному распределению. Среднее 25 и медиана 24,9 практически совпадают. Как мы видим основной потребитель этой услуги молодые люди в возрасте 22-27 лет. \n",
    "- Среднее значение расстояния поездок 3070.65 м и медиана 3133.61 м отличаются, так как видно из диаграммы размаха есть выбросы за минимумом и за максимумом. В диапозоне range(1500, 5600) график будет подчиняться нормальному распределению. Выбросы в диапазоне от 0 до 1000 м возможно объясняются поломкой самоката, либо изменением планов клиента.\n",
    "- Среднее значение продолжительности поездок 18.3 мин и медиана 18 мин отличаются (в относительном процентном отношении примерно также, как и количество поездок 1,66% и 2,05% соответственно) , так как видно из диаграммы размаха есть выбросы за минимумом и за максимумом. В диапозоне range(1, 35) график будет подчиняться нормальному распределению. Выбросы в диапазоне до 1 мин возможно объясняются поломкой самоката, либо изменением планов клиента.\n",
    "- Среднее значение средней скорости 9.97 км/ч и медиана 11.84 км/ч , так как наблюдаются на  диаграмме размаха аномальные значения за максимумом. Аномальные значения средней скорости варьируюся от 230 до свыше 400 км/ч (нереальные показатели), что является скорее всего явным программным сбоем. Вопрос к технической службе сервиса GoFast.\n",
    "\n",
    "***После объединения датафреймов провели анализ данных в разрезе подписки:***\n",
    "   \n",
    "- На основании числового описания данных количества поездок по продолжительности методом `describe` и  их визуализации, можно сказать следующее у клиентов категорий  `ultra` и `free` соотношение показателей среднего расстояния  3115.44 метров и 3045.49 метров, медиана 3148.64 метров и 3114.65 метров соответственно. То есть в среднем пользователи с подпиской проезжают большее расстояние, но в тоже время максимально большие расстояния есть у пользователей без подписки. Разброс данных у пользователей категории `ultra` меньше, чем у пользователей категории `free` (стандартное отклонение `ultra` 836.89 против 1246.17 у `free`)\n",
    "- На основании числового описания данных количества поездок на определенное расстояние методом `describe` и  их визуализации, можно сказать следующее у клиентов категорий  `ultra` и `free` соотношение показателей среднего расстояния  19.03 минут и 17.89 минут, медиана 19 минут и 18 минут соответственно. В среднем пользователи с подпиской тратят на поездки больше времени. Разброс данных у пользователей категории `ultra` меньше, чем у пользователей категории `free` (стандартное отклонение `ultra` 5.57 против 6.33 у `free`).\n",
    "В целом можно сказать, что подписка положительно влияет на увеличение среднего расстояния и продолжительность поездки.\n",
    "    \n",
    "***Посчитали объем выручки сервиса GoFast по пердоставленным данным за 2021 год.***\n",
    "    \n",
    "- Общая выручка сервиса GoFast за 2021 составила: 3878641 рублей. \n",
    "- Выручка сервиса GoFast за 2021 по категории \"ultra\" составила: 1644537 рублей. \n",
    "- Выручка сервиса GoFast за 2021 по категории \"free\" составила: 2234104 рублей.\n",
    "    \n",
    "**Провели статистический анализ**\n",
    "    \n",
    "***Проверили некоторые гипотезы.***\n",
    "    \n",
    "- Отвергаем нулевую гипотезу  $H_{0}$ это говорит о том, что пользователи с подпиской тратят на поездки больше времени, чем пользователи без подписки при коэффициенте статистической значимости 5%. \n",
    "- Отвергнуть $H_{0}$ не получилось, значит пользователи с подпиской в среднем проезжают расстояние оптимальное с точки зрения износа самокатов равное 3130 метров при коэффициенте статистической значимости 5%. \n",
    "- Отвергаем нулевую гипотезу $H_{0}$ и с уверенностью говорим о том, что помесячная выручка пользователей с подпиской выше, чем у пользователей без подписки при коэффициенте статистической значимости 5%. \n",
    "- Чтобы проверить гипотезу о равенстве среднего генеральной совокупности для зависимых (парных) выборок в Python, применим метод scipy.stats.ttest_rel."
   ]
  },
  {
   "cell_type": "markdown",
   "metadata": {},
   "source": [
    "## Распределения"
   ]
  },
  {
   "cell_type": "markdown",
   "metadata": {},
   "source": [
    "### Отделу маркетинга GoFast поставили задачу: нужно провести акцию с раздачей промокодов на один бесплатный месяц подписки, в рамках которой как минимум 100 существующих клиентов должны продлить эту подписку. То есть по завершении периода действия подписки пользователь может либо отказаться от неё, либо продлить, совершив соответствующий платёж. Эта акция уже проводилась ранее и по итогу выяснилось, что после бесплатного пробного периода подписку продлевают 10 % пользователей. Выясните, какое минимальное количество промокодов нужно разослать, чтобы вероятность не выполнить план была примерно 5 %. Подберите параметры распределения, описывающего эту ситуацию, постройте график распределения и сформулируйте ответ на вопрос о количестве промокодов."
   ]
  },
  {
   "cell_type": "code",
   "execution_count": 43,
   "metadata": {},
   "outputs": [
    {
     "name": "stdout",
     "output_type": "stream",
     "text": [
      "При раздаче промокодов в количестве: 1161 штук вероятность, не выполнить план меньше: 5.0%\n"
     ]
    },
    {
     "data": {
      "image/png": "[encoded data removed]",
      "text/plain": [
       "<Figure size 640x480 with 1 Axes>"
      ]
     },
     "metadata": {},
     "output_type": "display_data"
    }
   ],
   "source": [
    "n = 1000 # количество экспериментов\n",
    "p = 0.1 # вероятность успеха\n",
    "k = 99 # количество клиентов, при котором план не выполнен\n",
    "binom_cdf = 0.05 # вероятность неуспеха\n",
    " \n",
    "while binom_cdf < binom.cdf(k, n, p): # вычисляем количество промокодов\n",
    "    n += 1\n",
    "print('При раздаче промокодов в количестве:',n,\n",
    "      'штук вероятность, не выполнить план меньше: {:.1%}'.format(binom.cdf(k, n, p)))\n",
    "\n",
    "# зададим мат.ожидание и ст.отклонение нормального распределения равными\n",
    "# мат.ожиданию и ст.отклонению биномиального распределения\n",
    "mu = n * p\n",
    "sigma = sqrt(n * p * (1 - p))\n",
    "\n",
    "# границы промежутка, в котором будем строить аппроксимацию -\n",
    "# от mu минус 4 ст.отклонения бином.распределения\n",
    "# до mu плюс 4 ст.отклонения бином.распределения\n",
    "# (там, где вероятности значений почти не равны нулю)\n",
    "left = int(mu - 4 * sigma)\n",
    "right = int(mu + 4 * sigma)\n",
    " \n",
    "# зададим набор значений биномиальной величины на выбранном промежутке:\n",
    "# все неотрицательные целые числа от left до right\n",
    "x_ticks = list(range(max(0, left), right)) \n",
    " \n",
    "plt.plot(x_ticks, st.norm.pdf(x_ticks, mu, sigma), 'y-',\n",
    "label='аппроксимация биномиального распределения нормальным')\n",
    "plt.axvline(x=k, color='red', linestyle ='--', label='k=99')\n",
    "plt.axvline(x=mu, color='green', linestyle ='--',\n",
    "label='математическое ожидание нормального распределения')\n",
    "plt.legend(fontsize=12, bbox_to_anchor=(1,1), loc='upper left')\n",
    "plt.show()"
   ]
  },
  {
   "cell_type": "markdown",
   "metadata": {},
   "source": [
    "<div class=\"alert alert-info\"> <b>Вывод:</b>\n",
    "\n",
    "- Необходимо разослать 1161 промокод на продление подписки, чтобы 100 человек продлили подписку (вероятность успеха 10%), при этом вероятность неуспеха составила не более 5%. \n",
    "</div>  "
   ]
  },
  {
   "cell_type": "markdown",
   "metadata": {},
   "source": [
    "### Отдел маркетинга рассылает клиентам push-уведомления в мобильном приложении. Клиенты могут открыть его или не открывать. Известно, что уведомления открывают около 40 % получивших клиентов. Отдел планирует разослать 1 млн уведомлений. С помощью аппроксимации постройте примерный график распределения и оцените вероятность того, что уведомление откроют не более 399,5 тыс. пользователей."
   ]
  },
  {
   "cell_type": "code",
   "execution_count": 44,
   "metadata": {},
   "outputs": [
    {
     "name": "stdout",
     "output_type": "stream",
     "text": [
      "Вероятность открытия сообщений: 15.37%\n"
     ]
    },
    {
     "data": {
      "image/png": "[encoded data removed]",
      "text/plain": [
       "<Figure size 640x480 with 1 Axes>"
      ]
     },
     "metadata": {},
     "output_type": "display_data"
    }
   ],
   "source": [
    "# параметры биномиального распределения\n",
    "n = 1000000 # количество экспериментов\n",
    "p = 0.4 # вероятность успеха\n",
    "k = 399500 # заданное значение, для которого расчитывается вероятность\n",
    "\n",
    "# зададим мат.ожидание и ст.отклонение нормального распределения равными\n",
    "# мат.ожиданию и ст.отклонению биномиального распределения\n",
    "mu = n * p\n",
    "sigma = sqrt(n * p * (1 - p))\n",
    " \n",
    "# задаём нормальное распределение\n",
    "distr = st.norm(mu, sigma) \n",
    " \n",
    "# считаем вероятность хвоста слева от 399.5 тысяч\n",
    "result = distr.cdf(k)\n",
    "print('Вероятность открытия сообщений: {:.2%}'.format(result))\n",
    "# границы промежутка, в котором будем строить аппроксимацию -\n",
    "# от mu минус 4 ст.отклонения бином.распределения\n",
    "# до mu плюс 4 ст.отклонения бином.распределения\n",
    "left = int(mu - 4 * sigma)\n",
    "right = int(mu + 4 * sigma)\n",
    " \n",
    "# зададим набор значений биномиальной величины на выбранном промежутке:\n",
    "# все неотрицательные целые числа от left до right\n",
    "x = list(range(max(0, left), right)) \n",
    "plt.plot(x, st.norm.pdf(x, mu, sigma), 'b-', label='аппроксимация биномиального распределения нормальным')\n",
    "plt.xticks(rotation=45)\n",
    "plt.axvline(x=k, color='red', linestyle ='--', label='k=399 500')\n",
    "plt.axvline(x=mu, color='green', linestyle ='--', label='математическое ожидание нормального распределения')\n",
    "plt.legend(fontsize=12, bbox_to_anchor=(1,1), loc='upper left')\n",
    "plt.show()"
   ]
  },
  {
   "cell_type": "markdown",
   "metadata": {},
   "source": [
    "<div class=\"alert alert-info\"> <b>Вывод:</b>\n",
    "\n",
    "- При рассылке одного миллиона уведомлений (вероятность успеха(прочтения) 40%), вероятность того, что уведомление откроют не более 399,5 тыс. пользователей составит 15,37%. \n",
    "</div>  "
   ]
  },
  {
   "cell_type": "code",
   "execution_count": null,
   "metadata": {},
   "outputs": [],
   "source": []
  }
 ],
 "metadata": {
  "ExecuteTimeLog": [
   {
    "duration": 801,
    "start_time": "2023-04-13T13:35:34.570Z"
   },
   {
    "duration": 280,
    "start_time": "2023-04-13T13:44:27.053Z"
   },
   {
    "duration": 110,
    "start_time": "2023-04-13T13:44:40.261Z"
   },
   {
    "duration": 91,
    "start_time": "2023-04-13T13:44:57.152Z"
   },
   {
    "duration": 585,
    "start_time": "2023-04-13T13:46:29.038Z"
   },
   {
    "duration": 706,
    "start_time": "2023-04-13T13:47:50.922Z"
   },
   {
    "duration": 2432,
    "start_time": "2023-04-13T13:51:03.796Z"
   },
   {
    "duration": 2296,
    "start_time": "2023-04-13T13:51:29.182Z"
   },
   {
    "duration": 2032,
    "start_time": "2023-04-13T13:53:39.072Z"
   },
   {
    "duration": 1916,
    "start_time": "2023-04-13T13:54:03.253Z"
   },
   {
    "duration": 2197,
    "start_time": "2023-04-13T14:00:23.802Z"
   },
   {
    "duration": 2312,
    "start_time": "2023-04-13T14:01:11.903Z"
   },
   {
    "duration": 15,
    "start_time": "2023-04-13T14:02:08.367Z"
   },
   {
    "duration": 15,
    "start_time": "2023-04-13T14:05:36.660Z"
   },
   {
    "duration": 23,
    "start_time": "2023-04-13T14:06:14.869Z"
   },
   {
    "duration": 18,
    "start_time": "2023-04-13T14:06:33.707Z"
   },
   {
    "duration": 346,
    "start_time": "2023-04-13T14:07:24.901Z"
   },
   {
    "duration": 11,
    "start_time": "2023-04-13T14:07:30.868Z"
   },
   {
    "duration": 11,
    "start_time": "2023-04-13T14:07:51.137Z"
   },
   {
    "duration": 10,
    "start_time": "2023-04-13T14:08:16.301Z"
   },
   {
    "duration": 26,
    "start_time": "2023-04-13T14:08:37.405Z"
   },
   {
    "duration": 20,
    "start_time": "2023-04-13T14:09:23.294Z"
   },
   {
    "duration": 19,
    "start_time": "2023-04-13T14:09:59.414Z"
   },
   {
    "duration": 10,
    "start_time": "2023-04-13T14:11:12.864Z"
   },
   {
    "duration": 10,
    "start_time": "2023-04-13T14:13:17.260Z"
   },
   {
    "duration": 3046,
    "start_time": "2023-05-05T08:01:25.170Z"
   },
   {
    "duration": 14,
    "start_time": "2023-05-05T08:39:44.674Z"
   },
   {
    "duration": 29,
    "start_time": "2023-05-05T08:40:25.381Z"
   },
   {
    "duration": 37,
    "start_time": "2023-05-05T08:45:58.336Z"
   },
   {
    "duration": 19,
    "start_time": "2023-05-05T09:04:04.211Z"
   },
   {
    "duration": 19,
    "start_time": "2023-05-05T09:05:49.651Z"
   },
   {
    "duration": 29,
    "start_time": "2023-05-05T09:06:19.970Z"
   },
   {
    "duration": 20,
    "start_time": "2023-05-05T09:07:37.019Z"
   },
   {
    "duration": 26,
    "start_time": "2023-05-05T09:07:51.852Z"
   },
   {
    "duration": 28,
    "start_time": "2023-05-05T09:09:04.068Z"
   },
   {
    "duration": 146,
    "start_time": "2023-05-05T09:11:12.326Z"
   },
   {
    "duration": 28,
    "start_time": "2023-05-05T09:11:37.352Z"
   },
   {
    "duration": 33,
    "start_time": "2023-05-05T09:24:24.691Z"
   },
   {
    "duration": 40,
    "start_time": "2023-05-05T09:24:34.419Z"
   },
   {
    "duration": 24,
    "start_time": "2023-05-05T09:41:38.426Z"
   },
   {
    "duration": 39,
    "start_time": "2023-05-05T09:49:03.730Z"
   },
   {
    "duration": 25,
    "start_time": "2023-05-05T09:54:26.383Z"
   },
   {
    "duration": 25,
    "start_time": "2023-05-05T09:56:25.625Z"
   },
   {
    "duration": 35,
    "start_time": "2023-05-05T09:56:35.041Z"
   },
   {
    "duration": 60,
    "start_time": "2023-05-05T10:11:55.671Z"
   },
   {
    "duration": 102,
    "start_time": "2023-05-05T10:12:38.720Z"
   },
   {
    "duration": 63,
    "start_time": "2023-05-05T10:17:57.510Z"
   },
   {
    "duration": 56,
    "start_time": "2023-05-05T10:18:18.878Z"
   },
   {
    "duration": 71,
    "start_time": "2023-05-05T10:22:20.803Z"
   },
   {
    "duration": 54,
    "start_time": "2023-05-05T10:23:31.220Z"
   },
   {
    "duration": 2047,
    "start_time": "2023-05-05T10:30:20.569Z"
   },
   {
    "duration": 132,
    "start_time": "2023-05-05T10:34:21.476Z"
   },
   {
    "duration": 114,
    "start_time": "2023-05-05T10:34:33.189Z"
   },
   {
    "duration": 179,
    "start_time": "2023-05-05T10:35:06.254Z"
   },
   {
    "duration": 136,
    "start_time": "2023-05-05T10:35:49.166Z"
   },
   {
    "duration": 683,
    "start_time": "2023-05-08T16:30:48.945Z"
   },
   {
    "duration": 8,
    "start_time": "2023-05-08T16:31:06.519Z"
   },
   {
    "duration": 2797,
    "start_time": "2023-05-08T16:35:44.498Z"
   },
   {
    "duration": 1948,
    "start_time": "2023-05-08T16:37:37.049Z"
   },
   {
    "duration": 47,
    "start_time": "2023-05-08T16:37:39.005Z"
   },
   {
    "duration": 71,
    "start_time": "2023-05-08T16:37:39.054Z"
   },
   {
    "duration": 137,
    "start_time": "2023-05-08T16:37:39.127Z"
   },
   {
    "duration": 150,
    "start_time": "2023-05-08T16:37:55.621Z"
   },
   {
    "duration": 130,
    "start_time": "2023-05-08T16:39:39.033Z"
   },
   {
    "duration": 129,
    "start_time": "2023-05-08T16:52:10.527Z"
   },
   {
    "duration": 198,
    "start_time": "2023-05-08T16:52:55.399Z"
   },
   {
    "duration": 210,
    "start_time": "2023-05-08T16:54:41.879Z"
   },
   {
    "duration": 233,
    "start_time": "2023-05-08T16:55:02.606Z"
   },
   {
    "duration": 190,
    "start_time": "2023-05-08T16:55:34.070Z"
   },
   {
    "duration": 261,
    "start_time": "2023-05-08T16:57:22.922Z"
   },
   {
    "duration": 154,
    "start_time": "2023-05-08T16:57:50.387Z"
   },
   {
    "duration": 114,
    "start_time": "2023-05-08T17:02:34.524Z"
   },
   {
    "duration": 137,
    "start_time": "2023-05-08T17:02:43.706Z"
   },
   {
    "duration": 124,
    "start_time": "2023-05-08T17:11:20.806Z"
   },
   {
    "duration": 135,
    "start_time": "2023-05-08T17:12:03.210Z"
   },
   {
    "duration": 130,
    "start_time": "2023-05-08T17:25:53.888Z"
   },
   {
    "duration": 135,
    "start_time": "2023-05-08T17:26:08.199Z"
   },
   {
    "duration": 136,
    "start_time": "2023-05-08T17:26:31.091Z"
   },
   {
    "duration": 161,
    "start_time": "2023-05-08T17:26:47.944Z"
   },
   {
    "duration": 220,
    "start_time": "2023-05-08T17:28:37.015Z"
   },
   {
    "duration": 75,
    "start_time": "2023-05-08T17:32:30.400Z"
   },
   {
    "duration": 136,
    "start_time": "2023-05-08T17:36:03.571Z"
   },
   {
    "duration": 207,
    "start_time": "2023-05-08T17:40:29.031Z"
   },
   {
    "duration": 252,
    "start_time": "2023-05-08T17:42:38.697Z"
   },
   {
    "duration": 171,
    "start_time": "2023-05-08T17:45:41.368Z"
   },
   {
    "duration": 188,
    "start_time": "2023-05-08T17:46:09.164Z"
   },
   {
    "duration": 10,
    "start_time": "2023-05-08T17:48:16.343Z"
   },
   {
    "duration": 0,
    "start_time": "2023-05-08T17:55:04.539Z"
   },
   {
    "duration": 1571,
    "start_time": "2023-05-08T17:55:11.896Z"
   },
   {
    "duration": 14,
    "start_time": "2023-05-08T17:55:56.773Z"
   },
   {
    "duration": 4,
    "start_time": "2023-05-08T17:56:17.905Z"
   },
   {
    "duration": 8,
    "start_time": "2023-05-08T17:56:28.340Z"
   },
   {
    "duration": 4,
    "start_time": "2023-05-08T17:57:24.403Z"
   },
   {
    "duration": 6,
    "start_time": "2023-05-08T17:57:32.186Z"
   },
   {
    "duration": 6,
    "start_time": "2023-05-08T17:57:50.222Z"
   },
   {
    "duration": 3183,
    "start_time": "2023-05-14T13:03:13.929Z"
   },
   {
    "duration": 46,
    "start_time": "2023-05-14T13:03:17.114Z"
   },
   {
    "duration": 80,
    "start_time": "2023-05-14T13:03:17.162Z"
   },
   {
    "duration": 14,
    "start_time": "2023-05-14T13:03:17.244Z"
   },
   {
    "duration": 22,
    "start_time": "2023-05-14T13:03:17.260Z"
   },
   {
    "duration": 102,
    "start_time": "2023-05-14T13:35:59.956Z"
   },
   {
    "duration": 448,
    "start_time": "2023-05-14T13:36:10.580Z"
   },
   {
    "duration": 445,
    "start_time": "2023-05-14T13:36:58.265Z"
   },
   {
    "duration": 573,
    "start_time": "2023-05-14T13:38:04.784Z"
   },
   {
    "duration": 409,
    "start_time": "2023-05-14T13:38:25.577Z"
   },
   {
    "duration": 462,
    "start_time": "2023-05-14T13:38:43.734Z"
   },
   {
    "duration": 735,
    "start_time": "2023-05-14T13:40:00.625Z"
   },
   {
    "duration": 165,
    "start_time": "2023-05-14T13:49:50.931Z"
   },
   {
    "duration": 181,
    "start_time": "2023-05-14T13:53:19.649Z"
   },
   {
    "duration": 193,
    "start_time": "2023-05-14T13:56:22.125Z"
   },
   {
    "duration": 206,
    "start_time": "2023-05-14T13:56:33.024Z"
   },
   {
    "duration": 205,
    "start_time": "2023-05-14T13:58:34.260Z"
   },
   {
    "duration": 186,
    "start_time": "2023-05-14T13:58:45.013Z"
   },
   {
    "duration": 81,
    "start_time": "2023-05-14T13:59:41.225Z"
   },
   {
    "duration": 184,
    "start_time": "2023-05-14T13:59:47.133Z"
   },
   {
    "duration": 246,
    "start_time": "2023-05-14T13:59:54.141Z"
   },
   {
    "duration": 156,
    "start_time": "2023-05-14T14:01:49.431Z"
   },
   {
    "duration": 191,
    "start_time": "2023-05-14T14:01:57.071Z"
   },
   {
    "duration": 208,
    "start_time": "2023-05-14T14:03:47.740Z"
   },
   {
    "duration": 176,
    "start_time": "2023-05-14T14:04:05.128Z"
   },
   {
    "duration": 289,
    "start_time": "2023-05-14T14:07:37.773Z"
   },
   {
    "duration": 30,
    "start_time": "2023-05-14T14:09:44.620Z"
   },
   {
    "duration": 208,
    "start_time": "2023-05-14T14:10:38.977Z"
   },
   {
    "duration": 15,
    "start_time": "2023-05-14T14:13:35.719Z"
   },
   {
    "duration": 32,
    "start_time": "2023-05-14T14:14:17.285Z"
   },
   {
    "duration": 10,
    "start_time": "2023-05-14T14:24:39.182Z"
   },
   {
    "duration": 7,
    "start_time": "2023-05-14T14:24:52.018Z"
   },
   {
    "duration": 84,
    "start_time": "2023-05-14T14:25:23.391Z"
   },
   {
    "duration": 11,
    "start_time": "2023-05-14T14:25:29.566Z"
   },
   {
    "duration": 7,
    "start_time": "2023-05-14T14:25:49.431Z"
   },
   {
    "duration": 11,
    "start_time": "2023-05-14T14:26:26.438Z"
   },
   {
    "duration": 17,
    "start_time": "2023-05-14T14:27:10.745Z"
   },
   {
    "duration": 209,
    "start_time": "2023-05-14T14:28:35.497Z"
   },
   {
    "duration": 21,
    "start_time": "2023-05-14T14:32:42.331Z"
   },
   {
    "duration": 23,
    "start_time": "2023-05-14T14:34:26.881Z"
   },
   {
    "duration": 681,
    "start_time": "2023-05-14T14:36:16.103Z"
   },
   {
    "duration": 525,
    "start_time": "2023-05-14T14:36:50.891Z"
   },
   {
    "duration": 2900,
    "start_time": "2023-05-14T14:37:17.169Z"
   },
   {
    "duration": 64,
    "start_time": "2023-05-14T14:37:20.072Z"
   },
   {
    "duration": 88,
    "start_time": "2023-05-14T14:37:20.147Z"
   },
   {
    "duration": 12,
    "start_time": "2023-05-14T14:37:20.246Z"
   },
   {
    "duration": 33,
    "start_time": "2023-05-14T14:37:20.263Z"
   },
   {
    "duration": 517,
    "start_time": "2023-05-14T14:37:20.298Z"
   },
   {
    "duration": 195,
    "start_time": "2023-05-14T14:37:20.817Z"
   },
   {
    "duration": 316,
    "start_time": "2023-05-14T14:37:21.014Z"
   },
   {
    "duration": 190,
    "start_time": "2023-05-14T14:37:21.332Z"
   },
   {
    "duration": 230,
    "start_time": "2023-05-14T14:37:21.524Z"
   },
   {
    "duration": 188,
    "start_time": "2023-05-14T14:37:21.757Z"
   },
   {
    "duration": 195,
    "start_time": "2023-05-14T14:37:21.956Z"
   },
   {
    "duration": 184,
    "start_time": "2023-05-14T14:37:22.158Z"
   },
   {
    "duration": 27,
    "start_time": "2023-05-14T14:37:22.348Z"
   },
   {
    "duration": 340,
    "start_time": "2023-05-14T14:37:22.381Z"
   },
   {
    "duration": 19,
    "start_time": "2023-05-14T14:37:22.723Z"
   },
   {
    "duration": 627,
    "start_time": "2023-05-14T15:01:49.438Z"
   },
   {
    "duration": 479,
    "start_time": "2023-05-14T15:04:37.651Z"
   },
   {
    "duration": 506,
    "start_time": "2023-05-14T15:05:30.223Z"
   },
   {
    "duration": 215,
    "start_time": "2023-05-14T15:07:45.591Z"
   },
   {
    "duration": 166,
    "start_time": "2023-05-14T15:12:09.055Z"
   },
   {
    "duration": 127,
    "start_time": "2023-05-14T15:12:18.156Z"
   },
   {
    "duration": 246,
    "start_time": "2023-05-14T15:17:29.193Z"
   },
   {
    "duration": 197,
    "start_time": "2023-05-14T15:17:39.134Z"
   },
   {
    "duration": 142,
    "start_time": "2023-05-14T15:27:52.815Z"
   },
   {
    "duration": 5,
    "start_time": "2023-05-14T15:33:01.642Z"
   },
   {
    "duration": 4,
    "start_time": "2023-05-14T15:33:21.487Z"
   },
   {
    "duration": 6,
    "start_time": "2023-05-14T15:34:28.623Z"
   },
   {
    "duration": 6,
    "start_time": "2023-05-14T15:34:37.768Z"
   },
   {
    "duration": 176,
    "start_time": "2023-05-14T15:42:16.522Z"
   },
   {
    "duration": 247,
    "start_time": "2023-05-14T15:43:12.336Z"
   },
   {
    "duration": 231,
    "start_time": "2023-05-14T15:45:57.995Z"
   },
   {
    "duration": 1243,
    "start_time": "2023-05-14T15:47:43.461Z"
   },
   {
    "duration": 209,
    "start_time": "2023-05-14T15:47:56.237Z"
   },
   {
    "duration": 54,
    "start_time": "2023-05-14T15:49:43.752Z"
   },
   {
    "duration": 8,
    "start_time": "2023-05-14T15:50:03.827Z"
   },
   {
    "duration": 3344,
    "start_time": "2023-05-16T17:44:03.815Z"
   },
   {
    "duration": 61,
    "start_time": "2023-05-16T17:44:07.162Z"
   },
   {
    "duration": 59,
    "start_time": "2023-05-16T17:44:07.225Z"
   },
   {
    "duration": 28,
    "start_time": "2023-05-16T17:44:07.286Z"
   },
   {
    "duration": 10,
    "start_time": "2023-05-16T17:44:07.316Z"
   },
   {
    "duration": 391,
    "start_time": "2023-05-16T17:44:07.328Z"
   },
   {
    "duration": 142,
    "start_time": "2023-05-16T17:44:07.720Z"
   },
   {
    "duration": 151,
    "start_time": "2023-05-16T17:44:07.863Z"
   },
   {
    "duration": 146,
    "start_time": "2023-05-16T17:44:08.016Z"
   },
   {
    "duration": 293,
    "start_time": "2023-05-16T17:44:08.164Z"
   },
   {
    "duration": 152,
    "start_time": "2023-05-16T17:44:08.459Z"
   },
   {
    "duration": 143,
    "start_time": "2023-05-16T17:44:08.613Z"
   },
   {
    "duration": 156,
    "start_time": "2023-05-16T17:44:08.757Z"
   },
   {
    "duration": 13,
    "start_time": "2023-05-16T17:44:08.914Z"
   },
   {
    "duration": 168,
    "start_time": "2023-05-16T17:44:08.929Z"
   },
   {
    "duration": 141,
    "start_time": "2023-05-16T17:44:09.100Z"
   },
   {
    "duration": 138,
    "start_time": "2023-05-16T17:44:09.243Z"
   },
   {
    "duration": 140,
    "start_time": "2023-05-16T17:44:09.383Z"
   },
   {
    "duration": 145,
    "start_time": "2023-05-16T17:44:09.525Z"
   },
   {
    "duration": 6,
    "start_time": "2023-05-16T17:44:09.672Z"
   },
   {
    "duration": 260,
    "start_time": "2023-05-16T17:44:09.680Z"
   },
   {
    "duration": 260,
    "start_time": "2023-05-16T17:44:09.942Z"
   },
   {
    "duration": 254,
    "start_time": "2023-05-16T17:44:10.216Z"
   },
   {
    "duration": 274,
    "start_time": "2023-05-16T17:47:06.621Z"
   },
   {
    "duration": 361,
    "start_time": "2023-05-16T17:49:46.991Z"
   },
   {
    "duration": 249,
    "start_time": "2023-05-16T17:50:05.821Z"
   },
   {
    "duration": 220,
    "start_time": "2023-05-16T18:59:35.920Z"
   },
   {
    "duration": 196,
    "start_time": "2023-05-16T19:00:06.986Z"
   },
   {
    "duration": 123,
    "start_time": "2023-05-16T19:00:32.538Z"
   },
   {
    "duration": 215,
    "start_time": "2023-05-16T19:01:15.731Z"
   },
   {
    "duration": 55,
    "start_time": "2023-05-16T19:01:59.357Z"
   },
   {
    "duration": 33,
    "start_time": "2023-05-16T19:03:52.789Z"
   },
   {
    "duration": 208,
    "start_time": "2023-05-16T19:04:14.231Z"
   },
   {
    "duration": 156,
    "start_time": "2023-05-16T19:04:35.126Z"
   },
   {
    "duration": 203,
    "start_time": "2023-05-16T19:04:43.489Z"
   },
   {
    "duration": 24,
    "start_time": "2023-05-16T19:05:04.536Z"
   },
   {
    "duration": 39,
    "start_time": "2023-05-16T19:05:19.997Z"
   },
   {
    "duration": 227,
    "start_time": "2023-05-16T19:06:08.323Z"
   },
   {
    "duration": 25,
    "start_time": "2023-05-16T19:18:17.912Z"
   },
   {
    "duration": 53,
    "start_time": "2023-05-16T19:19:58.776Z"
   },
   {
    "duration": 159,
    "start_time": "2023-05-16T19:23:42.644Z"
   },
   {
    "duration": 201,
    "start_time": "2023-05-16T19:27:33.527Z"
   },
   {
    "duration": 1454,
    "start_time": "2023-05-16T19:28:49.135Z"
   },
   {
    "duration": 1676,
    "start_time": "2023-05-16T19:28:59.894Z"
   },
   {
    "duration": 2936,
    "start_time": "2023-05-17T17:48:33.521Z"
   },
   {
    "duration": 41,
    "start_time": "2023-05-17T17:48:36.459Z"
   },
   {
    "duration": 48,
    "start_time": "2023-05-17T17:48:36.502Z"
   },
   {
    "duration": 7,
    "start_time": "2023-05-17T17:48:36.552Z"
   },
   {
    "duration": 5,
    "start_time": "2023-05-17T17:48:36.561Z"
   },
   {
    "duration": 375,
    "start_time": "2023-05-17T17:48:36.567Z"
   },
   {
    "duration": 129,
    "start_time": "2023-05-17T17:48:36.944Z"
   },
   {
    "duration": 136,
    "start_time": "2023-05-17T17:48:37.075Z"
   },
   {
    "duration": 132,
    "start_time": "2023-05-17T17:48:37.212Z"
   },
   {
    "duration": 232,
    "start_time": "2023-05-17T17:48:37.347Z"
   },
   {
    "duration": 139,
    "start_time": "2023-05-17T17:48:37.580Z"
   },
   {
    "duration": 137,
    "start_time": "2023-05-17T17:48:37.721Z"
   },
   {
    "duration": 145,
    "start_time": "2023-05-17T17:48:37.859Z"
   },
   {
    "duration": 12,
    "start_time": "2023-05-17T17:48:38.006Z"
   },
   {
    "duration": 155,
    "start_time": "2023-05-17T17:48:38.019Z"
   },
   {
    "duration": 124,
    "start_time": "2023-05-17T17:48:38.175Z"
   },
   {
    "duration": 142,
    "start_time": "2023-05-17T17:48:38.301Z"
   },
   {
    "duration": 127,
    "start_time": "2023-05-17T17:48:38.445Z"
   },
   {
    "duration": 119,
    "start_time": "2023-05-17T17:48:38.574Z"
   },
   {
    "duration": 5,
    "start_time": "2023-05-17T17:48:38.695Z"
   },
   {
    "duration": 196,
    "start_time": "2023-05-17T17:48:38.702Z"
   },
   {
    "duration": 200,
    "start_time": "2023-05-17T17:48:38.899Z"
   },
   {
    "duration": 191,
    "start_time": "2023-05-17T17:48:39.101Z"
   },
   {
    "duration": 197,
    "start_time": "2023-05-17T17:48:39.293Z"
   },
   {
    "duration": 1437,
    "start_time": "2023-05-17T17:48:39.492Z"
   },
   {
    "duration": 1246,
    "start_time": "2023-05-17T17:49:36.943Z"
   },
   {
    "duration": 258,
    "start_time": "2023-05-17T17:51:31.881Z"
   },
   {
    "duration": 184,
    "start_time": "2023-05-17T17:51:39.048Z"
   },
   {
    "duration": 183,
    "start_time": "2023-05-17T17:51:45.347Z"
   },
   {
    "duration": 132,
    "start_time": "2023-05-17T17:52:55.688Z"
   },
   {
    "duration": 11,
    "start_time": "2023-05-17T17:58:22.744Z"
   },
   {
    "duration": 1269,
    "start_time": "2023-05-17T17:59:55.713Z"
   },
   {
    "duration": 131,
    "start_time": "2023-05-17T18:01:11.185Z"
   },
   {
    "duration": 20,
    "start_time": "2023-05-17T18:03:12.191Z"
   },
   {
    "duration": 155,
    "start_time": "2023-05-17T18:07:15.313Z"
   },
   {
    "duration": 1164,
    "start_time": "2023-05-17T18:08:32.105Z"
   },
   {
    "duration": 17,
    "start_time": "2023-05-17T18:08:52.426Z"
   },
   {
    "duration": 14,
    "start_time": "2023-05-17T18:09:31.051Z"
   },
   {
    "duration": 20604,
    "start_time": "2023-05-17T18:09:48.355Z"
   },
   {
    "duration": 20152,
    "start_time": "2023-05-17T18:17:15.293Z"
   },
   {
    "duration": 3084,
    "start_time": "2023-05-17T18:31:17.881Z"
   },
   {
    "duration": 145,
    "start_time": "2023-05-17T18:33:08.631Z"
   },
   {
    "duration": 461,
    "start_time": "2023-05-17T18:36:28.957Z"
   },
   {
    "duration": 11,
    "start_time": "2023-05-17T18:41:42.627Z"
   },
   {
    "duration": 11,
    "start_time": "2023-05-17T18:41:52.354Z"
   },
   {
    "duration": 12,
    "start_time": "2023-05-17T18:42:36.577Z"
   },
   {
    "duration": 12,
    "start_time": "2023-05-17T18:42:59.700Z"
   },
   {
    "duration": 372,
    "start_time": "2023-05-17T18:43:11.396Z"
   },
   {
    "duration": 10,
    "start_time": "2023-05-17T18:53:22.454Z"
   },
   {
    "duration": 370,
    "start_time": "2023-05-17T18:53:30.311Z"
   },
   {
    "duration": 2945,
    "start_time": "2023-05-18T16:47:33.802Z"
   },
   {
    "duration": 47,
    "start_time": "2023-05-18T16:47:36.750Z"
   },
   {
    "duration": 54,
    "start_time": "2023-05-18T16:47:36.798Z"
   },
   {
    "duration": 11,
    "start_time": "2023-05-18T16:47:36.854Z"
   },
   {
    "duration": 8,
    "start_time": "2023-05-18T16:47:36.867Z"
   },
   {
    "duration": 404,
    "start_time": "2023-05-18T16:47:36.878Z"
   },
   {
    "duration": 160,
    "start_time": "2023-05-18T16:47:37.284Z"
   },
   {
    "duration": 162,
    "start_time": "2023-05-18T16:47:37.446Z"
   },
   {
    "duration": 141,
    "start_time": "2023-05-18T16:47:37.610Z"
   },
   {
    "duration": 240,
    "start_time": "2023-05-18T16:47:37.754Z"
   },
   {
    "duration": 147,
    "start_time": "2023-05-18T16:47:37.995Z"
   },
   {
    "duration": 148,
    "start_time": "2023-05-18T16:47:38.143Z"
   },
   {
    "duration": 166,
    "start_time": "2023-05-18T16:47:38.293Z"
   },
   {
    "duration": 9,
    "start_time": "2023-05-18T16:47:38.461Z"
   },
   {
    "duration": 176,
    "start_time": "2023-05-18T16:47:38.472Z"
   },
   {
    "duration": 156,
    "start_time": "2023-05-18T16:47:38.652Z"
   },
   {
    "duration": 168,
    "start_time": "2023-05-18T16:47:38.810Z"
   },
   {
    "duration": 135,
    "start_time": "2023-05-18T16:47:38.980Z"
   },
   {
    "duration": 133,
    "start_time": "2023-05-18T16:47:39.117Z"
   },
   {
    "duration": 6,
    "start_time": "2023-05-18T16:47:39.251Z"
   },
   {
    "duration": 208,
    "start_time": "2023-05-18T16:47:39.259Z"
   },
   {
    "duration": 248,
    "start_time": "2023-05-18T16:47:39.469Z"
   },
   {
    "duration": 232,
    "start_time": "2023-05-18T16:47:39.725Z"
   },
   {
    "duration": 209,
    "start_time": "2023-05-18T16:47:39.959Z"
   },
   {
    "duration": 228,
    "start_time": "2023-05-18T16:47:40.170Z"
   },
   {
    "duration": 507,
    "start_time": "2023-05-18T16:47:40.400Z"
   },
   {
    "duration": 89,
    "start_time": "2023-05-18T16:52:59.857Z"
   },
   {
    "duration": 398,
    "start_time": "2023-05-18T16:54:17.246Z"
   },
   {
    "duration": 453,
    "start_time": "2023-05-18T16:55:00.042Z"
   },
   {
    "duration": 28,
    "start_time": "2023-05-18T16:59:25.918Z"
   },
   {
    "duration": 20,
    "start_time": "2023-05-18T17:37:57.591Z"
   },
   {
    "duration": 379,
    "start_time": "2023-05-18T17:38:21.191Z"
   },
   {
    "duration": 343,
    "start_time": "2023-05-18T17:38:41.098Z"
   },
   {
    "duration": 376,
    "start_time": "2023-05-18T17:38:52.544Z"
   },
   {
    "duration": 443,
    "start_time": "2023-05-18T17:40:14.154Z"
   },
   {
    "duration": 349,
    "start_time": "2023-05-18T17:40:25.001Z"
   },
   {
    "duration": 138,
    "start_time": "2023-05-18T17:42:40.627Z"
   },
   {
    "duration": 133,
    "start_time": "2023-05-18T17:43:27.404Z"
   },
   {
    "duration": 129,
    "start_time": "2023-05-18T17:43:34.992Z"
   },
   {
    "duration": 150,
    "start_time": "2023-05-18T17:47:26.882Z"
   },
   {
    "duration": 140,
    "start_time": "2023-05-18T17:47:52.853Z"
   },
   {
    "duration": 163,
    "start_time": "2023-05-18T17:49:15.190Z"
   },
   {
    "duration": 157,
    "start_time": "2023-05-18T17:49:23.846Z"
   },
   {
    "duration": 295,
    "start_time": "2023-05-18T17:49:36.501Z"
   },
   {
    "duration": 163,
    "start_time": "2023-05-18T17:49:48.643Z"
   },
   {
    "duration": 212,
    "start_time": "2023-05-18T17:49:55.719Z"
   },
   {
    "duration": 169,
    "start_time": "2023-05-18T17:50:02.523Z"
   },
   {
    "duration": 202,
    "start_time": "2023-05-18T17:50:09.486Z"
   },
   {
    "duration": 168,
    "start_time": "2023-05-18T17:50:17.853Z"
   },
   {
    "duration": 210,
    "start_time": "2023-05-18T17:50:29.717Z"
   },
   {
    "duration": 166,
    "start_time": "2023-05-18T17:50:36.526Z"
   },
   {
    "duration": 150,
    "start_time": "2023-05-18T17:50:45.299Z"
   },
   {
    "duration": 200,
    "start_time": "2023-05-18T17:53:13.358Z"
   },
   {
    "duration": 207,
    "start_time": "2023-05-18T17:54:39.459Z"
   },
   {
    "duration": 224,
    "start_time": "2023-05-18T17:57:38.723Z"
   },
   {
    "duration": 165,
    "start_time": "2023-05-18T18:02:08.941Z"
   },
   {
    "duration": 170,
    "start_time": "2023-05-18T18:03:13.602Z"
   },
   {
    "duration": 253,
    "start_time": "2023-05-18T18:05:38.884Z"
   },
   {
    "duration": 232,
    "start_time": "2023-05-18T18:08:01.198Z"
   },
   {
    "duration": 223,
    "start_time": "2023-05-18T18:08:29.951Z"
   },
   {
    "duration": 153,
    "start_time": "2023-05-18T18:09:40.849Z"
   },
   {
    "duration": 522,
    "start_time": "2023-05-18T18:17:46.552Z"
   },
   {
    "duration": 379,
    "start_time": "2023-05-18T18:18:34.073Z"
   },
   {
    "duration": 206,
    "start_time": "2023-05-18T18:18:49.889Z"
   },
   {
    "duration": 307,
    "start_time": "2023-05-18T18:19:23.655Z"
   },
   {
    "duration": 2150,
    "start_time": "2023-05-18T18:22:42.302Z"
   },
   {
    "duration": 53,
    "start_time": "2023-05-18T18:25:15.595Z"
   },
   {
    "duration": 183,
    "start_time": "2023-05-18T18:25:31.935Z"
   },
   {
    "duration": 172,
    "start_time": "2023-05-18T18:26:00.433Z"
   },
   {
    "duration": 2118,
    "start_time": "2023-05-18T18:26:00.607Z"
   },
   {
    "duration": 177,
    "start_time": "2023-05-18T18:27:02.451Z"
   },
   {
    "duration": 928,
    "start_time": "2023-05-18T18:28:05.341Z"
   },
   {
    "duration": 183,
    "start_time": "2023-05-18T18:28:24.940Z"
   },
   {
    "duration": 189,
    "start_time": "2023-05-18T18:28:44.733Z"
   },
   {
    "duration": 209,
    "start_time": "2023-05-18T18:29:47.918Z"
   },
   {
    "duration": 2654,
    "start_time": "2023-05-19T17:16:39.837Z"
   },
   {
    "duration": 38,
    "start_time": "2023-05-19T17:16:42.493Z"
   },
   {
    "duration": 47,
    "start_time": "2023-05-19T17:16:42.533Z"
   },
   {
    "duration": 9,
    "start_time": "2023-05-19T17:16:42.585Z"
   },
   {
    "duration": 5,
    "start_time": "2023-05-19T17:16:42.595Z"
   },
   {
    "duration": 353,
    "start_time": "2023-05-19T17:16:42.601Z"
   },
   {
    "duration": 119,
    "start_time": "2023-05-19T17:16:42.955Z"
   },
   {
    "duration": 130,
    "start_time": "2023-05-19T17:16:43.076Z"
   },
   {
    "duration": 116,
    "start_time": "2023-05-19T17:16:43.208Z"
   },
   {
    "duration": 198,
    "start_time": "2023-05-19T17:16:43.326Z"
   },
   {
    "duration": 127,
    "start_time": "2023-05-19T17:16:43.525Z"
   },
   {
    "duration": 134,
    "start_time": "2023-05-19T17:16:43.654Z"
   },
   {
    "duration": 135,
    "start_time": "2023-05-19T17:16:43.790Z"
   },
   {
    "duration": 111,
    "start_time": "2023-05-19T17:16:43.927Z"
   },
   {
    "duration": 138,
    "start_time": "2023-05-19T17:16:44.039Z"
   },
   {
    "duration": 131,
    "start_time": "2023-05-19T17:16:44.178Z"
   },
   {
    "duration": 124,
    "start_time": "2023-05-19T17:16:44.311Z"
   },
   {
    "duration": 124,
    "start_time": "2023-05-19T17:16:44.437Z"
   },
   {
    "duration": 145,
    "start_time": "2023-05-19T17:16:44.563Z"
   },
   {
    "duration": 115,
    "start_time": "2023-05-19T17:16:44.709Z"
   },
   {
    "duration": 5,
    "start_time": "2023-05-19T17:16:44.825Z"
   },
   {
    "duration": 195,
    "start_time": "2023-05-19T17:16:44.831Z"
   },
   {
    "duration": 236,
    "start_time": "2023-05-19T17:16:45.028Z"
   },
   {
    "duration": 165,
    "start_time": "2023-05-19T17:16:45.266Z"
   },
   {
    "duration": 125,
    "start_time": "2023-05-19T17:16:45.432Z"
   },
   {
    "duration": 283,
    "start_time": "2023-05-19T17:16:45.559Z"
   },
   {
    "duration": 133,
    "start_time": "2023-05-19T17:16:45.843Z"
   },
   {
    "duration": 132,
    "start_time": "2023-05-19T17:16:45.985Z"
   },
   {
    "duration": 127,
    "start_time": "2023-05-19T17:16:46.118Z"
   },
   {
    "duration": 75,
    "start_time": "2023-05-19T17:16:46.246Z"
   },
   {
    "duration": 30,
    "start_time": "2023-05-19T17:22:51.874Z"
   },
   {
    "duration": 29,
    "start_time": "2023-05-19T17:24:29.185Z"
   },
   {
    "duration": 67,
    "start_time": "2023-05-19T17:29:18.454Z"
   },
   {
    "duration": 18,
    "start_time": "2023-05-19T17:29:30.167Z"
   },
   {
    "duration": 130,
    "start_time": "2023-05-19T17:29:49.265Z"
   },
   {
    "duration": 3010,
    "start_time": "2023-05-20T11:30:24.145Z"
   },
   {
    "duration": 49,
    "start_time": "2023-05-20T11:30:27.157Z"
   },
   {
    "duration": 55,
    "start_time": "2023-05-20T11:30:27.208Z"
   },
   {
    "duration": 22,
    "start_time": "2023-05-20T11:30:27.265Z"
   },
   {
    "duration": 6,
    "start_time": "2023-05-20T11:30:27.291Z"
   },
   {
    "duration": 389,
    "start_time": "2023-05-20T11:30:27.299Z"
   },
   {
    "duration": 156,
    "start_time": "2023-05-20T11:30:27.690Z"
   },
   {
    "duration": 157,
    "start_time": "2023-05-20T11:30:27.849Z"
   },
   {
    "duration": 142,
    "start_time": "2023-05-20T11:30:28.007Z"
   },
   {
    "duration": 253,
    "start_time": "2023-05-20T11:30:28.150Z"
   },
   {
    "duration": 160,
    "start_time": "2023-05-20T11:30:28.405Z"
   },
   {
    "duration": 166,
    "start_time": "2023-05-20T11:30:28.567Z"
   },
   {
    "duration": 160,
    "start_time": "2023-05-20T11:30:28.735Z"
   },
   {
    "duration": 132,
    "start_time": "2023-05-20T11:30:28.898Z"
   },
   {
    "duration": 156,
    "start_time": "2023-05-20T11:30:29.031Z"
   },
   {
    "duration": 142,
    "start_time": "2023-05-20T11:30:29.188Z"
   },
   {
    "duration": 150,
    "start_time": "2023-05-20T11:30:29.332Z"
   },
   {
    "duration": 155,
    "start_time": "2023-05-20T11:30:29.484Z"
   },
   {
    "duration": 166,
    "start_time": "2023-05-20T11:30:29.640Z"
   },
   {
    "duration": 147,
    "start_time": "2023-05-20T11:30:29.808Z"
   },
   {
    "duration": 6,
    "start_time": "2023-05-20T11:30:29.957Z"
   },
   {
    "duration": 203,
    "start_time": "2023-05-20T11:30:29.964Z"
   },
   {
    "duration": 298,
    "start_time": "2023-05-20T11:30:30.169Z"
   },
   {
    "duration": 203,
    "start_time": "2023-05-20T11:30:30.469Z"
   },
   {
    "duration": 152,
    "start_time": "2023-05-20T11:30:30.678Z"
   },
   {
    "duration": 332,
    "start_time": "2023-05-20T11:30:30.832Z"
   },
   {
    "duration": 161,
    "start_time": "2023-05-20T11:30:31.166Z"
   },
   {
    "duration": 167,
    "start_time": "2023-05-20T11:30:31.328Z"
   },
   {
    "duration": 168,
    "start_time": "2023-05-20T11:30:31.497Z"
   },
   {
    "duration": 48,
    "start_time": "2023-05-20T11:30:31.667Z"
   },
   {
    "duration": 166,
    "start_time": "2023-05-20T11:30:31.717Z"
   },
   {
    "duration": 105,
    "start_time": "2023-05-20T11:30:31.884Z"
   },
   {
    "duration": 2718,
    "start_time": "2023-05-20T12:08:06.193Z"
   },
   {
    "duration": 48,
    "start_time": "2023-05-20T12:08:08.913Z"
   },
   {
    "duration": 53,
    "start_time": "2023-05-20T12:08:08.963Z"
   },
   {
    "duration": 10,
    "start_time": "2023-05-20T12:08:09.018Z"
   },
   {
    "duration": 6,
    "start_time": "2023-05-20T12:08:09.030Z"
   },
   {
    "duration": 362,
    "start_time": "2023-05-20T12:08:09.038Z"
   },
   {
    "duration": 167,
    "start_time": "2023-05-20T12:08:09.402Z"
   },
   {
    "duration": 160,
    "start_time": "2023-05-20T12:08:09.571Z"
   },
   {
    "duration": 144,
    "start_time": "2023-05-20T12:08:09.733Z"
   },
   {
    "duration": 261,
    "start_time": "2023-05-20T12:08:09.879Z"
   },
   {
    "duration": 164,
    "start_time": "2023-05-20T12:08:10.142Z"
   },
   {
    "duration": 170,
    "start_time": "2023-05-20T12:08:10.308Z"
   },
   {
    "duration": 172,
    "start_time": "2023-05-20T12:08:10.480Z"
   },
   {
    "duration": 136,
    "start_time": "2023-05-20T12:08:10.656Z"
   },
   {
    "duration": 166,
    "start_time": "2023-05-20T12:08:10.794Z"
   },
   {
    "duration": 158,
    "start_time": "2023-05-20T12:08:10.962Z"
   },
   {
    "duration": 157,
    "start_time": "2023-05-20T12:08:11.122Z"
   },
   {
    "duration": 150,
    "start_time": "2023-05-20T12:08:11.282Z"
   },
   {
    "duration": 171,
    "start_time": "2023-05-20T12:08:11.435Z"
   },
   {
    "duration": 150,
    "start_time": "2023-05-20T12:08:11.608Z"
   },
   {
    "duration": 19,
    "start_time": "2023-05-20T12:08:11.760Z"
   },
   {
    "duration": 190,
    "start_time": "2023-05-20T12:08:11.781Z"
   },
   {
    "duration": 291,
    "start_time": "2023-05-20T12:08:11.977Z"
   },
   {
    "duration": 212,
    "start_time": "2023-05-20T12:08:12.269Z"
   },
   {
    "duration": 149,
    "start_time": "2023-05-20T12:08:12.482Z"
   },
   {
    "duration": 324,
    "start_time": "2023-05-20T12:08:12.633Z"
   },
   {
    "duration": 164,
    "start_time": "2023-05-20T12:08:12.959Z"
   },
   {
    "duration": 164,
    "start_time": "2023-05-20T12:08:13.125Z"
   },
   {
    "duration": 148,
    "start_time": "2023-05-20T12:08:13.291Z"
   },
   {
    "duration": 49,
    "start_time": "2023-05-20T12:08:13.442Z"
   },
   {
    "duration": 174,
    "start_time": "2023-05-20T12:08:13.492Z"
   },
   {
    "duration": 104,
    "start_time": "2023-05-20T14:00:27.067Z"
   },
   {
    "duration": 44,
    "start_time": "2023-05-20T14:01:05.071Z"
   },
   {
    "duration": 9,
    "start_time": "2023-05-20T14:02:09.610Z"
   },
   {
    "duration": 10,
    "start_time": "2023-05-20T14:02:25.024Z"
   },
   {
    "duration": 18,
    "start_time": "2023-05-20T14:02:52.899Z"
   },
   {
    "duration": 3174,
    "start_time": "2023-05-22T14:37:12.967Z"
   },
   {
    "duration": 51,
    "start_time": "2023-05-22T14:37:16.143Z"
   },
   {
    "duration": 57,
    "start_time": "2023-05-22T14:37:16.195Z"
   },
   {
    "duration": 10,
    "start_time": "2023-05-22T14:37:16.254Z"
   },
   {
    "duration": 25,
    "start_time": "2023-05-22T14:37:16.266Z"
   },
   {
    "duration": 378,
    "start_time": "2023-05-22T14:37:16.293Z"
   },
   {
    "duration": 176,
    "start_time": "2023-05-22T14:37:16.673Z"
   },
   {
    "duration": 174,
    "start_time": "2023-05-22T14:37:16.850Z"
   },
   {
    "duration": 172,
    "start_time": "2023-05-22T14:37:17.025Z"
   },
   {
    "duration": 276,
    "start_time": "2023-05-22T14:37:17.200Z"
   },
   {
    "duration": 172,
    "start_time": "2023-05-22T14:37:17.477Z"
   },
   {
    "duration": 180,
    "start_time": "2023-05-22T14:37:17.651Z"
   },
   {
    "duration": 187,
    "start_time": "2023-05-22T14:37:17.833Z"
   },
   {
    "duration": 141,
    "start_time": "2023-05-22T14:37:18.022Z"
   },
   {
    "duration": 180,
    "start_time": "2023-05-22T14:37:18.165Z"
   },
   {
    "duration": 166,
    "start_time": "2023-05-22T14:37:18.347Z"
   },
   {
    "duration": 161,
    "start_time": "2023-05-22T14:37:18.515Z"
   },
   {
    "duration": 157,
    "start_time": "2023-05-22T14:37:18.677Z"
   },
   {
    "duration": 181,
    "start_time": "2023-05-22T14:37:18.836Z"
   },
   {
    "duration": 157,
    "start_time": "2023-05-22T14:37:19.019Z"
   },
   {
    "duration": 13,
    "start_time": "2023-05-22T14:37:19.178Z"
   },
   {
    "duration": 221,
    "start_time": "2023-05-22T14:37:19.193Z"
   },
   {
    "duration": 317,
    "start_time": "2023-05-22T14:37:19.416Z"
   },
   {
    "duration": 221,
    "start_time": "2023-05-22T14:37:19.735Z"
   },
   {
    "duration": 176,
    "start_time": "2023-05-22T14:37:19.958Z"
   },
   {
    "duration": 393,
    "start_time": "2023-05-22T14:37:20.137Z"
   },
   {
    "duration": 182,
    "start_time": "2023-05-22T14:37:20.533Z"
   },
   {
    "duration": 188,
    "start_time": "2023-05-22T14:37:20.718Z"
   },
   {
    "duration": 176,
    "start_time": "2023-05-22T14:37:20.908Z"
   },
   {
    "duration": 44,
    "start_time": "2023-05-22T14:37:21.087Z"
   },
   {
    "duration": 222,
    "start_time": "2023-05-22T14:37:21.133Z"
   },
   {
    "duration": 155,
    "start_time": "2023-05-22T14:37:44.650Z"
   },
   {
    "duration": 129,
    "start_time": "2023-05-22T14:37:53.534Z"
   },
   {
    "duration": 3307,
    "start_time": "2023-05-23T17:48:30.888Z"
   },
   {
    "duration": 74,
    "start_time": "2023-05-23T17:48:34.199Z"
   },
   {
    "duration": 76,
    "start_time": "2023-05-23T17:48:34.276Z"
   },
   {
    "duration": 11,
    "start_time": "2023-05-23T17:48:34.358Z"
   },
   {
    "duration": 15,
    "start_time": "2023-05-23T17:48:34.375Z"
   },
   {
    "duration": 447,
    "start_time": "2023-05-23T17:48:34.392Z"
   },
   {
    "duration": 238,
    "start_time": "2023-05-23T17:48:34.842Z"
   },
   {
    "duration": 169,
    "start_time": "2023-05-23T17:48:35.082Z"
   },
   {
    "duration": 246,
    "start_time": "2023-05-23T17:48:35.258Z"
   },
   {
    "duration": 322,
    "start_time": "2023-05-23T17:48:35.507Z"
   },
   {
    "duration": 197,
    "start_time": "2023-05-23T17:48:35.831Z"
   },
   {
    "duration": 194,
    "start_time": "2023-05-23T17:48:36.030Z"
   },
   {
    "duration": 213,
    "start_time": "2023-05-23T17:48:36.226Z"
   },
   {
    "duration": 194,
    "start_time": "2023-05-23T17:48:36.442Z"
   },
   {
    "duration": 213,
    "start_time": "2023-05-23T17:48:36.639Z"
   },
   {
    "duration": 225,
    "start_time": "2023-05-23T17:48:36.854Z"
   },
   {
    "duration": 159,
    "start_time": "2023-05-23T17:48:37.081Z"
   },
   {
    "duration": 189,
    "start_time": "2023-05-23T17:48:37.243Z"
   },
   {
    "duration": 201,
    "start_time": "2023-05-23T17:48:37.434Z"
   },
   {
    "duration": 172,
    "start_time": "2023-05-23T17:48:37.637Z"
   },
   {
    "duration": 8,
    "start_time": "2023-05-23T17:48:37.811Z"
   },
   {
    "duration": 377,
    "start_time": "2023-05-23T17:48:37.821Z"
   },
   {
    "duration": 317,
    "start_time": "2023-05-23T17:48:38.199Z"
   },
   {
    "duration": 220,
    "start_time": "2023-05-23T17:48:38.518Z"
   },
   {
    "duration": 177,
    "start_time": "2023-05-23T17:48:38.740Z"
   },
   {
    "duration": 386,
    "start_time": "2023-05-23T17:48:38.919Z"
   },
   {
    "duration": 179,
    "start_time": "2023-05-23T17:48:39.307Z"
   },
   {
    "duration": 189,
    "start_time": "2023-05-23T17:48:39.488Z"
   },
   {
    "duration": 166,
    "start_time": "2023-05-23T17:48:39.680Z"
   },
   {
    "duration": 52,
    "start_time": "2023-05-23T17:48:39.848Z"
   },
   {
    "duration": 202,
    "start_time": "2023-05-23T17:48:39.901Z"
   },
   {
    "duration": 2233,
    "start_time": "2023-05-23T17:59:39.576Z"
   },
   {
    "duration": 55,
    "start_time": "2023-05-23T17:59:41.811Z"
   },
   {
    "duration": 58,
    "start_time": "2023-05-23T17:59:41.868Z"
   },
   {
    "duration": 9,
    "start_time": "2023-05-23T17:59:41.928Z"
   },
   {
    "duration": 5,
    "start_time": "2023-05-23T17:59:41.957Z"
   },
   {
    "duration": 390,
    "start_time": "2023-05-23T17:59:41.964Z"
   },
   {
    "duration": 154,
    "start_time": "2023-05-23T17:59:42.355Z"
   },
   {
    "duration": 163,
    "start_time": "2023-05-23T17:59:42.511Z"
   },
   {
    "duration": 262,
    "start_time": "2023-05-23T17:59:42.675Z"
   },
   {
    "duration": 190,
    "start_time": "2023-05-23T17:59:42.939Z"
   },
   {
    "duration": 174,
    "start_time": "2023-05-23T17:59:43.130Z"
   },
   {
    "duration": 169,
    "start_time": "2023-05-23T17:59:43.305Z"
   },
   {
    "duration": 161,
    "start_time": "2023-05-23T17:59:43.476Z"
   },
   {
    "duration": 139,
    "start_time": "2023-05-23T17:59:43.639Z"
   },
   {
    "duration": 201,
    "start_time": "2023-05-23T17:59:43.780Z"
   },
   {
    "duration": 193,
    "start_time": "2023-05-23T17:59:43.986Z"
   },
   {
    "duration": 190,
    "start_time": "2023-05-23T17:59:44.181Z"
   },
   {
    "duration": 131,
    "start_time": "2023-05-23T17:59:44.373Z"
   },
   {
    "duration": 169,
    "start_time": "2023-05-23T17:59:44.506Z"
   },
   {
    "duration": 164,
    "start_time": "2023-05-23T17:59:44.676Z"
   },
   {
    "duration": 6,
    "start_time": "2023-05-23T17:59:44.842Z"
   },
   {
    "duration": 215,
    "start_time": "2023-05-23T17:59:44.860Z"
   },
   {
    "duration": 202,
    "start_time": "2023-05-23T17:59:45.076Z"
   },
   {
    "duration": 202,
    "start_time": "2023-05-23T17:59:45.279Z"
   },
   {
    "duration": 162,
    "start_time": "2023-05-23T17:59:45.482Z"
   },
   {
    "duration": 298,
    "start_time": "2023-05-23T17:59:45.646Z"
   },
   {
    "duration": 178,
    "start_time": "2023-05-23T17:59:45.946Z"
   },
   {
    "duration": 175,
    "start_time": "2023-05-23T17:59:46.127Z"
   },
   {
    "duration": 172,
    "start_time": "2023-05-23T17:59:46.304Z"
   },
   {
    "duration": 37,
    "start_time": "2023-05-23T17:59:46.477Z"
   },
   {
    "duration": 341,
    "start_time": "2023-05-23T17:59:46.515Z"
   },
   {
    "duration": 2163,
    "start_time": "2023-05-23T18:00:41.000Z"
   },
   {
    "duration": 63,
    "start_time": "2023-05-23T18:01:14.469Z"
   },
   {
    "duration": 62,
    "start_time": "2023-05-23T18:05:23.239Z"
   },
   {
    "duration": 377,
    "start_time": "2023-05-23T18:07:13.343Z"
   },
   {
    "duration": 354,
    "start_time": "2023-05-23T18:10:44.515Z"
   },
   {
    "duration": 237,
    "start_time": "2023-05-23T18:10:53.950Z"
   },
   {
    "duration": 194,
    "start_time": "2023-05-23T18:11:03.149Z"
   },
   {
    "duration": 205,
    "start_time": "2023-05-23T18:11:15.479Z"
   },
   {
    "duration": 180,
    "start_time": "2023-05-23T18:12:21.892Z"
   },
   {
    "duration": 176,
    "start_time": "2023-05-23T18:12:28.450Z"
   },
   {
    "duration": 205,
    "start_time": "2023-05-23T18:13:31.777Z"
   },
   {
    "duration": 202,
    "start_time": "2023-05-23T18:15:21.635Z"
   },
   {
    "duration": 226,
    "start_time": "2023-05-23T18:17:21.202Z"
   },
   {
    "duration": 172,
    "start_time": "2023-05-23T18:17:32.738Z"
   },
   {
    "duration": 180,
    "start_time": "2023-05-23T18:17:46.090Z"
   },
   {
    "duration": 186,
    "start_time": "2023-05-23T18:17:59.354Z"
   },
   {
    "duration": 316,
    "start_time": "2023-05-23T18:18:53.934Z"
   },
   {
    "duration": 2376,
    "start_time": "2023-05-23T18:20:47.691Z"
   },
   {
    "duration": 66,
    "start_time": "2023-05-23T18:20:50.073Z"
   },
   {
    "duration": 80,
    "start_time": "2023-05-23T18:20:50.141Z"
   },
   {
    "duration": 11,
    "start_time": "2023-05-23T18:20:50.224Z"
   },
   {
    "duration": 29,
    "start_time": "2023-05-23T18:20:50.237Z"
   },
   {
    "duration": 460,
    "start_time": "2023-05-23T18:20:50.268Z"
   },
   {
    "duration": 255,
    "start_time": "2023-05-23T18:20:50.730Z"
   },
   {
    "duration": 226,
    "start_time": "2023-05-23T18:20:50.987Z"
   },
   {
    "duration": 226,
    "start_time": "2023-05-23T18:20:51.215Z"
   },
   {
    "duration": 277,
    "start_time": "2023-05-23T18:20:51.444Z"
   },
   {
    "duration": 256,
    "start_time": "2023-05-23T18:20:51.724Z"
   },
   {
    "duration": 227,
    "start_time": "2023-05-23T18:20:51.982Z"
   },
   {
    "duration": 194,
    "start_time": "2023-05-23T18:20:52.211Z"
   },
   {
    "duration": 151,
    "start_time": "2023-05-23T18:20:52.407Z"
   },
   {
    "duration": 185,
    "start_time": "2023-05-23T18:20:52.565Z"
   },
   {
    "duration": 171,
    "start_time": "2023-05-23T18:20:52.751Z"
   },
   {
    "duration": 180,
    "start_time": "2023-05-23T18:20:52.924Z"
   },
   {
    "duration": 175,
    "start_time": "2023-05-23T18:20:53.106Z"
   },
   {
    "duration": 207,
    "start_time": "2023-05-23T18:20:53.284Z"
   },
   {
    "duration": 194,
    "start_time": "2023-05-23T18:20:53.493Z"
   },
   {
    "duration": 6,
    "start_time": "2023-05-23T18:20:53.689Z"
   },
   {
    "duration": 286,
    "start_time": "2023-05-23T18:20:53.698Z"
   },
   {
    "duration": 303,
    "start_time": "2023-05-23T18:20:53.985Z"
   },
   {
    "duration": 301,
    "start_time": "2023-05-23T18:20:54.291Z"
   },
   {
    "duration": 194,
    "start_time": "2023-05-23T18:20:54.594Z"
   },
   {
    "duration": 287,
    "start_time": "2023-05-23T18:20:54.790Z"
   },
   {
    "duration": 208,
    "start_time": "2023-05-23T18:20:55.080Z"
   },
   {
    "duration": 201,
    "start_time": "2023-05-23T18:20:55.292Z"
   },
   {
    "duration": 185,
    "start_time": "2023-05-23T18:20:55.495Z"
   },
   {
    "duration": 37,
    "start_time": "2023-05-23T18:20:55.682Z"
   },
   {
    "duration": 445,
    "start_time": "2023-05-23T18:20:55.721Z"
   },
   {
    "duration": 175,
    "start_time": "2023-05-23T18:21:22.942Z"
   },
   {
    "duration": 224,
    "start_time": "2023-05-23T19:04:08.107Z"
   },
   {
    "duration": 150,
    "start_time": "2023-05-23T19:04:16.596Z"
   },
   {
    "duration": 160,
    "start_time": "2023-05-23T19:04:46.157Z"
   },
   {
    "duration": 203,
    "start_time": "2023-05-23T19:05:24.182Z"
   },
   {
    "duration": 155,
    "start_time": "2023-05-23T19:09:06.121Z"
   },
   {
    "duration": 3108,
    "start_time": "2024-03-08T17:49:54.726Z"
   },
   {
    "duration": 64,
    "start_time": "2024-03-08T17:49:57.836Z"
   },
   {
    "duration": 62,
    "start_time": "2024-03-08T17:49:57.901Z"
   },
   {
    "duration": 9,
    "start_time": "2024-03-08T17:49:57.964Z"
   },
   {
    "duration": 12,
    "start_time": "2024-03-08T17:49:57.974Z"
   },
   {
    "duration": 403,
    "start_time": "2024-03-08T17:49:57.987Z"
   },
   {
    "duration": 210,
    "start_time": "2024-03-08T17:49:58.392Z"
   },
   {
    "duration": 185,
    "start_time": "2024-03-08T17:49:58.604Z"
   },
   {
    "duration": 176,
    "start_time": "2024-03-08T17:49:58.791Z"
   },
   {
    "duration": 266,
    "start_time": "2024-03-08T17:49:58.971Z"
   },
   {
    "duration": 184,
    "start_time": "2024-03-08T17:49:59.239Z"
   },
   {
    "duration": 218,
    "start_time": "2024-03-08T17:49:59.424Z"
   },
   {
    "duration": 179,
    "start_time": "2024-03-08T17:49:59.644Z"
   },
   {
    "duration": 145,
    "start_time": "2024-03-08T17:49:59.824Z"
   },
   {
    "duration": 172,
    "start_time": "2024-03-08T17:49:59.971Z"
   },
   {
    "duration": 174,
    "start_time": "2024-03-08T17:50:00.144Z"
   },
   {
    "duration": 186,
    "start_time": "2024-03-08T17:50:00.320Z"
   },
   {
    "duration": 180,
    "start_time": "2024-03-08T17:50:00.508Z"
   },
   {
    "duration": 178,
    "start_time": "2024-03-08T17:50:00.690Z"
   },
   {
    "duration": 177,
    "start_time": "2024-03-08T17:50:00.870Z"
   },
   {
    "duration": 9,
    "start_time": "2024-03-08T17:50:01.049Z"
   },
   {
    "duration": 324,
    "start_time": "2024-03-08T17:50:01.059Z"
   },
   {
    "duration": 250,
    "start_time": "2024-03-08T17:50:01.385Z"
   },
   {
    "duration": 216,
    "start_time": "2024-03-08T17:50:01.637Z"
   },
   {
    "duration": 163,
    "start_time": "2024-03-08T17:50:01.855Z"
   },
   {
    "duration": 371,
    "start_time": "2024-03-08T17:50:02.019Z"
   },
   {
    "duration": 180,
    "start_time": "2024-03-08T17:50:02.392Z"
   },
   {
    "duration": 197,
    "start_time": "2024-03-08T17:50:02.576Z"
   },
   {
    "duration": 165,
    "start_time": "2024-03-08T17:50:02.775Z"
   },
   {
    "duration": 37,
    "start_time": "2024-03-08T17:50:02.942Z"
   },
   {
    "duration": 187,
    "start_time": "2024-03-08T17:50:02.980Z"
   }
  ],
  "kernelspec": {
   "display_name": "Python 3 (ipykernel)",
   "language": "python",
   "name": "python3"
  },
  "language_info": {
   "codemirror_mode": {
    "name": "ipython",
    "version": 3
   },
   "file_extension": ".py",
   "mimetype": "text/x-python",
   "name": "python",
   "nbconvert_exporter": "python",
   "pygments_lexer": "ipython3",
   "version": "3.12.3"
  },
  "toc": {
   "base_numbering": 1,
   "nav_menu": {},
   "number_sections": true,
   "sideBar": true,
   "skip_h1_title": true,
   "title_cell": "Table of Contents",
   "title_sidebar": "Contents",
   "toc_cell": false,
   "toc_position": {
    "height": "calc(100% - 180px)",
    "left": "10px",
    "top": "150px",
    "width": "248.391px"
   },
   "toc_section_display": true,
   "toc_window_display": true
  }
 },
 "nbformat": 4,
 "nbformat_minor": 4
}
